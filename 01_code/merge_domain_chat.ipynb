{
 "cells": [
  {
   "cell_type": "markdown",
   "id": "c6edff64-8385-4c84-9b96-adf3d54cbc23",
   "metadata": {},
   "source": [
    "# Merge domain-chat"
   ]
  },
  {
   "cell_type": "code",
   "execution_count": null,
   "id": "e78588fb-c5f5-4f0f-b387-e5be9cc02159",
   "metadata": {},
   "outputs": [],
   "source": [
    "url_chat_mapping = pd.DataFrame({'url_index': chat_url_shares.col, 'chat_index': chat_url_shares.row})\n",
    "\n",
    "# 'id' in urls_sample corresponds to 'url_index' in chat_url_share\n",
    "urls_chats = urls.rename(columns={'index': 'url_index'})  # Rename 'id' to match the mapping key\n",
    "urls_chats = urls.merge(url_chat_mapping, on='url_index', how='left')\n",
    "\n",
    "urls_chats.info()"
   ]
  }
 ],
 "metadata": {
  "kernelspec": {
   "display_name": "Python 3 (ipykernel)",
   "language": "python",
   "name": "python3"
  },
  "language_info": {
   "codemirror_mode": {
    "name": "ipython",
    "version": 3
   },
   "file_extension": ".py",
   "mimetype": "text/x-python",
   "name": "python",
   "nbconvert_exporter": "python",
   "pygments_lexer": "ipython3",
   "version": "3.10.13"
  }
 },
 "nbformat": 4,
 "nbformat_minor": 5
}
