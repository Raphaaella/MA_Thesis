{
 "cells": [
  {
   "cell_type": "markdown",
   "id": "cc043a1a-09eb-4a9f-abcd-6e1ece10445b",
   "metadata": {},
   "source": [
    "# GNN"
   ]
  },
  {
   "cell_type": "code",
   "execution_count": 1,
   "id": "c0e257fd-693c-4eb7-9545-08e090d7f966",
   "metadata": {},
   "outputs": [
    {
     "name": "stdout",
     "output_type": "stream",
     "text": [
      "Collecting torch_geometric\n",
      "  Using cached torch_geometric-2.6.1-py3-none-any.whl.metadata (63 kB)\n",
      "Collecting torch\n",
      "  Using cached torch-2.6.0-cp311-cp311-manylinux1_x86_64.whl.metadata (28 kB)\n",
      "Requirement already satisfied: aiohttp in /opt/conda/lib/python3.11/site-packages (from torch_geometric) (3.8.6)\n",
      "Requirement already satisfied: fsspec in /opt/conda/lib/python3.11/site-packages (from torch_geometric) (2023.9.2)\n",
      "Requirement already satisfied: jinja2 in /opt/conda/lib/python3.11/site-packages (from torch_geometric) (3.1.2)\n",
      "Requirement already satisfied: numpy in /opt/conda/lib/python3.11/site-packages (from torch_geometric) (1.24.4)\n",
      "Requirement already satisfied: psutil>=5.8.0 in /opt/conda/lib/python3.11/site-packages (from torch_geometric) (5.9.5)\n",
      "Requirement already satisfied: pyparsing in /opt/conda/lib/python3.11/site-packages (from torch_geometric) (3.1.1)\n",
      "Requirement already satisfied: requests in /opt/conda/lib/python3.11/site-packages (from torch_geometric) (2.31.0)\n",
      "Requirement already satisfied: tqdm in /opt/conda/lib/python3.11/site-packages (from torch_geometric) (4.66.1)\n",
      "Collecting filelock (from torch)\n",
      "  Using cached filelock-3.17.0-py3-none-any.whl.metadata (2.9 kB)\n",
      "Collecting typing-extensions>=4.10.0 (from torch)\n",
      "  Using cached typing_extensions-4.12.2-py3-none-any.whl.metadata (3.0 kB)\n",
      "Requirement already satisfied: networkx in /opt/conda/lib/python3.11/site-packages (from torch) (3.2)\n",
      "Collecting nvidia-cuda-nvrtc-cu12==12.4.127 (from torch)\n",
      "  Using cached nvidia_cuda_nvrtc_cu12-12.4.127-py3-none-manylinux2014_x86_64.whl.metadata (1.5 kB)\n",
      "Collecting nvidia-cuda-runtime-cu12==12.4.127 (from torch)\n",
      "  Using cached nvidia_cuda_runtime_cu12-12.4.127-py3-none-manylinux2014_x86_64.whl.metadata (1.5 kB)\n",
      "Collecting nvidia-cuda-cupti-cu12==12.4.127 (from torch)\n",
      "  Using cached nvidia_cuda_cupti_cu12-12.4.127-py3-none-manylinux2014_x86_64.whl.metadata (1.6 kB)\n",
      "Collecting nvidia-cudnn-cu12==9.1.0.70 (from torch)\n",
      "  Using cached nvidia_cudnn_cu12-9.1.0.70-py3-none-manylinux2014_x86_64.whl.metadata (1.6 kB)\n",
      "Collecting nvidia-cublas-cu12==12.4.5.8 (from torch)\n",
      "  Using cached nvidia_cublas_cu12-12.4.5.8-py3-none-manylinux2014_x86_64.whl.metadata (1.5 kB)\n",
      "Collecting nvidia-cufft-cu12==11.2.1.3 (from torch)\n",
      "  Using cached nvidia_cufft_cu12-11.2.1.3-py3-none-manylinux2014_x86_64.whl.metadata (1.5 kB)\n",
      "Collecting nvidia-curand-cu12==10.3.5.147 (from torch)\n",
      "  Using cached nvidia_curand_cu12-10.3.5.147-py3-none-manylinux2014_x86_64.whl.metadata (1.5 kB)\n",
      "Collecting nvidia-cusolver-cu12==11.6.1.9 (from torch)\n",
      "  Using cached nvidia_cusolver_cu12-11.6.1.9-py3-none-manylinux2014_x86_64.whl.metadata (1.6 kB)\n",
      "Collecting nvidia-cusparse-cu12==12.3.1.170 (from torch)\n",
      "  Using cached nvidia_cusparse_cu12-12.3.1.170-py3-none-manylinux2014_x86_64.whl.metadata (1.6 kB)\n",
      "Collecting nvidia-cusparselt-cu12==0.6.2 (from torch)\n",
      "  Using cached nvidia_cusparselt_cu12-0.6.2-py3-none-manylinux2014_x86_64.whl.metadata (6.8 kB)\n",
      "Collecting nvidia-nccl-cu12==2.21.5 (from torch)\n",
      "  Using cached nvidia_nccl_cu12-2.21.5-py3-none-manylinux2014_x86_64.whl.metadata (1.8 kB)\n",
      "Collecting nvidia-nvtx-cu12==12.4.127 (from torch)\n",
      "  Using cached nvidia_nvtx_cu12-12.4.127-py3-none-manylinux2014_x86_64.whl.metadata (1.7 kB)\n",
      "Collecting nvidia-nvjitlink-cu12==12.4.127 (from torch)\n",
      "  Using cached nvidia_nvjitlink_cu12-12.4.127-py3-none-manylinux2014_x86_64.whl.metadata (1.5 kB)\n",
      "Collecting triton==3.2.0 (from torch)\n",
      "  Using cached triton-3.2.0-cp311-cp311-manylinux_2_17_x86_64.manylinux2014_x86_64.whl.metadata (1.4 kB)\n",
      "Collecting sympy==1.13.1 (from torch)\n",
      "  Using cached sympy-1.13.1-py3-none-any.whl.metadata (12 kB)\n",
      "Requirement already satisfied: mpmath<1.4,>=1.1.0 in /opt/conda/lib/python3.11/site-packages (from sympy==1.13.1->torch) (1.3.0)\n",
      "Requirement already satisfied: attrs>=17.3.0 in /opt/conda/lib/python3.11/site-packages (from aiohttp->torch_geometric) (23.1.0)\n",
      "Requirement already satisfied: charset-normalizer<4.0,>=2.0 in /opt/conda/lib/python3.11/site-packages (from aiohttp->torch_geometric) (3.3.0)\n",
      "Requirement already satisfied: multidict<7.0,>=4.5 in /opt/conda/lib/python3.11/site-packages (from aiohttp->torch_geometric) (6.0.4)\n",
      "Requirement already satisfied: async-timeout<5.0,>=4.0.0a3 in /opt/conda/lib/python3.11/site-packages (from aiohttp->torch_geometric) (4.0.3)\n",
      "Requirement already satisfied: yarl<2.0,>=1.0 in /opt/conda/lib/python3.11/site-packages (from aiohttp->torch_geometric) (1.9.2)\n",
      "Requirement already satisfied: frozenlist>=1.1.1 in /opt/conda/lib/python3.11/site-packages (from aiohttp->torch_geometric) (1.4.0)\n",
      "Requirement already satisfied: aiosignal>=1.1.2 in /opt/conda/lib/python3.11/site-packages (from aiohttp->torch_geometric) (1.3.1)\n",
      "Requirement already satisfied: MarkupSafe>=2.0 in /opt/conda/lib/python3.11/site-packages (from jinja2->torch_geometric) (2.1.3)\n",
      "Requirement already satisfied: idna<4,>=2.5 in /opt/conda/lib/python3.11/site-packages (from requests->torch_geometric) (3.4)\n",
      "Requirement already satisfied: urllib3<3,>=1.21.1 in /opt/conda/lib/python3.11/site-packages (from requests->torch_geometric) (2.0.7)\n",
      "Requirement already satisfied: certifi>=2017.4.17 in /opt/conda/lib/python3.11/site-packages (from requests->torch_geometric) (2023.7.22)\n",
      "Using cached torch_geometric-2.6.1-py3-none-any.whl (1.1 MB)\n",
      "Using cached torch-2.6.0-cp311-cp311-manylinux1_x86_64.whl (766.7 MB)\n",
      "Using cached nvidia_cublas_cu12-12.4.5.8-py3-none-manylinux2014_x86_64.whl (363.4 MB)\n",
      "Using cached nvidia_cuda_cupti_cu12-12.4.127-py3-none-manylinux2014_x86_64.whl (13.8 MB)\n",
      "Using cached nvidia_cuda_nvrtc_cu12-12.4.127-py3-none-manylinux2014_x86_64.whl (24.6 MB)\n",
      "Using cached nvidia_cuda_runtime_cu12-12.4.127-py3-none-manylinux2014_x86_64.whl (883 kB)\n",
      "Using cached nvidia_cudnn_cu12-9.1.0.70-py3-none-manylinux2014_x86_64.whl (664.8 MB)\n",
      "Using cached nvidia_cufft_cu12-11.2.1.3-py3-none-manylinux2014_x86_64.whl (211.5 MB)\n",
      "Using cached nvidia_curand_cu12-10.3.5.147-py3-none-manylinux2014_x86_64.whl (56.3 MB)\n",
      "Using cached nvidia_cusolver_cu12-11.6.1.9-py3-none-manylinux2014_x86_64.whl (127.9 MB)\n",
      "Using cached nvidia_cusparse_cu12-12.3.1.170-py3-none-manylinux2014_x86_64.whl (207.5 MB)\n",
      "Using cached nvidia_cusparselt_cu12-0.6.2-py3-none-manylinux2014_x86_64.whl (150.1 MB)\n",
      "Using cached nvidia_nccl_cu12-2.21.5-py3-none-manylinux2014_x86_64.whl (188.7 MB)\n",
      "Using cached nvidia_nvjitlink_cu12-12.4.127-py3-none-manylinux2014_x86_64.whl (21.1 MB)\n",
      "Using cached nvidia_nvtx_cu12-12.4.127-py3-none-manylinux2014_x86_64.whl (99 kB)\n",
      "Using cached sympy-1.13.1-py3-none-any.whl (6.2 MB)\n",
      "Using cached triton-3.2.0-cp311-cp311-manylinux_2_17_x86_64.manylinux2014_x86_64.whl (253.2 MB)\n",
      "Using cached typing_extensions-4.12.2-py3-none-any.whl (37 kB)\n",
      "Using cached filelock-3.17.0-py3-none-any.whl (16 kB)\n",
      "Installing collected packages: triton, nvidia-cusparselt-cu12, typing-extensions, sympy, nvidia-nvtx-cu12, nvidia-nvjitlink-cu12, nvidia-nccl-cu12, nvidia-curand-cu12, nvidia-cufft-cu12, nvidia-cuda-runtime-cu12, nvidia-cuda-nvrtc-cu12, nvidia-cuda-cupti-cu12, nvidia-cublas-cu12, filelock, nvidia-cusparse-cu12, nvidia-cudnn-cu12, torch_geometric, nvidia-cusolver-cu12, torch\n",
      "  Attempting uninstall: typing-extensions\n",
      "    Found existing installation: typing_extensions 4.8.0\n",
      "    Uninstalling typing_extensions-4.8.0:\n",
      "      Successfully uninstalled typing_extensions-4.8.0\n",
      "  Attempting uninstall: sympy\n",
      "    Found existing installation: sympy 1.12\n",
      "    Uninstalling sympy-1.12:\n",
      "      Successfully uninstalled sympy-1.12\n",
      "Successfully installed filelock-3.17.0 nvidia-cublas-cu12-12.4.5.8 nvidia-cuda-cupti-cu12-12.4.127 nvidia-cuda-nvrtc-cu12-12.4.127 nvidia-cuda-runtime-cu12-12.4.127 nvidia-cudnn-cu12-9.1.0.70 nvidia-cufft-cu12-11.2.1.3 nvidia-curand-cu12-10.3.5.147 nvidia-cusolver-cu12-11.6.1.9 nvidia-cusparse-cu12-12.3.1.170 nvidia-cusparselt-cu12-0.6.2 nvidia-nccl-cu12-2.21.5 nvidia-nvjitlink-cu12-12.4.127 nvidia-nvtx-cu12-12.4.127 sympy-1.13.1 torch-2.6.0 torch_geometric-2.6.1 triton-3.2.0 typing-extensions-4.12.2\n",
      "Note: you may need to restart the kernel to use updated packages.\n"
     ]
    }
   ],
   "source": [
    "pip install torch_geometric torch"
   ]
  },
  {
   "cell_type": "code",
   "execution_count": 2,
   "id": "cd3a5d43-abc4-4b0d-add2-4db8961e2fe5",
   "metadata": {},
   "outputs": [
    {
     "name": "stdout",
     "output_type": "stream",
     "text": [
      "Collecting ast\n",
      "  Using cached AST-0.0.2.tar.gz (19 kB)\n",
      "  Preparing metadata (setup.py) ... \u001b[?25lerror\n",
      "  \u001b[1;31merror\u001b[0m: \u001b[1msubprocess-exited-with-error\u001b[0m\n",
      "  \n",
      "  \u001b[31m×\u001b[0m \u001b[32mpython setup.py egg_info\u001b[0m did not run successfully.\n",
      "  \u001b[31m│\u001b[0m exit code: \u001b[1;36m1\u001b[0m\n",
      "  \u001b[31m╰─>\u001b[0m \u001b[31m[8 lines of output]\u001b[0m\n",
      "  \u001b[31m   \u001b[0m Traceback (most recent call last):\n",
      "  \u001b[31m   \u001b[0m   File \"<string>\", line 2, in <module>\n",
      "  \u001b[31m   \u001b[0m   File \"<pip-setuptools-caller>\", line 34, in <module>\n",
      "  \u001b[31m   \u001b[0m   File \"/tmp/pip-install-70ple18t/ast_4ef6d65edb5c446db7bce3ffe80882bd/setup.py\", line 6, in <module>\n",
      "  \u001b[31m   \u001b[0m     README = codecs.open(os.path.join(here, 'AST/README'), encoding='utf8').read()\n",
      "  \u001b[31m   \u001b[0m              ^^^^^^^^^^^^^^^^^^^^^^^^^^^^^^^^^^^^^^^^^^^^^^^^^^^^^^^^^^^^^^\n",
      "  \u001b[31m   \u001b[0m   File \"<frozen codecs>\", line 918, in open\n",
      "  \u001b[31m   \u001b[0m FileNotFoundError: [Errno 2] No such file or directory: '/tmp/pip-install-70ple18t/ast_4ef6d65edb5c446db7bce3ffe80882bd/AST/README'\n",
      "  \u001b[31m   \u001b[0m \u001b[31m[end of output]\u001b[0m\n",
      "  \n",
      "  \u001b[1;35mnote\u001b[0m: This error originates from a subprocess, and is likely not a problem with pip.\n",
      "\u001b[1;31merror\u001b[0m: \u001b[1mmetadata-generation-failed\u001b[0m\n",
      "\n",
      "\u001b[31m×\u001b[0m Encountered error while generating package metadata.\n",
      "\u001b[31m╰─>\u001b[0m See above for output.\n",
      "\n",
      "\u001b[1;35mnote\u001b[0m: This is an issue with the package mentioned above, not pip.\n",
      "\u001b[1;36mhint\u001b[0m: See above for details.\n",
      "\u001b[?25hNote: you may need to restart the kernel to use updated packages.\n"
     ]
    }
   ],
   "source": [
    "pip install ast"
   ]
  },
  {
   "cell_type": "code",
   "execution_count": 3,
   "id": "9ed46d61-4ca6-481a-be0c-d6de8080e494",
   "metadata": {
    "tags": []
   },
   "outputs": [],
   "source": [
    "import torch\n",
    "import torch.nn as nn\n",
    "import torch.optim as optim\n",
    "from torch_geometric.data import Data\n",
    "from torch_geometric.nn import GCNConv\n",
    "import pandas as pd\n",
    "import numpy as np\n",
    "from sklearn.model_selection import train_test_split\n",
    "import matplotlib.pyplot as plt\n",
    "import ast\n"
   ]
  },
  {
   "cell_type": "code",
   "execution_count": 4,
   "id": "a2335c81-960f-4aef-ba84-ed7599d65be8",
   "metadata": {
    "tags": []
   },
   "outputs": [],
   "source": [
    "# Load data\n",
    "train_data = pd.read_csv('../02_data/train_test/train_data.csv')\n",
    "test_data = pd.read_csv('../02_data/train_test/test_data.csv')"
   ]
  },
  {
   "cell_type": "code",
   "execution_count": 5,
   "id": "8754baaf-fc2f-4cfb-853c-0c3c6333ff81",
   "metadata": {},
   "outputs": [],
   "source": [
    "edge_df = pd.read_csv('../02_data/train_test/train_edge_list.csv') \n",
    "edge_list = edge_df.to_numpy()"
   ]
  },
  {
   "cell_type": "code",
   "execution_count": 6,
   "id": "b19d1bb6-eca5-4b4c-ac47-535196875176",
   "metadata": {},
   "outputs": [
    {
     "data": {
      "text/plain": [
       "4753"
      ]
     },
     "execution_count": 6,
     "metadata": {},
     "output_type": "execute_result"
    }
   ],
   "source": [
    "domains = train_data['domain'].unique()\n",
    "len(domains)"
   ]
  },
  {
   "cell_type": "code",
   "execution_count": 7,
   "id": "f098d8a3-97f6-4cc0-bf6f-de9a404f7bbc",
   "metadata": {},
   "outputs": [
    {
     "data": {
      "text/plain": [
       "1189"
      ]
     },
     "execution_count": 7,
     "metadata": {},
     "output_type": "execute_result"
    }
   ],
   "source": [
    "domains = test_data['domain'].unique()\n",
    "len(domains)"
   ]
  },
  {
   "cell_type": "code",
   "execution_count": 8,
   "id": "55b00f2d-4d62-49ff-8b9d-3c4ecc66d23a",
   "metadata": {},
   "outputs": [
    {
     "data": {
      "text/plain": [
       "21147"
      ]
     },
     "execution_count": 8,
     "metadata": {},
     "output_type": "execute_result"
    }
   ],
   "source": [
    "edge_df[\"chat_id\"].nunique()"
   ]
  },
  {
   "cell_type": "code",
   "execution_count": 9,
   "id": "a5bf6d3c-b43c-46a1-ba61-e95b69446cfe",
   "metadata": {},
   "outputs": [
    {
     "data": {
      "text/plain": [
       "(1519640, 2)"
      ]
     },
     "execution_count": 9,
     "metadata": {},
     "output_type": "execute_result"
    }
   ],
   "source": [
    "edge_list.shape"
   ]
  },
  {
   "cell_type": "code",
   "execution_count": 10,
   "id": "d33f824e-435b-4943-84f1-d86f6c39de8c",
   "metadata": {
    "scrolled": true
   },
   "outputs": [
    {
     "name": "stdout",
     "output_type": "stream",
     "text": [
      "Total Nodes in Edge List: 4775\n",
      "Total Nodes in Train Data: 4753\n"
     ]
    }
   ],
   "source": [
    "edge_np = np.load(\"../02_data/train_test/validated_edges.npy\", allow_pickle=True)\n",
    "edge_nodes = set(edge_np.flatten())  # Unique nodes appearing in edges\n",
    "train_nodes = set(train_data[\"domain_index\"].values)\n",
    "\n",
    "print(f\"Total Nodes in Edge List: {len(edge_nodes)}\")\n",
    "print(f\"Total Nodes in Train Data: {len(train_nodes)}\")\n",
    "\n",
    "valid_nodes = edge_nodes & train_nodes  # Only keep nodes present in both\n",
    "edge_np = np.array([edge for edge in edge_np if edge[0] in valid_nodes and edge[1] in valid_nodes])\n",
    "#train_data = train_data[train_data[\"domain_index\"].isin(valid_nodes)].copy()"
   ]
  },
  {
   "cell_type": "code",
   "execution_count": 11,
   "id": "8b3859ce-6f49-4f18-8eed-da5e71362d1d",
   "metadata": {},
   "outputs": [
    {
     "data": {
      "text/plain": [
       "(154254, 2)"
      ]
     },
     "execution_count": 11,
     "metadata": {},
     "output_type": "execute_result"
    }
   ],
   "source": [
    "edge_np.shape"
   ]
  },
  {
   "cell_type": "code",
   "execution_count": 12,
   "id": "fe2d9f90-b5de-493a-9b43-0df06731e957",
   "metadata": {},
   "outputs": [],
   "source": [
    "node_ids = sorted(train_data[\"domain_index\"].values)  # Sorted list of valid node IDs\n",
    "node_id_to_index = {old_id: new_idx for new_idx, old_id in enumerate(node_ids)}  # Map old ID -> new index"
   ]
  },
  {
   "cell_type": "code",
   "execution_count": 13,
   "id": "9e21d7a2-67d7-45e0-bc1f-166682af141c",
   "metadata": {},
   "outputs": [],
   "source": [
    "mapped_edges = np.array([\n",
    "    [node_id_to_index[edge[0]], node_id_to_index[edge[1]]] \n",
    "    for edge in edge_np if edge[0] in node_id_to_index and edge[1] in node_id_to_index\n",
    "])\n",
    "\n",
    "train_data[\"node_index\"] = train_data[\"domain_index\"].map(node_id_to_index)"
   ]
  },
  {
   "cell_type": "code",
   "execution_count": 14,
   "id": "b20fecdd-efa0-4241-ac96-124178442f99",
   "metadata": {},
   "outputs": [
    {
     "data": {
      "text/plain": [
       "(154254, 2)"
      ]
     },
     "execution_count": 14,
     "metadata": {},
     "output_type": "execute_result"
    }
   ],
   "source": [
    "mapped_edges.shape"
   ]
  },
  {
   "cell_type": "code",
   "execution_count": 15,
   "id": "5ad37016-f6ad-4e85-aa71-60b1be23ddec",
   "metadata": {
    "tags": []
   },
   "outputs": [
    {
     "name": "stdout",
     "output_type": "stream",
     "text": [
      "<class 'pandas.core.frame.DataFrame'>\n",
      "RangeIndex: 4753 entries, 0 to 4752\n",
      "Data columns (total 13 columns):\n",
      " #   Column             Non-Null Count  Dtype  \n",
      "---  ------             --------------  -----  \n",
      " 0   domain             4753 non-null   object \n",
      " 1   domain_index       4753 non-null   int64  \n",
      " 2   url_index          4753 non-null   int64  \n",
      " 3   article            4753 non-null   object \n",
      " 4   article_embedding  4753 non-null   object \n",
      " 5   virality           4753 non-null   float64\n",
      " 6   avalanches         4753 non-null   float64\n",
      " 7   messages           4753 non-null   float64\n",
      " 8   chats              4753 non-null   float64\n",
      " 9   year               4753 non-null   float64\n",
      " 10  pc1                4753 non-null   float64\n",
      " 11  label              4753 non-null   int64  \n",
      " 12  node_index         4753 non-null   int64  \n",
      "dtypes: float64(6), int64(4), object(3)\n",
      "memory usage: 482.9+ KB\n"
     ]
    }
   ],
   "source": [
    "train_data.info() # columns: domain, domain_index, url_index, article, article_embedding, virality, avalanches, messages, chats, year, pc1, label"
   ]
  },
  {
   "cell_type": "code",
   "execution_count": 16,
   "id": "4dd833d4-3dd4-4980-a59c-07831a826707",
   "metadata": {
    "tags": []
   },
   "outputs": [],
   "source": [
    "# Split train_data into train and validation sets\n",
    "train_domains, val_domains = train_test_split(train_data['node_index'], test_size=0.2, random_state=42)\n"
   ]
  },
  {
   "cell_type": "code",
   "execution_count": 17,
   "id": "803b6269-936f-4324-b646-11a823d607b8",
   "metadata": {},
   "outputs": [
    {
     "data": {
      "text/plain": [
       "3802"
      ]
     },
     "execution_count": 17,
     "metadata": {},
     "output_type": "execute_result"
    }
   ],
   "source": [
    "len(train_domains)"
   ]
  },
  {
   "cell_type": "code",
   "execution_count": 18,
   "id": "44fc965a-976c-40fa-9a41-784c41c84159",
   "metadata": {},
   "outputs": [],
   "source": [
    "# Convert to sets for fast lookup\n",
    "train_domains_set = set(train_domains)\n",
    "val_domains_set = set(val_domains)\n",
    "\n",
    "# Filter edge list\n",
    "#train_edges = edge_list[(edge_list['domain_index'].isin(train_domains_set))]\n",
    "#val_edges = edge_list[(edge_list['domain_index'].isin(val_domains_set))]\n"
   ]
  },
  {
   "cell_type": "code",
   "execution_count": 19,
   "id": "27f13486-3cd7-41c7-96b0-2aae153483ba",
   "metadata": {},
   "outputs": [],
   "source": [
    "# print(len(train_edges))\n",
    "# print(len(val_edges))\n",
    "# print(len(edge_list))"
   ]
  },
  {
   "cell_type": "code",
   "execution_count": 20,
   "id": "1de63f06-0657-4e17-96d6-cf963fc08150",
   "metadata": {
    "tags": []
   },
   "outputs": [],
   "source": [
    "import numpy as np\n",
    "import re\n",
    "\n",
    "def preprocess_embedding(emb):\n",
    "    \"\"\"\n",
    "    Preprocess and clean embedding values. Handles cases where:\n",
    "    - The embedding is a string (requires cleaning and parsing).\n",
    "    - The embedding is already a numpy array (no further processing needed).\n",
    "\n",
    "    Args:\n",
    "        emb: Embedding data (string or numpy array).\n",
    "\n",
    "    Returns:\n",
    "        np.array: Cleaned numpy array of embeddings.\n",
    "\n",
    "    Raises:\n",
    "        ValueError: If the data cannot be cleaned or converted.\n",
    "    \"\"\"\n",
    "    # If it's already a numpy array, return as is\n",
    "    if isinstance(emb, np.ndarray):\n",
    "        return emb\n",
    "\n",
    "    # If it's a list or other iterable, convert it to a numpy array\n",
    "    if isinstance(emb, (list, tuple)):\n",
    "        return np.array(emb, dtype=np.float32)\n",
    "\n",
    "    # If it's a string, clean and parse\n",
    "    if isinstance(emb, str):\n",
    "        try:\n",
    "            # Fix missing commas using regex\n",
    "            emb = re.sub(r'(?<=\\d)\\s+(?=\\d|\\-)', ',', emb)\n",
    "            # Ensure it is wrapped in brackets\n",
    "            if not emb.startswith(\"[\"):\n",
    "                emb = \"[\" + emb\n",
    "            if not emb.endswith(\"]\"):\n",
    "                emb = emb + \"]\"\n",
    "            # Evaluate the cleaned string and convert to numpy array\n",
    "            parsed_emb = eval(emb)  # Using eval since we sanitize the string\n",
    "            return np.array(parsed_emb, dtype=np.float32)\n",
    "        except Exception as e:\n",
    "            raise ValueError(f\"Failed to process embedding: {emb}. Error: {e}\")\n",
    "\n",
    "    # If none of the above, raise an error\n",
    "    raise ValueError(f\"Unsupported embedding format: {type(emb)}\")\n"
   ]
  },
  {
   "cell_type": "code",
   "execution_count": 31,
   "id": "d9df74c4-8d89-48f1-895a-ad0299bb1b08",
   "metadata": {
    "tags": []
   },
   "outputs": [],
   "source": [
    "train_data['article_embedding'] = train_data['article_embedding'].apply(preprocess_embedding)\n",
    "#node_features['article_embedding'] = node_features['article_embedding'].apply(preprocess_embedding)"
   ]
  },
  {
   "cell_type": "code",
   "execution_count": 35,
   "id": "7bdcf5a9-3146-47d3-a1f5-215f5e231684",
   "metadata": {
    "tags": []
   },
   "outputs": [],
   "source": [
    "import torch\n",
    "import numpy as np\n",
    "\n",
    "def preprocess_train_data(train_data):\n",
    "    \"\"\"\n",
    "    Combines multiple features into a single tensor for graph node features.\n",
    "    \n",
    "    Args:\n",
    "        train_data (DataFrame): DataFrame containing the features:\n",
    "            - 'article_embedding': preprocessed numpy arrays\n",
    "            - 'virality': numeric\n",
    "            - 'chats': numeric\n",
    "            - 'messages': numeric\n",
    "            - 'year': numeric\n",
    "    \n",
    "    Returns:\n",
    "        torch.Tensor: Combined tensor of node features.\n",
    "    \"\"\"\n",
    "    # Ensure 'article_embedding' is preprocessed\n",
    "    embeddings = np.vstack(train_data['article_embedding'].values)\n",
    "\n",
    "    # Extract other features and convert them to numpy arrays\n",
    "    other_features = train_data[['virality', 'year', 'avalanches', 'messages']].to_numpy(dtype=np.float32)\n",
    "\n",
    "    # Combine article embeddings with the other features\n",
    "    combined_features = np.hstack((embeddings, other_features)) #embeddings, \n",
    "\n",
    "    # Convert to torch tensor\n",
    "    return torch.tensor(combined_features, dtype=torch.float32) #combined_features\n"
   ]
  },
  {
   "cell_type": "code",
   "execution_count": 36,
   "id": "f96f6f0f-2185-4e76-a11e-477d907576ea",
   "metadata": {
    "tags": []
   },
   "outputs": [],
   "source": [
    "def prepare_graph_data(test_data, train_data, edges):\n",
    "    # train validation split\n",
    "    train_domains, val_domains = train_test_split(train_data['node_index'], test_size=0.2, random_state=42)\n",
    "    train_domains_set = set(train_domains)\n",
    "    val_domains_set = set(val_domains)\n",
    "\n",
    "    # Combine node features into a single tensor\n",
    "    x = preprocess_train_data(train_data)\n",
    "    \n",
    "    # Convert to PyTorch tensor\n",
    "    edge_index = torch.tensor(edges.T, dtype=torch.long) #.to_numpy()\n",
    "    \n",
    "    # Prepare labels (if available)\n",
    "    y = torch.tensor(train_data['label'].values, dtype=torch.long) if 'label' in train_data else None\n",
    "    \n",
    "    train_mask = torch.tensor(train_data['node_index'].isin(train_domains_set).values, dtype=torch.bool)\n",
    "    val_mask = torch.tensor(train_data['node_index'].isin(val_domains_set).values, dtype=torch.bool)\n",
    "    test_mask = torch.tensor(test_data['domain_index'].values, dtype=torch.bool)\n",
    "    \n",
    "    return Data(x=x, edge_index=edge_index, y=y, train_mask=train_mask, val_mask=val_mask, test_mask=test_mask) \n",
    "\n",
    "# Prepare the graph data\n",
    "data = prepare_graph_data(test_data, train_data, mapped_edges)\n"
   ]
  },
  {
   "cell_type": "code",
   "execution_count": 37,
   "id": "77a6d133-dd1f-4342-ab58-950dc401c856",
   "metadata": {},
   "outputs": [
    {
     "name": "stdout",
     "output_type": "stream",
     "text": [
      "Number of domains: 4753\n",
      "in chats: 388\n"
     ]
    }
   ],
   "source": [
    "print(f\"Number of domains: {data.x.shape[0]}\") # 4753\n",
    "print(f\"in chats: {data.x.shape[1]}\") # 388"
   ]
  },
  {
   "cell_type": "code",
   "execution_count": 25,
   "id": "23484c90-8a22-422d-989e-bca933045a31",
   "metadata": {},
   "outputs": [
    {
     "name": "stdout",
     "output_type": "stream",
     "text": [
      "Max node index in edge_index: 4752\n",
      "Min node index in edge_index: 0\n",
      "Number of nodes in data.x: 4753\n"
     ]
    }
   ],
   "source": [
    "print(f\"Max node index in edge_index: {data.edge_index.max()}\") # 64976\n",
    "print(f\"Min node index in edge_index: {data.edge_index.min()}\") # 0\n",
    "print(f\"Number of nodes in data.x: {data.x.shape[0]}\")"
   ]
  },
  {
   "cell_type": "code",
   "execution_count": 26,
   "id": "7d25e0c1-0b9a-4eb4-9bc9-db8ab62f98cc",
   "metadata": {},
   "outputs": [],
   "source": [
    "class GCNBasic(nn.Module):\n",
    "    def __init__(self, input_dim, hidden_dim, output_dim):\n",
    "        super(GCNBasic, self).__init__()\n",
    "        self.conv1 = GCNConv(input_dim, hidden_dim)\n",
    "        self.conv2 = GCNConv(hidden_dim, output_dim)\n",
    "        #self.dropout = nn.Dropout(p=0.1)\n",
    "\n",
    "    def forward(self, data):\n",
    "        x, edge_index = data.x, data.edge_index\n",
    "        x = self.conv1(x, edge_index)\n",
    "        x = torch.relu(x)\n",
    "        #x = self.dropout(x)\n",
    "        x = self.conv2(x, edge_index)\n",
    "        return torch.log_softmax(x, dim=1)"
   ]
  },
  {
   "cell_type": "code",
   "execution_count": 27,
   "id": "4ff8159d-67c7-457c-912b-bc070c5338c1",
   "metadata": {},
   "outputs": [],
   "source": [
    "class GCN(nn.Module):\n",
    "    def __init__(self, input_dim, hidden_dim, output_dim):\n",
    "        super(GCN, self).__init__()\n",
    "        self.conv1 = GCNConv(input_dim, hidden_dim)\n",
    "        self.conv2 = GCNConv(hidden_dim, hidden_dim)\n",
    "        self.conv3 = GCNConv(hidden_dim, output_dim)\n",
    "        self.dropout = nn.Dropout(p=0.01)\n",
    "\n",
    "    def forward(self, data):\n",
    "        x, edge_index = data.x, data.edge_index\n",
    "        x = self.conv1(x, edge_index)\n",
    "        x = torch.relu(x)\n",
    "        #x = self.dropout(x)\n",
    "        x = self.conv2(x, edge_index)\n",
    "        x = torch.relu(x)\n",
    "        #x = self.dropout(x)\n",
    "        x = self.conv3(x, edge_index)\n",
    "        return torch.log_softmax(x, dim=1)\n"
   ]
  },
  {
   "cell_type": "code",
   "execution_count": 28,
   "id": "7b9a8aa2-d75a-4022-9129-583813f3af5e",
   "metadata": {
    "tags": []
   },
   "outputs": [],
   "source": [
    "# Model configuration\n",
    "input_dim = data.x.shape[1]\n",
    "hidden_dim = 64\n",
    "output_dim = len(train_data['label'].unique())\n",
    "model = GCNBasic(input_dim, hidden_dim, output_dim)\n",
    "\n",
    "# Training configuration\n",
    "optimizer = optim.Adam(model.parameters(), lr=0.0001) # , weight_decay=5e-4 l2 regularization\n",
    "criterion = nn.CrossEntropyLoss()"
   ]
  },
  {
   "cell_type": "code",
   "execution_count": 29,
   "id": "e8c47c50-2dc2-4948-a6ca-5624d486de1a",
   "metadata": {},
   "outputs": [
    {
     "data": {
      "text/plain": [
       "GCNBasic(\n",
       "  (conv1): GCNConv(388, 64)\n",
       "  (conv2): GCNConv(64, 2)\n",
       ")"
      ]
     },
     "execution_count": 29,
     "metadata": {},
     "output_type": "execute_result"
    }
   ],
   "source": [
    "model"
   ]
  },
  {
   "cell_type": "code",
   "execution_count": 33,
   "id": "78da14ef-5ded-4009-9acb-d9ce9953409f",
   "metadata": {
    "tags": []
   },
   "outputs": [
    {
     "name": "stdout",
     "output_type": "stream",
     "text": [
      "Epoch 10, Loss: 0.8446, Validation Loss: 0.7168\n",
      "Epoch 20, Loss: 0.8574, Validation Loss: 0.8605\n",
      "Epoch 30, Loss: 0.6715, Validation Loss: 0.6898\n",
      "Epoch 40, Loss: 0.6308, Validation Loss: 0.6737\n",
      "Epoch 50, Loss: 0.6094, Validation Loss: 0.6627\n",
      "Epoch 60, Loss: 0.6002, Validation Loss: 0.6504\n",
      "Epoch 70, Loss: 0.5897, Validation Loss: 0.6387\n",
      "Epoch 80, Loss: 0.5786, Validation Loss: 0.6265\n",
      "Epoch 90, Loss: 0.5689, Validation Loss: 0.6163\n",
      "Epoch 100, Loss: 0.5601, Validation Loss: 0.6067\n"
     ]
    }
   ],
   "source": [
    "# Training loop\n",
    "train_losses = []\n",
    "val_losses = []\n",
    "\n",
    "def train(model, data):\n",
    "    model.train()\n",
    "    optimizer.zero_grad()\n",
    "    out = model(data)\n",
    "    loss = criterion(out[data.train_mask], data.y[data.train_mask])\n",
    "    loss.backward()\n",
    "    optimizer.step()\n",
    "    return loss.item()\n",
    "\n",
    "# Validation\n",
    "def validate(model, data):\n",
    "    model.eval()\n",
    "    with torch.no_grad():\n",
    "        out = model(data)\n",
    "        loss = criterion(out[data.val_mask], data.y[data.val_mask])\n",
    "    return loss.item()\n",
    "\n",
    "# Train the model\n",
    "num_epochs = 100\n",
    "for epoch in range(1, num_epochs + 1):\n",
    "    train_loss = train(model, data)\n",
    "    val_loss = validate(model, data)\n",
    "    train_losses.append(train_loss)\n",
    "    val_losses.append(val_loss)\n",
    "    if epoch % 10 == 0:\n",
    "        print(f\"Epoch {epoch}, Loss: {train_loss:.4f}, Validation Loss: {val_loss:.4f}\")\n"
   ]
  },
  {
   "cell_type": "code",
   "execution_count": 34,
   "id": "0b13cd74-3b3d-4978-be9d-3838efd03123",
   "metadata": {
    "tags": []
   },
   "outputs": [
    {
     "data": {
      "image/png": "[encoded data removed]",
      "text/plain": [
       "<Figure size 1000x600 with 1 Axes>"
      ]
     },
     "metadata": {},
     "output_type": "display_data"
    }
   ],
   "source": [
    "# Plot training and validation losses\n",
    "plt.figure(figsize=(10, 6))\n",
    "plt.plot(range(1, num_epochs + 1), train_losses, label='Train Loss')\n",
    "plt.plot(range(1, num_epochs + 1), val_losses, label='Validation Loss')\n",
    "plt.xlabel('Epochs')\n",
    "plt.ylabel('Loss')\n",
    "plt.title('Training and Validation Loss Over Epochs')\n",
    "plt.legend()\n",
    "plt.grid()\n",
    "plt.savefig(\"../03_plots/train_val_gcn60.png\")  # Save as PNG\n",
    "plt.show()"
   ]
  },
  {
   "cell_type": "code",
   "execution_count": 35,
   "id": "b48b16a9-8e67-409e-a39a-0c6b3cd928c5",
   "metadata": {},
   "outputs": [
    {
     "name": "stdout",
     "output_type": "stream",
     "text": [
      "Classification Report:\n",
      "               precision    recall  f1-score   support\n",
      "\n",
      "     Class 0       0.54      0.10      0.16      1208\n",
      "     Class 1       0.76      0.97      0.85      3545\n",
      "\n",
      "    accuracy                           0.75      4753\n",
      "   macro avg       0.65      0.53      0.51      4753\n",
      "weighted avg       0.70      0.75      0.68      4753\n",
      "\n"
     ]
    },
    {
     "data": {
      "image/png": "[encoded data removed]",
      "text/plain": [
       "<Figure size 500x400 with 2 Axes>"
      ]
     },
     "metadata": {},
     "output_type": "display_data"
    }
   ],
   "source": [
    "from sklearn.metrics import confusion_matrix, classification_report\n",
    "import seaborn as sns\n",
    "import matplotlib.pyplot as plt\n",
    "import torch\n",
    "\n",
    "def plot_confusion_matrix(model, data):\n",
    "    model.eval()\n",
    "    with torch.no_grad():\n",
    "        out = model(data)\n",
    "        preds = out.argmax(dim=1).cpu().numpy()\n",
    "        labels = data.y.cpu().numpy()\n",
    "\n",
    "    # Compute confusion matrix\n",
    "    cm = confusion_matrix(labels, preds)\n",
    "\n",
    "    # Compute classification report\n",
    "    class_report = classification_report(labels, preds, target_names=[f\"Class {i}\" for i in range(len(set(labels)))])\n",
    "    \n",
    "    # Print classification report\n",
    "    print(\"Classification Report:\\n\", class_report)\n",
    "\n",
    "    # Plot confusion matrix\n",
    "    plt.figure(figsize=(5, 4))\n",
    "    sns.heatmap(cm, annot=True, fmt=\"d\", cmap=\"Blues\")\n",
    "    plt.xlabel(\"Predicted Label\")\n",
    "    plt.ylabel(\"True Label\")\n",
    "    plt.title(\"Confusion Matrix\")\n",
    "    plt.savefig('../03_plots/con_matrix_GCN.png') #, dpi=300, bbox_inches=\"tight\"\n",
    "    plt.show()\n",
    "\n",
    "plot_confusion_matrix(model, data)\n"
   ]
  }
 ],
 "metadata": {
  "kernelspec": {
   "display_name": "Python 3 (ipykernel)",
   "language": "python",
   "name": "python3"
  },
  "language_info": {
   "codemirror_mode": {
    "name": "ipython",
    "version": 3
   },
   "file_extension": ".py",
   "mimetype": "text/x-python",
   "name": "python",
   "nbconvert_exporter": "python",
   "pygments_lexer": "ipython3",
   "version": "3.11.6"
  }
 },
 "nbformat": 4,
 "nbformat_minor": 5
}
