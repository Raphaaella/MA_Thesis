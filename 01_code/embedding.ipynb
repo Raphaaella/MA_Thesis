{
 "cells": [
  {
   "cell_type": "markdown",
   "id": "4c73c560-f7a8-4a6c-b6d1-68e8b93b3406",
   "metadata": {},
   "source": [
    "# Bert Embedding"
   ]
  },
  {
   "cell_type": "code",
   "execution_count": null,
   "id": "5f80b27c-880c-4686-b558-f60596bf2fc8",
   "metadata": {},
   "outputs": [],
   "source": [
    "from sentence_transformers import SentenceTransformer\n",
    "\n",
    "# Load the pre-trained model for generating embeddings\n",
    "model = SentenceTransformer('bert-base-nli-mean-tokens') \n",
    "\n",
    "# Convert the title column to embeddings\n",
    "urls_sample['title_embedding'] = urls_sample['title'].apply(lambda x: model.encode(str(x)))"
   ]
  }
 ],
 "metadata": {
  "kernelspec": {
   "display_name": "Python 3 (ipykernel)",
   "language": "python",
   "name": "python3"
  },
  "language_info": {
   "codemirror_mode": {
    "name": "ipython",
    "version": 3
   },
   "file_extension": ".py",
   "mimetype": "text/x-python",
   "name": "python",
   "nbconvert_exporter": "python",
   "pygments_lexer": "ipython3",
   "version": "3.10.13"
  }
 },
 "nbformat": 4,
 "nbformat_minor": 5
}
