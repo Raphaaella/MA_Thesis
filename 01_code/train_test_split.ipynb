{
  "cells": [
    {
      "cell_type": "code",
      "execution_count": null,
      "metadata": {
        "colab": {
          "base_uri": "https://localhost:8080/"
        },
        "id": "RjnyFT0tPQNg",
        "outputId": "abe8f0f7-81de-405e-bf6f-c7ebaa71e20e"
      },
      "outputs": [
        {
          "name": "stdout",
          "output_type": "stream",
          "text": [
            "Drive already mounted at /content/drive; to attempt to forcibly remount, call drive.mount(\"/content/drive\", force_remount=True).\n"
          ]
        }
      ],
      "source": [
        "from google.colab import drive\n",
        "drive.mount('/content/drive')"
      ]
    },
    {
      "cell_type": "code",
      "execution_count": null,
      "metadata": {
        "id": "Kj5GTVj7D0Qu"
      },
      "outputs": [],
      "source": [
        "import os\n",
        "import numpy as np\n",
        "import pandas as pd\n",
        "import zipfile\n",
        "import torch\n",
        "import json"
      ]
    },
    {
      "cell_type": "code",
      "execution_count": null,
      "metadata": {
        "id": "xsgEU_TAVYDE"
      },
      "outputs": [],
      "source": [
        "# Path to your folder in Google Drive\n",
        "drive_path = '/content/drive/My Drive/MA/'"
      ]
    },
    {
      "cell_type": "code",
      "execution_count": null,
      "metadata": {
        "colab": {
          "base_uri": "https://localhost:8080/"
        },
        "id": "5WmLPy3MIQgD",
        "outputId": "f1970112-e492-4abd-86d4-a86457c63531"
      },
      "outputs": [
        {
          "name": "stdout",
          "output_type": "stream",
          "text": [
            "GPU is available: Tesla T4\n"
          ]
        }
      ],
      "source": [
        "if torch.cuda.is_available():\n",
        "    print(f\"GPU is available: {torch.cuda.get_device_name(0)}\")\n",
        "else:\n",
        "    print(\"No GPU found. Please enable GPU in runtime settings.\")\n",
        "\n",
        "device = torch.device('cuda' if torch.cuda.is_available() else 'cpu')\n",
        "#model = model.to(device)"
      ]
    },
    {
      "cell_type": "code",
      "execution_count": null,
      "metadata": {
        "colab": {
          "background_save": true
        },
        "id": "s7gUWc43BLpD"
      },
      "outputs": [],
      "source": [
        "# Unzipping files\n",
        "with zipfile.ZipFile(drive_path + 'article_embeddings.zip', 'r') as zip_ref:\n",
        "    zip_ref.extractall('/content/article_embeddings')"
      ]
    },
    {
      "cell_type": "code",
      "execution_count": null,
      "metadata": {
        "colab": {
          "background_save": true
        },
        "id": "1UuN3_KHC4c0"
      },
      "outputs": [],
      "source": [
        "with zipfile.ZipFile(drive_path + 'message_embeddings.zip', 'r') as zip_ref:\n",
        "    zip_ref.extractall('/content/message_embeddings')"
      ]
    },
    {
      "cell_type": "code",
      "execution_count": null,
      "metadata": {
        "id": "VUmUyW5_KHgb"
      },
      "outputs": [],
      "source": [
        "# Load the .txt file as JSON\n",
        "article_embeddings_path = '/content/article_embeddings/article_embeddings.txt'\n",
        "message_embeddings_path = '/content/message_embeddings/message_embeddings.txt'\n",
        "\n",
        "with open(article_embeddings_path, 'r') as file:\n",
        "    article_data = json.load(file)\n",
        "\n",
        "with open(message_embeddings_path, 'r') as file:\n",
        "    article_data = json.load(file)"
      ]
    },
    {
      "cell_type": "code",
      "execution_count": null,
      "metadata": {
        "id": "2KmSy3z-BUAT",
        "outputId": "7e30b8d0-57f7-4a8d-f96f-bafcc1370627",
        "colab": {
          "base_uri": "https://localhost:8080/",
          "height": 176
        }
      },
      "outputs": [
        {
          "output_type": "error",
          "ename": "NameError",
          "evalue": "name 'np' is not defined",
          "traceback": [
            "\u001b[0;31m---------------------------------------------------------------------------\u001b[0m",
            "\u001b[0;31mNameError\u001b[0m                                 Traceback (most recent call last)",
            "\u001b[0;32m<ipython-input-1-cde1672d530a>\u001b[0m in \u001b[0;36m<cell line: 1>\u001b[0;34m()\u001b[0m\n\u001b[0;32m----> 1\u001b[0;31m \u001b[0mdomain_index\u001b[0m \u001b[0;34m=\u001b[0m \u001b[0mnp\u001b[0m\u001b[0;34m.\u001b[0m\u001b[0mload\u001b[0m\u001b[0;34m(\u001b[0m\u001b[0mdrive_path\u001b[0m \u001b[0;34m+\u001b[0m \u001b[0;34m'domain_index.npy'\u001b[0m\u001b[0;34m)\u001b[0m\u001b[0;34m\u001b[0m\u001b[0;34m\u001b[0m\u001b[0m\n\u001b[0m\u001b[1;32m      2\u001b[0m \u001b[0mchat_index\u001b[0m \u001b[0;34m=\u001b[0m \u001b[0mnp\u001b[0m\u001b[0;34m.\u001b[0m\u001b[0mload\u001b[0m\u001b[0;34m(\u001b[0m\u001b[0mdrive_path\u001b[0m \u001b[0;34m+\u001b[0m \u001b[0;34m'chat_index.npy'\u001b[0m\u001b[0;34m)\u001b[0m\u001b[0;34m\u001b[0m\u001b[0;34m\u001b[0m\u001b[0m\n\u001b[1;32m      3\u001b[0m \u001b[0murl_domains\u001b[0m \u001b[0;34m=\u001b[0m \u001b[0mpd\u001b[0m\u001b[0;34m.\u001b[0m\u001b[0mread_csv\u001b[0m\u001b[0;34m(\u001b[0m\u001b[0mdrive_path\u001b[0m \u001b[0;34m+\u001b[0m \u001b[0;34m'url_domains.csv'\u001b[0m\u001b[0;34m)\u001b[0m\u001b[0;34m\u001b[0m\u001b[0;34m\u001b[0m\u001b[0m\n",
            "\u001b[0;31mNameError\u001b[0m: name 'np' is not defined"
          ]
        }
      ],
      "source": [
        "domain_index = np.load(drive_path + 'domain_index.npy')\n",
        "chat_index = np.load(drive_path + 'chat_index.npy')\n",
        "url_domains = pd.read_csv(drive_path + 'url_domains.csv')"
      ]
    },
    {
      "cell_type": "code",
      "execution_count": null,
      "metadata": {
        "id": "Q1T-FQJWBY-a"
      },
      "outputs": [],
      "source": [
        "# Ensure 'domain' is the correct column name in url_domains\n",
        "grouped_domains = url_domains.groupby('domain_index').agg(list)\n",
        "\n",
        "grouped_domains = grouped_domains.to(device)"
      ]
    },
    {
      "cell_type": "markdown",
      "metadata": {
        "id": "sN3SbWiIBeCp"
      },
      "source": [
        "## Train Test Split"
      ]
    },
    {
      "cell_type": "code",
      "execution_count": null,
      "metadata": {
        "id": "TXvAW4BsBZB0"
      },
      "outputs": [],
      "source": [
        "from sklearn.model_selection import train_test_split\n",
        "\n",
        "# Assuming `chat_index` maps to `url_domains`\n",
        "train_indices, test_indices = train_test_split(range(len(chat_index)), test_size=0.2, random_state=42)\n",
        "\n",
        "# Creating train-test splits\n",
        "train_data = {\n",
        "    'chat_index': chat_index[train_indices],\n",
        "    'domain_index': domain_index[train_indices],\n",
        "    'message_embeddings': message_embeddings[train_indices]\n",
        "}\n",
        "\n",
        "test_data = {\n",
        "    'chat_index': chat_index[test_indices],\n",
        "    'domain_index': domain_index[test_indices],\n",
        "    'message_embeddings': message_embeddings[test_indices]\n",
        "}\n"
      ]
    },
    {
      "cell_type": "markdown",
      "metadata": {
        "id": "WB2y7rY7BoKR"
      },
      "source": [
        "## Chat URL Matrix"
      ]
    },
    {
      "cell_type": "code",
      "execution_count": null,
      "metadata": {
        "id": "Q__KBSc2Brxm"
      },
      "outputs": [],
      "source": [
        "from scipy.sparse import csr_matrix\n",
        "\n",
        "# Assuming `chat_index` and `domain_index` are integers for mapping\n",
        "chat_url_matrix = csr_matrix(\n",
        "    (np.ones(len(train_data['chat_index'])),\n",
        "     (train_data['chat_index'], train_data['domain_index']))\n",
        ")\n"
      ]
    },
    {
      "cell_type": "markdown",
      "metadata": {
        "id": "rXcsJ0rCBwG9"
      },
      "source": [
        "## Features"
      ]
    },
    {
      "cell_type": "code",
      "execution_count": null,
      "metadata": {
        "id": "F5nHhS9eByRL"
      },
      "outputs": [],
      "source": [
        "# Explicit variables: Message embeddings and domain index\n",
        "explicit_features = np.hstack([message_embeddings, domain_index.reshape(-1, 1)])\n",
        "\n",
        "# Implicit features: Interaction data from chat-url matrix\n",
        "implicit_features = chat_url_matrix @ explicit_features\n",
        "\n",
        "# Combine all features\n",
        "gnn_features = np.hstack([explicit_features, implicit_features])\n"
      ]
    },
    {
      "cell_type": "code",
      "execution_count": null,
      "metadata": {
        "id": "7dorR19lBzcL"
      },
      "outputs": [],
      "source": [
        "np.save('/content/drive/My Drive/MA/gnn_features.npy', gnn_features)"
      ]
    },
    {
      "cell_type": "markdown",
      "metadata": {
        "id": "-PLAevr1bN1J"
      },
      "source": [
        "Next Steps:\n",
        "read following files  \n",
        "*   article_embeddings.zip\n",
        "*   message_embedding.zip\n",
        "*   domain_index.npy\n",
        "*   chat_index.npy\n",
        "*   top_1000_urls.csv.gz\n",
        "*   url_domains.csv\n",
        "*   (url_data.parquet?)\n",
        "\n",
        "group by domain\n",
        "\n",
        "make train and test split\n",
        "\n",
        "create features\n",
        "\n",
        "train content GNN\n",
        "\n",
        "train content agnostic GNN\n",
        "\n",
        "train URL based GNN\n",
        "\n"
      ]
    }
  ],
  "metadata": {
    "accelerator": "GPU",
    "colab": {
      "gpuType": "T4",
      "provenance": []
    },
    "kernelspec": {
      "display_name": "Python 3",
      "name": "python3"
    },
    "language_info": {
      "name": "python"
    }
  },
  "nbformat": 4,
  "nbformat_minor": 0
}