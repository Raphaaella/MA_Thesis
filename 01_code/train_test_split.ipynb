{
 "cells": [
  {
   "cell_type": "markdown",
   "id": "9ed5516c-873a-425d-8ee5-0d9c7b0f0db9",
   "metadata": {},
   "source": [
    "# Feature Generation"
   ]
  },
  {
   "cell_type": "code",
   "execution_count": 1,
   "id": "a57f640e-7d4c-4901-988a-a67e3d82e90f",
   "metadata": {},
   "outputs": [
    {
     "name": "stdout",
     "output_type": "stream",
     "text": [
      "Collecting plotly\n",
      "  Using cached plotly-6.0.0-py3-none-any.whl.metadata (5.6 kB)\n",
      "Collecting narwhals>=1.15.1 (from plotly)\n",
      "  Using cached narwhals-1.30.0-py3-none-any.whl.metadata (11 kB)\n",
      "Requirement already satisfied: packaging in /opt/conda/lib/python3.11/site-packages (from plotly) (23.2)\n",
      "Using cached plotly-6.0.0-py3-none-any.whl (14.8 MB)\n",
      "Using cached narwhals-1.30.0-py3-none-any.whl (313 kB)\n",
      "Installing collected packages: narwhals, plotly\n",
      "Successfully installed narwhals-1.30.0 plotly-6.0.0\n",
      "Note: you may need to restart the kernel to use updated packages.\n"
     ]
    }
   ],
   "source": [
    "pip install plotly"
   ]
  },
  {
   "cell_type": "code",
   "execution_count": 14,
   "id": "24131ae7-aeeb-441e-853a-443265a54898",
   "metadata": {
    "tags": []
   },
   "outputs": [],
   "source": [
    "import numpy as np\n",
    "import pandas as pd\n",
    "from sklearn.model_selection import train_test_split\n",
    "import scipy.sparse as sp\n",
    "import json\n",
    "import zipfile\n",
    "from scipy.sparse import load_npz\n",
    "import random\n",
    "from tqdm import tqdm\n",
    "import plotly.express as px\n",
    "import pandas as pd\n",
    "import matplotlib.pyplot as plt"
   ]
  },
  {
   "cell_type": "code",
   "execution_count": 3,
   "id": "149ab1c3-a45a-4e4f-9e0c-7e84279858df",
   "metadata": {
    "tags": []
   },
   "outputs": [],
   "source": [
    "url_domains = pd.read_csv('../02_data/url_domains_compressed.csv.gz', compression='gzip')"
   ]
  },
  {
   "cell_type": "code",
   "execution_count": 4,
   "id": "ef5562c5-71e3-495b-9d15-2e884dbe98ca",
   "metadata": {
    "tags": []
   },
   "outputs": [
    {
     "name": "stdout",
     "output_type": "stream",
     "text": [
      "<class 'pandas.core.frame.DataFrame'>\n",
      "RangeIndex: 18141615 entries, 0 to 18141614\n",
      "Data columns (total 19 columns):\n",
      " #   Column               Dtype  \n",
      "---  ------               -----  \n",
      " 0   index                int64  \n",
      " 1   url                  object \n",
      " 2   domain               object \n",
      " 3   messages             int64  \n",
      " 4   chats                int64  \n",
      " 5   avalanches           int64  \n",
      " 6   mean_avalanche_size  float64\n",
      " 7   top_avalanche_size   int64  \n",
      " 8   virality             float64\n",
      " 9   top_shares_1h        int64  \n",
      " 10  top_shares_6h        int64  \n",
      " 11  top_shares_1d        int64  \n",
      " 12  top_shares_3d        int64  \n",
      " 13  top_shares_14d       int64  \n",
      " 14  first_share_date     object \n",
      " 15  final_share_date     object \n",
      " 16  pc1                  float64\n",
      " 17  rank                 float64\n",
      " 18  year                 int64  \n",
      "dtypes: float64(4), int64(11), object(4)\n",
      "memory usage: 2.6+ GB\n"
     ]
    }
   ],
   "source": [
    "# Load datasets\n",
    "chats = pd.read_parquet('../02_data/chats.parquet')\n",
    "\n",
    "url_domains.info()\n",
    "domain_pc1 = pd.read_csv('../02_data/domain_pc1.csv')\n",
    "url_data = pd.read_parquet('../02_data/url.data.parquet')"
   ]
  },
  {
   "cell_type": "code",
   "execution_count": 6,
   "id": "e9752fe0-1910-4b20-908e-68d138fbe40d",
   "metadata": {
    "tags": []
   },
   "outputs": [],
   "source": [
    "chat_url_shares = load_npz('../02_data/chat_url_shares.npz')"
   ]
  },
  {
   "cell_type": "code",
   "execution_count": 24,
   "id": "15674d2b-fbac-4374-b2c2-1d355e7ae8fd",
   "metadata": {},
   "outputs": [],
   "source": [
    "urls = pd.read_parquet('../02_data/url.data.parquet')"
   ]
  },
  {
   "cell_type": "code",
   "execution_count": 25,
   "id": "7a3615e8-6d9f-4ecb-8708-e012c9cafc27",
   "metadata": {},
   "outputs": [
    {
     "name": "stdout",
     "output_type": "stream",
     "text": [
      "<class 'pandas.core.frame.DataFrame'>\n",
      "RangeIndex: 60789534 entries, 0 to 60789533\n",
      "Data columns (total 16 columns):\n",
      " #   Column               Dtype         \n",
      "---  ------               -----         \n",
      " 0   index                int64         \n",
      " 1   url                  object        \n",
      " 2   domain               object        \n",
      " 3   messages             int64         \n",
      " 4   chats                int64         \n",
      " 5   avalanches           int64         \n",
      " 6   mean_avalanche_size  float64       \n",
      " 7   top_avalanche_size   int64         \n",
      " 8   virality             float64       \n",
      " 9   top_shares_1h        int64         \n",
      " 10  top_shares_6h        int64         \n",
      " 11  top_shares_1d        int64         \n",
      " 12  top_shares_3d        int64         \n",
      " 13  top_shares_14d       int64         \n",
      " 14  first_share_date     datetime64[ns]\n",
      " 15  final_share_date     datetime64[ns]\n",
      "dtypes: datetime64[ns](2), float64(2), int64(10), object(2)\n",
      "memory usage: 7.2+ GB\n"
     ]
    }
   ],
   "source": [
    "urls.info()"
   ]
  },
  {
   "cell_type": "markdown",
   "id": "c83bf7ab-ea72-4112-a195-75f62ba9f39b",
   "metadata": {},
   "source": [
    "## Aggregate Data by Domain"
   ]
  },
  {
   "cell_type": "code",
   "execution_count": 7,
   "id": "34459dc6-e30e-4121-af34-6a5053215285",
   "metadata": {
    "tags": []
   },
   "outputs": [],
   "source": [
    "# Filter chat_url_shares to keep only URLs present in article_embeddings\n",
    "valid_url_indices = url_domains['index'].values\n",
    "filtered_chat_url_shares = chat_url_shares.tocsr()[:, valid_url_indices]"
   ]
  },
  {
   "cell_type": "code",
   "execution_count": 8,
   "id": "5d855fe4-e9ed-45c0-a60e-e80deeafa2a7",
   "metadata": {
    "tags": []
   },
   "outputs": [
    {
     "data": {
      "text/plain": [
       "array([       3,       39,       41, ..., 60788884, 60788897, 60788944])"
      ]
     },
     "execution_count": 8,
     "metadata": {},
     "output_type": "execute_result"
    }
   ],
   "source": [
    "valid_url_indices"
   ]
  },
  {
   "cell_type": "code",
   "execution_count": 9,
   "id": "8e37977d-6098-49a4-b8d3-b037b60fc016",
   "metadata": {
    "tags": []
   },
   "outputs": [
    {
     "data": {
      "text/plain": [
       "<65338x18141615 sparse matrix of type '<class 'numpy.int64'>'\n",
       "\twith 33117274 stored elements in Compressed Sparse Row format>"
      ]
     },
     "execution_count": 9,
     "metadata": {},
     "output_type": "execute_result"
    }
   ],
   "source": [
    "filtered_chat_url_shares"
   ]
  },
  {
   "cell_type": "code",
   "execution_count": 67,
   "id": "b0f7474f-40a3-4ce8-a729-eac7d0b61f40",
   "metadata": {
    "tags": []
   },
   "outputs": [
    {
     "name": "stdout",
     "output_type": "stream",
     "text": [
      "<class 'pandas.core.frame.DataFrame'>\n",
      "RangeIndex: 7394 entries, 0 to 7393\n",
      "Data columns (total 8 columns):\n",
      " #   Column      Non-Null Count  Dtype  \n",
      "---  ------      --------------  -----  \n",
      " 0   domain      7394 non-null   object \n",
      " 1   virality    7394 non-null   float64\n",
      " 2   avalanches  7394 non-null   float64\n",
      " 3   messages    7394 non-null   float64\n",
      " 4   chats       7394 non-null   float64\n",
      " 5   year        7394 non-null   float64\n",
      " 6   pc1         7394 non-null   float64\n",
      " 7   domain_id   7394 non-null   int64  \n",
      "dtypes: float64(6), int64(1), object(1)\n",
      "memory usage: 462.3+ KB\n"
     ]
    }
   ],
   "source": [
    "# Aggregate based on the selected articles\n",
    "aggregated_data = url_domains.groupby('domain').agg({\n",
    "    'virality': 'mean',\n",
    "    'avalanches': 'mean',\n",
    "    'messages': 'mean',\n",
    "    'chats': 'mean',\n",
    "    'year': 'mean',\n",
    "    'pc1': 'first',\n",
    "}).reset_index()\n",
    "\n",
    "aggregated_data[\"domain_id\"] = range(len(aggregated_data))\n",
    "#aggregated_data.rename(columns={'index': 'url_index'}, inplace=True)\n",
    "\n",
    "aggregated_data.info()"
   ]
  },
  {
   "cell_type": "code",
   "execution_count": 28,
   "id": "77a86e19-db93-4b15-a609-804fa742cbd7",
   "metadata": {},
   "outputs": [
    {
     "data": {
      "image/png": "[encoded data removed]",
      "text/plain": [
       "<Figure size 1000x600 with 1 Axes>"
      ]
     },
     "metadata": {},
     "output_type": "display_data"
    }
   ],
   "source": [
    "# Compute mean and median\n",
    "mean_value = aggregated_data['pc1'].mean()\n",
    "median_value = aggregated_data['pc1'].median()\n",
    "threshold = 0.5  # Given threshold\n",
    "\n",
    "# Plot histogram\n",
    "plt.figure(figsize=(10, 6))\n",
    "plt.hist(aggregated_data['pc1'], color='grey', alpha=0.7, edgecolor='white', bins=30)  # Adjust bins if needed\n",
    "\n",
    "# Add vertical lines for mean, median, and threshold\n",
    "plt.axvline(mean_value, color='deepskyblue', linestyle='--', linewidth=2, label=f'Mean: {mean_value:.2f}')\n",
    "plt.axvline(median_value, color='deepskyblue', linestyle='-', linewidth=2, label=f'Median: {median_value:.2f}')\n",
    "plt.axvline(threshold, color='deepskyblue', linestyle=':', linewidth=2, label='Threshold = 0.5')\n",
    "\n",
    "# Customize plot\n",
    "plt.title('Distribution of pc1')\n",
    "plt.xlabel('pc1')\n",
    "plt.ylabel('Frequency')\n",
    "plt.grid(axis='y')\n",
    "plt.legend()  # Show legend for the lines\n",
    "\n",
    "# Save and show the plot\n",
    "plt.savefig('../03_plots/hist_pc1.png')\n",
    "plt.show()"
   ]
  },
  {
   "cell_type": "code",
   "execution_count": 33,
   "id": "b6c6aade-651c-417a-9529-354bf36272fd",
   "metadata": {
    "tags": []
   },
   "outputs": [
    {
     "data": {
      "text/html": [
       "<div>\n",
       "<style scoped>\n",
       "    .dataframe tbody tr th:only-of-type {\n",
       "        vertical-align: middle;\n",
       "    }\n",
       "\n",
       "    .dataframe tbody tr th {\n",
       "        vertical-align: top;\n",
       "    }\n",
       "\n",
       "    .dataframe thead th {\n",
       "        text-align: right;\n",
       "    }\n",
       "</style>\n",
       "<table border=\"1\" class=\"dataframe\">\n",
       "  <thead>\n",
       "    <tr style=\"text-align: right;\">\n",
       "      <th></th>\n",
       "      <th>domain</th>\n",
       "      <th>virality</th>\n",
       "      <th>avalanches</th>\n",
       "      <th>messages</th>\n",
       "      <th>chats</th>\n",
       "      <th>year</th>\n",
       "      <th>pc1</th>\n",
       "      <th>domain_index</th>\n",
       "    </tr>\n",
       "  </thead>\n",
       "  <tbody>\n",
       "    <tr>\n",
       "      <th>0</th>\n",
       "      <td>100giornidaleoni.it</td>\n",
       "      <td>0.946939</td>\n",
       "      <td>1.313333</td>\n",
       "      <td>1.433333</td>\n",
       "      <td>1.213333</td>\n",
       "      <td>2021.906667</td>\n",
       "      <td>0.259866</td>\n",
       "      <td>0</td>\n",
       "    </tr>\n",
       "    <tr>\n",
       "      <th>1</th>\n",
       "      <td>100milefreepress.net</td>\n",
       "      <td>0.707107</td>\n",
       "      <td>2.000000</td>\n",
       "      <td>2.000000</td>\n",
       "      <td>2.000000</td>\n",
       "      <td>2022.000000</td>\n",
       "      <td>0.599200</td>\n",
       "      <td>1</td>\n",
       "    </tr>\n",
       "    <tr>\n",
       "      <th>2</th>\n",
       "      <td>100percentfedup.com</td>\n",
       "      <td>0.911149</td>\n",
       "      <td>1.935955</td>\n",
       "      <td>3.427850</td>\n",
       "      <td>1.762025</td>\n",
       "      <td>2022.143768</td>\n",
       "      <td>0.219380</td>\n",
       "      <td>2</td>\n",
       "    </tr>\n",
       "    <tr>\n",
       "      <th>3</th>\n",
       "      <td>1011now.com</td>\n",
       "      <td>0.844692</td>\n",
       "      <td>2.215054</td>\n",
       "      <td>2.698925</td>\n",
       "      <td>1.924731</td>\n",
       "      <td>2021.580645</td>\n",
       "      <td>0.716641</td>\n",
       "      <td>3</td>\n",
       "    </tr>\n",
       "    <tr>\n",
       "      <th>4</th>\n",
       "      <td>10news.com</td>\n",
       "      <td>0.888128</td>\n",
       "      <td>2.921569</td>\n",
       "      <td>4.176471</td>\n",
       "      <td>2.792157</td>\n",
       "      <td>2021.749020</td>\n",
       "      <td>0.705943</td>\n",
       "      <td>4</td>\n",
       "    </tr>\n",
       "    <tr>\n",
       "      <th>...</th>\n",
       "      <td>...</td>\n",
       "      <td>...</td>\n",
       "      <td>...</td>\n",
       "      <td>...</td>\n",
       "      <td>...</td>\n",
       "      <td>...</td>\n",
       "      <td>...</td>\n",
       "      <td>...</td>\n",
       "    </tr>\n",
       "    <tr>\n",
       "      <th>7389</th>\n",
       "      <td>zmescience.com</td>\n",
       "      <td>0.838569</td>\n",
       "      <td>2.309278</td>\n",
       "      <td>2.855670</td>\n",
       "      <td>1.848797</td>\n",
       "      <td>2021.573883</td>\n",
       "      <td>0.891073</td>\n",
       "      <td>7389</td>\n",
       "    </tr>\n",
       "    <tr>\n",
       "      <th>7390</th>\n",
       "      <td>zombie.news</td>\n",
       "      <td>1.000000</td>\n",
       "      <td>1.000000</td>\n",
       "      <td>1.000000</td>\n",
       "      <td>1.000000</td>\n",
       "      <td>2023.000000</td>\n",
       "      <td>0.243898</td>\n",
       "      <td>7390</td>\n",
       "    </tr>\n",
       "    <tr>\n",
       "      <th>7391</th>\n",
       "      <td>zonazealots.com</td>\n",
       "      <td>0.707107</td>\n",
       "      <td>2.000000</td>\n",
       "      <td>4.000000</td>\n",
       "      <td>1.000000</td>\n",
       "      <td>2021.000000</td>\n",
       "      <td>0.648646</td>\n",
       "      <td>7391</td>\n",
       "    </tr>\n",
       "    <tr>\n",
       "      <th>7392</th>\n",
       "      <td>zuerst.de</td>\n",
       "      <td>0.985833</td>\n",
       "      <td>1.066148</td>\n",
       "      <td>1.217899</td>\n",
       "      <td>1.077821</td>\n",
       "      <td>2022.832685</td>\n",
       "      <td>0.675067</td>\n",
       "      <td>7392</td>\n",
       "    </tr>\n",
       "    <tr>\n",
       "      <th>7393</th>\n",
       "      <td>zvw.de</td>\n",
       "      <td>0.822553</td>\n",
       "      <td>2.000000</td>\n",
       "      <td>2.000000</td>\n",
       "      <td>1.428571</td>\n",
       "      <td>2022.142857</td>\n",
       "      <td>0.696441</td>\n",
       "      <td>7393</td>\n",
       "    </tr>\n",
       "  </tbody>\n",
       "</table>\n",
       "<p>7394 rows × 8 columns</p>\n",
       "</div>"
      ],
      "text/plain": [
       "                    domain  virality  avalanches  messages     chats  \\\n",
       "0      100giornidaleoni.it  0.946939    1.313333  1.433333  1.213333   \n",
       "1     100milefreepress.net  0.707107    2.000000  2.000000  2.000000   \n",
       "2      100percentfedup.com  0.911149    1.935955  3.427850  1.762025   \n",
       "3              1011now.com  0.844692    2.215054  2.698925  1.924731   \n",
       "4               10news.com  0.888128    2.921569  4.176471  2.792157   \n",
       "...                    ...       ...         ...       ...       ...   \n",
       "7389        zmescience.com  0.838569    2.309278  2.855670  1.848797   \n",
       "7390           zombie.news  1.000000    1.000000  1.000000  1.000000   \n",
       "7391       zonazealots.com  0.707107    2.000000  4.000000  1.000000   \n",
       "7392             zuerst.de  0.985833    1.066148  1.217899  1.077821   \n",
       "7393                zvw.de  0.822553    2.000000  2.000000  1.428571   \n",
       "\n",
       "             year       pc1  domain_index  \n",
       "0     2021.906667  0.259866             0  \n",
       "1     2022.000000  0.599200             1  \n",
       "2     2022.143768  0.219380             2  \n",
       "3     2021.580645  0.716641             3  \n",
       "4     2021.749020  0.705943             4  \n",
       "...           ...       ...           ...  \n",
       "7389  2021.573883  0.891073          7389  \n",
       "7390  2023.000000  0.243898          7390  \n",
       "7391  2021.000000  0.648646          7391  \n",
       "7392  2022.832685  0.675067          7392  \n",
       "7393  2022.142857  0.696441          7393  \n",
       "\n",
       "[7394 rows x 8 columns]"
      ]
     },
     "execution_count": 33,
     "metadata": {},
     "output_type": "execute_result"
    }
   ],
   "source": [
    "aggregated_data"
   ]
  },
  {
   "cell_type": "markdown",
   "id": "0d545391-d2e8-4c35-9e68-301e4e915cbd",
   "metadata": {},
   "source": [
    "## Train Test Split"
   ]
  },
  {
   "cell_type": "code",
   "execution_count": 68,
   "id": "f8ed4c17-9859-4787-9afd-ddc42f29bc6e",
   "metadata": {
    "tags": []
   },
   "outputs": [],
   "source": [
    "# Train-test split based on nodes (domains)\n",
    "unique_domains = aggregated_data['domain'].unique()\n",
    "train_domains, test_domains = train_test_split(unique_domains, test_size=0.2, random_state=42)\n",
    "\n",
    "# Split data into train and test sets\n",
    "train_data = aggregated_data[aggregated_data['domain'].isin(train_domains)]\n",
    "test_data = aggregated_data[aggregated_data['domain'].isin(test_domains)]\n",
    "\n",
    "node_features = aggregated_data[['domain_id', 'domain', 'virality', 'avalanches', 'messages', 'chats', 'year', 'pc1']].copy()\n",
    "\n",
    "node_features['domain_id'] = node_features['domain_id'].astype(int)\n",
    "node_features['year'] = node_features['year'].astype(int)\n",
    "#node_features['virality'] = node_features['virality'].round(2)"
   ]
  },
  {
   "cell_type": "markdown",
   "id": "e1f6f121-a4fb-47d5-902f-7e8b7d2f294b",
   "metadata": {},
   "source": [
    "## Filter Chat URL matrix"
   ]
  },
  {
   "cell_type": "code",
   "execution_count": 36,
   "id": "64b61900-1aa1-44c9-902d-e8e99520d925",
   "metadata": {},
   "outputs": [],
   "source": [
    "# Mapping\n",
    "unique_domains = train_data['domain'].dropna().unique()\n",
    "url_to_domain = url_domains.set_index('url')['domain']\n",
    "domain_to_index_map = train_data.set_index('domain')['domain_id']\n",
    "#train_data['domain_index'] = article_embeddings['domain'].map(domain_to_index_map)\n",
    "article_url_map = url_domains.set_index('index')['url']"
   ]
  },
  {
   "cell_type": "code",
   "execution_count": 40,
   "id": "c51755ee-eb93-40b7-a8cc-f2c6fc8df981",
   "metadata": {},
   "outputs": [
    {
     "data": {
      "text/plain": [
       "array(['100milefreepress.net', '100percentfedup.com', '1011now.com', ...,\n",
       "       'zombie.news', 'zonazealots.com', 'zuerst.de'], dtype=object)"
      ]
     },
     "execution_count": 40,
     "metadata": {},
     "output_type": "execute_result"
    }
   ],
   "source": [
    "unique_domains"
   ]
  },
  {
   "cell_type": "code",
   "execution_count": 42,
   "id": "b37b356b-7ca1-447f-a1a3-8e47b40bce49",
   "metadata": {},
   "outputs": [],
   "source": [
    "train_domains_set = set(train_domains)"
   ]
  },
  {
   "cell_type": "code",
   "execution_count": 57,
   "id": "62d1cb1e-5fe2-40d2-a94e-650bb7cdbd46",
   "metadata": {
    "tags": []
   },
   "outputs": [
    {
     "name": "stderr",
     "output_type": "stream",
     "text": [
      "Processing chat-url pairs: 100%|██████████| 88524359/88524359 [07:20<00:00, 200895.41it/s]\n"
     ]
    }
   ],
   "source": [
    "# Create edge list from filtered_chat_url_shares with domain indices\n",
    "rows, cols = chat_url_shares.tocsr().nonzero()\n",
    "edges = []\n",
    "\n",
    "for row, col in tqdm(zip(rows, cols), total=len(rows), desc=\"Processing chat-url pairs\"):\n",
    "    url = article_url_map.get(col, None)  # Get URL safely\n",
    "    if url is not None:\n",
    "        domain = url_to_domain.get(url, None)  # Map URL to domain\n",
    "        if isinstance(domain, pd.Series):\n",
    "            domain = domain.iloc[0]\n",
    "        if domain in train_domains_set:  # Only include training domains\n",
    "            domain_index = domain_to_index_map.get(domain)  # Get index\n",
    "            if domain_index is not None:\n",
    "                edges.append((row, domain_index))  # Add valid edge"
   ]
  },
  {
   "cell_type": "code",
   "execution_count": 58,
   "id": "7a0bd2fe-4893-4625-8824-90a66e132f8d",
   "metadata": {},
   "outputs": [],
   "source": [
    "train_edge_list = pd.DataFrame(edges, columns=['chat_id', 'domain_id'])"
   ]
  },
  {
   "cell_type": "code",
   "execution_count": 60,
   "id": "8128f48f-8767-4ee6-a675-d1f1cd5ef4cb",
   "metadata": {},
   "outputs": [
    {
     "name": "stdout",
     "output_type": "stream",
     "text": [
      "Train Edge List Shape: (21158435, 2)\n",
      "Max domain index: 7392\n",
      "Min domain index: 1\n"
     ]
    }
   ],
   "source": [
    "# Ensure proper integer type\n",
    "train_edge_list['chat_id'] = train_edge_list['chat_id'].astype(int)\n",
    "train_edge_list['domain_id'] = train_edge_list['domain_id'].astype(int)\n",
    "\n",
    "# Print statistics for verification\n",
    "print(f\"Train Edge List Shape: {train_edge_list.shape}\")\n",
    "print(f\"Max domain index: {train_edge_list['domain_id'].max()}\")\n",
    "print(f\"Min domain index: {train_edge_list['domain_id'].min()}\")"
   ]
  },
  {
   "cell_type": "code",
   "execution_count": 61,
   "id": "39cf797e-8caf-4dd1-a417-222f3caa7895",
   "metadata": {},
   "outputs": [],
   "source": [
    "from scipy.sparse import coo_matrix\n",
    "\n",
    "chat_domain_shares = coo_matrix(\n",
    "    (np.ones(len(train_edge_list)), (train_edge_list['chat_id'], train_edge_list['domain_id']))\n",
    ")"
   ]
  },
  {
   "cell_type": "code",
   "execution_count": 62,
   "id": "94cd29c8-94e1-443a-a7e0-40e6c295dc52",
   "metadata": {},
   "outputs": [
    {
     "data": {
      "text/plain": [
       "<64977x7393 sparse matrix of type '<class 'numpy.float64'>'\n",
       "\twith 21158435 stored elements in COOrdinate format>"
      ]
     },
     "execution_count": 62,
     "metadata": {},
     "output_type": "execute_result"
    }
   ],
   "source": [
    "chat_domain_shares"
   ]
  },
  {
   "cell_type": "code",
   "execution_count": 63,
   "id": "e2ae5ad5-03f0-450f-9329-9f53ea02d386",
   "metadata": {
    "tags": []
   },
   "outputs": [
    {
     "data": {
      "text/html": [
       "<div>\n",
       "<style scoped>\n",
       "    .dataframe tbody tr th:only-of-type {\n",
       "        vertical-align: middle;\n",
       "    }\n",
       "\n",
       "    .dataframe tbody tr th {\n",
       "        vertical-align: top;\n",
       "    }\n",
       "\n",
       "    .dataframe thead th {\n",
       "        text-align: right;\n",
       "    }\n",
       "</style>\n",
       "<table border=\"1\" class=\"dataframe\">\n",
       "  <thead>\n",
       "    <tr style=\"text-align: right;\">\n",
       "      <th></th>\n",
       "      <th>domain_index</th>\n",
       "      <th>domain</th>\n",
       "      <th>virality</th>\n",
       "      <th>avalanches</th>\n",
       "      <th>messages</th>\n",
       "      <th>chats</th>\n",
       "      <th>year</th>\n",
       "      <th>pc1</th>\n",
       "    </tr>\n",
       "  </thead>\n",
       "  <tbody>\n",
       "    <tr>\n",
       "      <th>0</th>\n",
       "      <td>0</td>\n",
       "      <td>100giornidaleoni.it</td>\n",
       "      <td>0.946939</td>\n",
       "      <td>1.313333</td>\n",
       "      <td>1.433333</td>\n",
       "      <td>1.213333</td>\n",
       "      <td>2021</td>\n",
       "      <td>0.259866</td>\n",
       "    </tr>\n",
       "    <tr>\n",
       "      <th>1</th>\n",
       "      <td>1</td>\n",
       "      <td>100milefreepress.net</td>\n",
       "      <td>0.707107</td>\n",
       "      <td>2.000000</td>\n",
       "      <td>2.000000</td>\n",
       "      <td>2.000000</td>\n",
       "      <td>2022</td>\n",
       "      <td>0.599200</td>\n",
       "    </tr>\n",
       "    <tr>\n",
       "      <th>2</th>\n",
       "      <td>2</td>\n",
       "      <td>100percentfedup.com</td>\n",
       "      <td>0.911149</td>\n",
       "      <td>1.935955</td>\n",
       "      <td>3.427850</td>\n",
       "      <td>1.762025</td>\n",
       "      <td>2022</td>\n",
       "      <td>0.219380</td>\n",
       "    </tr>\n",
       "    <tr>\n",
       "      <th>3</th>\n",
       "      <td>3</td>\n",
       "      <td>1011now.com</td>\n",
       "      <td>0.844692</td>\n",
       "      <td>2.215054</td>\n",
       "      <td>2.698925</td>\n",
       "      <td>1.924731</td>\n",
       "      <td>2021</td>\n",
       "      <td>0.716641</td>\n",
       "    </tr>\n",
       "    <tr>\n",
       "      <th>4</th>\n",
       "      <td>4</td>\n",
       "      <td>10news.com</td>\n",
       "      <td>0.888128</td>\n",
       "      <td>2.921569</td>\n",
       "      <td>4.176471</td>\n",
       "      <td>2.792157</td>\n",
       "      <td>2021</td>\n",
       "      <td>0.705943</td>\n",
       "    </tr>\n",
       "    <tr>\n",
       "      <th>...</th>\n",
       "      <td>...</td>\n",
       "      <td>...</td>\n",
       "      <td>...</td>\n",
       "      <td>...</td>\n",
       "      <td>...</td>\n",
       "      <td>...</td>\n",
       "      <td>...</td>\n",
       "      <td>...</td>\n",
       "    </tr>\n",
       "    <tr>\n",
       "      <th>7389</th>\n",
       "      <td>7389</td>\n",
       "      <td>zmescience.com</td>\n",
       "      <td>0.838569</td>\n",
       "      <td>2.309278</td>\n",
       "      <td>2.855670</td>\n",
       "      <td>1.848797</td>\n",
       "      <td>2021</td>\n",
       "      <td>0.891073</td>\n",
       "    </tr>\n",
       "    <tr>\n",
       "      <th>7390</th>\n",
       "      <td>7390</td>\n",
       "      <td>zombie.news</td>\n",
       "      <td>1.000000</td>\n",
       "      <td>1.000000</td>\n",
       "      <td>1.000000</td>\n",
       "      <td>1.000000</td>\n",
       "      <td>2023</td>\n",
       "      <td>0.243898</td>\n",
       "    </tr>\n",
       "    <tr>\n",
       "      <th>7391</th>\n",
       "      <td>7391</td>\n",
       "      <td>zonazealots.com</td>\n",
       "      <td>0.707107</td>\n",
       "      <td>2.000000</td>\n",
       "      <td>4.000000</td>\n",
       "      <td>1.000000</td>\n",
       "      <td>2021</td>\n",
       "      <td>0.648646</td>\n",
       "    </tr>\n",
       "    <tr>\n",
       "      <th>7392</th>\n",
       "      <td>7392</td>\n",
       "      <td>zuerst.de</td>\n",
       "      <td>0.985833</td>\n",
       "      <td>1.066148</td>\n",
       "      <td>1.217899</td>\n",
       "      <td>1.077821</td>\n",
       "      <td>2022</td>\n",
       "      <td>0.675067</td>\n",
       "    </tr>\n",
       "    <tr>\n",
       "      <th>7393</th>\n",
       "      <td>7393</td>\n",
       "      <td>zvw.de</td>\n",
       "      <td>0.822553</td>\n",
       "      <td>2.000000</td>\n",
       "      <td>2.000000</td>\n",
       "      <td>1.428571</td>\n",
       "      <td>2022</td>\n",
       "      <td>0.696441</td>\n",
       "    </tr>\n",
       "  </tbody>\n",
       "</table>\n",
       "<p>7394 rows × 8 columns</p>\n",
       "</div>"
      ],
      "text/plain": [
       "      domain_index                domain  virality  avalanches  messages  \\\n",
       "0                0   100giornidaleoni.it  0.946939    1.313333  1.433333   \n",
       "1                1  100milefreepress.net  0.707107    2.000000  2.000000   \n",
       "2                2   100percentfedup.com  0.911149    1.935955  3.427850   \n",
       "3                3           1011now.com  0.844692    2.215054  2.698925   \n",
       "4                4            10news.com  0.888128    2.921569  4.176471   \n",
       "...            ...                   ...       ...         ...       ...   \n",
       "7389          7389        zmescience.com  0.838569    2.309278  2.855670   \n",
       "7390          7390           zombie.news  1.000000    1.000000  1.000000   \n",
       "7391          7391       zonazealots.com  0.707107    2.000000  4.000000   \n",
       "7392          7392             zuerst.de  0.985833    1.066148  1.217899   \n",
       "7393          7393                zvw.de  0.822553    2.000000  2.000000   \n",
       "\n",
       "         chats  year       pc1  \n",
       "0     1.213333  2021  0.259866  \n",
       "1     2.000000  2022  0.599200  \n",
       "2     1.762025  2022  0.219380  \n",
       "3     1.924731  2021  0.716641  \n",
       "4     2.792157  2021  0.705943  \n",
       "...        ...   ...       ...  \n",
       "7389  1.848797  2021  0.891073  \n",
       "7390  1.000000  2023  0.243898  \n",
       "7391  1.000000  2021  0.648646  \n",
       "7392  1.077821  2022  0.675067  \n",
       "7393  1.428571  2022  0.696441  \n",
       "\n",
       "[7394 rows x 8 columns]"
      ]
     },
     "execution_count": 63,
     "metadata": {},
     "output_type": "execute_result"
    }
   ],
   "source": [
    "node_features"
   ]
  },
  {
   "cell_type": "code",
   "execution_count": 64,
   "id": "4fef13e1-7374-408b-b5e7-c4825167f02c",
   "metadata": {
    "tags": []
   },
   "outputs": [
    {
     "data": {
      "image/png": "[encoded data removed]",
      "text/plain": [
       "<Figure size 1200x600 with 1 Axes>"
      ]
     },
     "metadata": {},
     "output_type": "display_data"
    }
   ],
   "source": [
    "import matplotlib.pyplot as plt\n",
    "import numpy as np\n",
    "\n",
    "# Sample data\n",
    "# train_sample = train_data.sample(n=100, random_state=42)\n",
    "\n",
    "# Define outlier thresholds for avalanches\n",
    "pc1_threshold_high = train_data['pc1'].quantile(0.9999) \n",
    "pc1_threshold_low = train_data['pc1'].quantile(0.0001)   \n",
    "avalanches_threshold_high = train_data['avalanches'].quantile(0.999)  \n",
    "avalanches_threshold_low = train_data['avalanches'].quantile(0.001)  \n",
    "\n",
    "# Scatter plot\n",
    "plt.figure(figsize=(12, 6))\n",
    "sc = plt.scatter(\n",
    "    train_data['pc1'], \n",
    "    train_data['avalanches'], \n",
    "    alpha=0.5, \n",
    "    #c=train_sample['avalanches'], \n",
    "    #cmap='BuGn', \n",
    "    s=100\n",
    ")\n",
    "\n",
    "# Add color bar\n",
    "#plt.colorbar(sc, label='Avalanches')\n",
    "\n",
    "# Labeling\n",
    "plt.xlabel('Misinformation Score')\n",
    "plt.ylabel('Avalanches')\n",
    "plt.title('Avalanches of Domains vs. Misinformation Score')\n",
    "\n",
    "# Add labels for outliers\n",
    "for pc1, avalanches, domain in zip(train_data['pc1'], train_data['avalanches'], train_data['domain']):\n",
    "    if pc1 > pc1_threshold_high or pc1 < pc1_threshold_low or avalanches > avalanches_threshold_high or avalanches < avalanches_threshold_low:\n",
    "        plt.text(pc1 + 0.02, avalanches, domain, fontsize=9)\n",
    "\n",
    "# Save the figure\n",
    "plt.savefig('../03_plots/sample_scatter_outliers_pc1_avalanches.png')\n",
    "plt.show()\n"
   ]
  },
  {
   "cell_type": "markdown",
   "id": "34b94169-de5a-4539-b87f-56f7156e0a18",
   "metadata": {},
   "source": [
    "## Export"
   ]
  },
  {
   "cell_type": "code",
   "execution_count": 69,
   "id": "7b25321e-d0c6-4213-ad52-5cd03b7e2c35",
   "metadata": {
    "tags": []
   },
   "outputs": [
    {
     "name": "stdout",
     "output_type": "stream",
     "text": [
      "<class 'pandas.core.frame.DataFrame'>\n",
      "Index: 5915 entries, 1 to 7392\n",
      "Data columns (total 8 columns):\n",
      " #   Column      Non-Null Count  Dtype  \n",
      "---  ------      --------------  -----  \n",
      " 0   domain      5915 non-null   object \n",
      " 1   virality    5915 non-null   float64\n",
      " 2   avalanches  5915 non-null   float64\n",
      " 3   messages    5915 non-null   float64\n",
      " 4   chats       5915 non-null   float64\n",
      " 5   year        5915 non-null   float64\n",
      " 6   pc1         5915 non-null   float64\n",
      " 7   domain_id   5915 non-null   int64  \n",
      "dtypes: float64(6), int64(1), object(1)\n",
      "memory usage: 415.9+ KB\n",
      "None\n",
      "<class 'pandas.core.frame.DataFrame'>\n",
      "Index: 1479 entries, 0 to 7393\n",
      "Data columns (total 8 columns):\n",
      " #   Column      Non-Null Count  Dtype  \n",
      "---  ------      --------------  -----  \n",
      " 0   domain      1479 non-null   object \n",
      " 1   virality    1479 non-null   float64\n",
      " 2   avalanches  1479 non-null   float64\n",
      " 3   messages    1479 non-null   float64\n",
      " 4   chats       1479 non-null   float64\n",
      " 5   year        1479 non-null   float64\n",
      " 6   pc1         1479 non-null   float64\n",
      " 7   domain_id   1479 non-null   int64  \n",
      "dtypes: float64(6), int64(1), object(1)\n",
      "memory usage: 104.0+ KB\n",
      "None\n",
      "<class 'pandas.core.frame.DataFrame'>\n",
      "RangeIndex: 21158435 entries, 0 to 21158434\n",
      "Data columns (total 2 columns):\n",
      " #   Column     Dtype\n",
      "---  ------     -----\n",
      " 0   chat_id    int64\n",
      " 1   domain_id  int64\n",
      "dtypes: int64(2)\n",
      "memory usage: 322.9 MB\n",
      "None\n"
     ]
    }
   ],
   "source": [
    "print(train_data.info())\n",
    "print(test_data.info())\n",
    "print(train_edge_list.info())"
   ]
  },
  {
   "cell_type": "code",
   "execution_count": 70,
   "id": "c1a074d1-9076-4538-9ef7-34723332e2a4",
   "metadata": {
    "tags": []
   },
   "outputs": [],
   "source": [
    "# Step 5: Save results\n",
    "train_data.to_csv('../02_data/content_agnostic/train_data.csv', index=False)\n",
    "test_data.to_csv('../02_data/content_agnostic/test_data.csv', index=False)\n",
    "train_edge_list.to_csv('../02_data/content_agnostic/train_edge_list.csv', index=False)\n",
    "node_features.to_csv('../02_data/content_agnostic/node_features.csv', index=False)"
   ]
  }
 ],
 "metadata": {
  "kernelspec": {
   "display_name": "Python 3 (ipykernel)",
   "language": "python",
   "name": "python3"
  },
  "language_info": {
   "codemirror_mode": {
    "name": "ipython",
    "version": 3
   },
   "file_extension": ".py",
   "mimetype": "text/x-python",
   "name": "python",
   "nbconvert_exporter": "python",
   "pygments_lexer": "ipython3",
   "version": "3.11.6"
  }
 },
 "nbformat": 4,
 "nbformat_minor": 5
}
