{
 "cells": [
  {
   "cell_type": "code",
   "execution_count": 1,
   "id": "026409e5-b48b-4600-a4cc-5031c7bd37fb",
   "metadata": {
    "tags": []
   },
   "outputs": [
    {
     "data": {
      "text/plain": [
       "<ipyparallel.client.client.Client at 0x7f4ad85a62c0>"
      ]
     },
     "execution_count": 1,
     "metadata": {},
     "output_type": "execute_result"
    }
   ],
   "source": [
    "import ipyparallel as ipp\n",
    "\n",
    "cluster = ipp.Cluster.from_file(\"/home/scc/lennart.giessing/.ipython/profile_gpu/security/cluster-.json\")\n",
    "rc = cluster.connect_client_sync()\n",
    "rc"
   ]
  },
  {
   "cell_type": "code",
   "execution_count": 2,
   "id": "24131ae7-aeeb-441e-853a-443265a54898",
   "metadata": {
    "tags": []
   },
   "outputs": [],
   "source": [
    "import numpy as np\n",
    "import pandas as pd\n",
    "from sklearn.model_selection import train_test_split\n",
    "import scipy.sparse as sp\n",
    "import json\n",
    "import zipfile\n",
    "from scipy.sparse import load_npz\n",
    "import random\n",
    "from tqdm import tqdm"
   ]
  },
  {
   "cell_type": "code",
   "execution_count": 3,
   "id": "ef5562c5-71e3-495b-9d15-2e884dbe98ca",
   "metadata": {
    "tags": []
   },
   "outputs": [],
   "source": [
    "# Load datasets\n",
    "chats = pd.read_parquet('../02_data/chats.parquet')\n",
    "\n",
    "chat_index = np.load('../02_data/chat_index.npy')\n",
    "url_domains = pd.read_csv('../02_data/url_domains.csv')\n",
    "# url_domains.info()\n",
    "#domain_pc1 = pd.read_csv('../02_data/domain_pc1.csv')\n",
    "url_data = pd.read_parquet('../02_data/url.data.parquet')\n",
    "chat_url_shares = load_npz('../02_data/chat_url_shares.npz')\n"
   ]
  },
  {
   "cell_type": "code",
   "execution_count": 4,
   "id": "c8f36c20-bc0a-465c-bbc8-3f14ea1c9d52",
   "metadata": {
    "tags": []
   },
   "outputs": [
    {
     "name": "stdout",
     "output_type": "stream",
     "text": [
      "<class 'pandas.core.frame.DataFrame'>\n",
      "RangeIndex: 18141615 entries, 0 to 18141614\n",
      "Data columns (total 19 columns):\n",
      " #   Column               Dtype  \n",
      "---  ------               -----  \n",
      " 0   index                int64  \n",
      " 1   url                  object \n",
      " 2   domain               object \n",
      " 3   messages             int64  \n",
      " 4   chats                int64  \n",
      " 5   avalanches           int64  \n",
      " 6   mean_avalanche_size  float64\n",
      " 7   top_avalanche_size   int64  \n",
      " 8   virality             float64\n",
      " 9   top_shares_1h        int64  \n",
      " 10  top_shares_6h        int64  \n",
      " 11  top_shares_1d        int64  \n",
      " 12  top_shares_3d        int64  \n",
      " 13  top_shares_14d       int64  \n",
      " 14  first_share_date     object \n",
      " 15  final_share_date     object \n",
      " 16  pc1                  float64\n",
      " 17  rank                 float64\n",
      " 18  year                 int64  \n",
      "dtypes: float64(4), int64(11), object(4)\n",
      "memory usage: 2.6+ GB\n"
     ]
    }
   ],
   "source": [
    "url_domains.info()"
   ]
  },
  {
   "cell_type": "code",
   "execution_count": 5,
   "id": "0fa57086-5d15-46e7-a86a-1d56f6a6f181",
   "metadata": {
    "tags": []
   },
   "outputs": [
    {
     "data": {
      "text/html": [
       "<div>\n",
       "<style scoped>\n",
       "    .dataframe tbody tr th:only-of-type {\n",
       "        vertical-align: middle;\n",
       "    }\n",
       "\n",
       "    .dataframe tbody tr th {\n",
       "        vertical-align: top;\n",
       "    }\n",
       "\n",
       "    .dataframe thead th {\n",
       "        text-align: right;\n",
       "    }\n",
       "</style>\n",
       "<table border=\"1\" class=\"dataframe\">\n",
       "  <thead>\n",
       "    <tr style=\"text-align: right;\">\n",
       "      <th></th>\n",
       "      <th>index</th>\n",
       "      <th>url</th>\n",
       "      <th>domain</th>\n",
       "      <th>messages</th>\n",
       "      <th>chats</th>\n",
       "      <th>avalanches</th>\n",
       "      <th>mean_avalanche_size</th>\n",
       "      <th>top_avalanche_size</th>\n",
       "      <th>virality</th>\n",
       "      <th>top_shares_1h</th>\n",
       "      <th>top_shares_6h</th>\n",
       "      <th>top_shares_1d</th>\n",
       "      <th>top_shares_3d</th>\n",
       "      <th>top_shares_14d</th>\n",
       "      <th>first_share_date</th>\n",
       "      <th>final_share_date</th>\n",
       "      <th>pc1</th>\n",
       "      <th>rank</th>\n",
       "      <th>year</th>\n",
       "    </tr>\n",
       "  </thead>\n",
       "  <tbody>\n",
       "    <tr>\n",
       "      <th>0</th>\n",
       "      <td>3</td>\n",
       "      <td>https://live.childrenshealthdefense.org/shows/...</td>\n",
       "      <td>childrenshealthdefense.org</td>\n",
       "      <td>31</td>\n",
       "      <td>24</td>\n",
       "      <td>18</td>\n",
       "      <td>1.722222</td>\n",
       "      <td>8</td>\n",
       "      <td>0.327384</td>\n",
       "      <td>8</td>\n",
       "      <td>8</td>\n",
       "      <td>8</td>\n",
       "      <td>14</td>\n",
       "      <td>17</td>\n",
       "      <td>2022-09-23 00:56:14.000000</td>\n",
       "      <td>2023-07-03 12:05:08.872485</td>\n",
       "      <td>0.176170</td>\n",
       "      <td>1329.0</td>\n",
       "      <td>2022</td>\n",
       "    </tr>\n",
       "    <tr>\n",
       "      <th>1</th>\n",
       "      <td>39</td>\n",
       "      <td>https://vernoncoleman.org/articles/vernon-cole...</td>\n",
       "      <td>vernoncoleman.org</td>\n",
       "      <td>10</td>\n",
       "      <td>6</td>\n",
       "      <td>6</td>\n",
       "      <td>1.666667</td>\n",
       "      <td>5</td>\n",
       "      <td>0.547723</td>\n",
       "      <td>4</td>\n",
       "      <td>6</td>\n",
       "      <td>6</td>\n",
       "      <td>7</td>\n",
       "      <td>9</td>\n",
       "      <td>2023-05-30 11:12:51.426699</td>\n",
       "      <td>2023-06-14 13:44:37.560958</td>\n",
       "      <td>0.569545</td>\n",
       "      <td>166.0</td>\n",
       "      <td>2023</td>\n",
       "    </tr>\n",
       "    <tr>\n",
       "      <th>2</th>\n",
       "      <td>41</td>\n",
       "      <td>https://www.naturalblaze.com/2023/03/us-govern...</td>\n",
       "      <td>naturalblaze.com</td>\n",
       "      <td>84</td>\n",
       "      <td>62</td>\n",
       "      <td>57</td>\n",
       "      <td>1.473684</td>\n",
       "      <td>5</td>\n",
       "      <td>0.154303</td>\n",
       "      <td>4</td>\n",
       "      <td>11</td>\n",
       "      <td>11</td>\n",
       "      <td>15</td>\n",
       "      <td>24</td>\n",
       "      <td>2023-03-17 12:40:30.000000</td>\n",
       "      <td>2023-08-28 21:37:09.214585</td>\n",
       "      <td>0.227196</td>\n",
       "      <td>9.0</td>\n",
       "      <td>2023</td>\n",
       "    </tr>\n",
       "    <tr>\n",
       "      <th>3</th>\n",
       "      <td>42</td>\n",
       "      <td>https://expose-news.com/2023/05/26/rockefeller...</td>\n",
       "      <td>expose-news.com</td>\n",
       "      <td>118</td>\n",
       "      <td>69</td>\n",
       "      <td>76</td>\n",
       "      <td>1.552632</td>\n",
       "      <td>11</td>\n",
       "      <td>0.161685</td>\n",
       "      <td>6</td>\n",
       "      <td>24</td>\n",
       "      <td>33</td>\n",
       "      <td>42</td>\n",
       "      <td>69</td>\n",
       "      <td>2023-05-26 11:00:16.000000</td>\n",
       "      <td>2023-09-01 13:58:19.683013</td>\n",
       "      <td>0.305736</td>\n",
       "      <td>258.0</td>\n",
       "      <td>2023</td>\n",
       "    </tr>\n",
       "    <tr>\n",
       "      <th>4</th>\n",
       "      <td>43</td>\n",
       "      <td>https://rumble.com/vxv8s3-the-fluoride-decepti...</td>\n",
       "      <td>rumble.com</td>\n",
       "      <td>131</td>\n",
       "      <td>96</td>\n",
       "      <td>81</td>\n",
       "      <td>1.617284</td>\n",
       "      <td>15</td>\n",
       "      <td>0.178861</td>\n",
       "      <td>12</td>\n",
       "      <td>23</td>\n",
       "      <td>37</td>\n",
       "      <td>40</td>\n",
       "      <td>45</td>\n",
       "      <td>2022-03-19 19:19:15.000000</td>\n",
       "      <td>2023-08-29 19:00:44.889558</td>\n",
       "      <td>0.162506</td>\n",
       "      <td>3530.0</td>\n",
       "      <td>2022</td>\n",
       "    </tr>\n",
       "    <tr>\n",
       "      <th>...</th>\n",
       "      <td>...</td>\n",
       "      <td>...</td>\n",
       "      <td>...</td>\n",
       "      <td>...</td>\n",
       "      <td>...</td>\n",
       "      <td>...</td>\n",
       "      <td>...</td>\n",
       "      <td>...</td>\n",
       "      <td>...</td>\n",
       "      <td>...</td>\n",
       "      <td>...</td>\n",
       "      <td>...</td>\n",
       "      <td>...</td>\n",
       "      <td>...</td>\n",
       "      <td>...</td>\n",
       "      <td>...</td>\n",
       "      <td>...</td>\n",
       "      <td>...</td>\n",
       "      <td>...</td>\n",
       "    </tr>\n",
       "    <tr>\n",
       "      <th>18141610</th>\n",
       "      <td>60788523</td>\n",
       "      <td>https://YouTube.com/OnlineFormOfficial</td>\n",
       "      <td>youtube.com</td>\n",
       "      <td>98</td>\n",
       "      <td>1</td>\n",
       "      <td>84</td>\n",
       "      <td>1.166667</td>\n",
       "      <td>3</td>\n",
       "      <td>0.116344</td>\n",
       "      <td>3</td>\n",
       "      <td>5</td>\n",
       "      <td>7</td>\n",
       "      <td>12</td>\n",
       "      <td>31</td>\n",
       "      <td>2021-06-01 08:15:45</td>\n",
       "      <td>2021-09-30 09:30:24</td>\n",
       "      <td>0.375093</td>\n",
       "      <td>16627.0</td>\n",
       "      <td>2021</td>\n",
       "    </tr>\n",
       "    <tr>\n",
       "      <th>18141611</th>\n",
       "      <td>60788824</td>\n",
       "      <td>https://YouTube.com/OnlineFormOfficial*</td>\n",
       "      <td>youtube.com</td>\n",
       "      <td>3</td>\n",
       "      <td>1</td>\n",
       "      <td>3</td>\n",
       "      <td>1.000000</td>\n",
       "      <td>1</td>\n",
       "      <td>0.577350</td>\n",
       "      <td>1</td>\n",
       "      <td>1</td>\n",
       "      <td>1</td>\n",
       "      <td>1</td>\n",
       "      <td>2</td>\n",
       "      <td>2021-06-03 10:02:29</td>\n",
       "      <td>2021-06-19 12:25:11</td>\n",
       "      <td>0.375093</td>\n",
       "      <td>1709042.0</td>\n",
       "      <td>2021</td>\n",
       "    </tr>\n",
       "    <tr>\n",
       "      <th>18141612</th>\n",
       "      <td>60788884</td>\n",
       "      <td>https://youtube.com/c/OnlineFormOfficial</td>\n",
       "      <td>youtube.com</td>\n",
       "      <td>2</td>\n",
       "      <td>1</td>\n",
       "      <td>2</td>\n",
       "      <td>1.000000</td>\n",
       "      <td>1</td>\n",
       "      <td>0.707107</td>\n",
       "      <td>1</td>\n",
       "      <td>1</td>\n",
       "      <td>1</td>\n",
       "      <td>2</td>\n",
       "      <td>2</td>\n",
       "      <td>2021-05-27 07:02:17</td>\n",
       "      <td>2021-05-29 05:21:09</td>\n",
       "      <td>0.375093</td>\n",
       "      <td>397065.0</td>\n",
       "      <td>2021</td>\n",
       "    </tr>\n",
       "    <tr>\n",
       "      <th>18141613</th>\n",
       "      <td>60788897</td>\n",
       "      <td>https://youtube.com/channel/UCNqG6qB7_ttYapMNH...</td>\n",
       "      <td>youtube.com</td>\n",
       "      <td>9</td>\n",
       "      <td>1</td>\n",
       "      <td>9</td>\n",
       "      <td>1.000000</td>\n",
       "      <td>1</td>\n",
       "      <td>0.333333</td>\n",
       "      <td>1</td>\n",
       "      <td>2</td>\n",
       "      <td>3</td>\n",
       "      <td>6</td>\n",
       "      <td>9</td>\n",
       "      <td>2021-05-13 05:03:52</td>\n",
       "      <td>2021-05-25 12:01:17</td>\n",
       "      <td>0.375093</td>\n",
       "      <td>60177.0</td>\n",
       "      <td>2021</td>\n",
       "    </tr>\n",
       "    <tr>\n",
       "      <th>18141614</th>\n",
       "      <td>60788944</td>\n",
       "      <td>https://youtube.com/channel/UCNqG6qB7_ttYapMNH...</td>\n",
       "      <td>youtube.com</td>\n",
       "      <td>1</td>\n",
       "      <td>1</td>\n",
       "      <td>1</td>\n",
       "      <td>1.000000</td>\n",
       "      <td>1</td>\n",
       "      <td>1.000000</td>\n",
       "      <td>1</td>\n",
       "      <td>1</td>\n",
       "      <td>1</td>\n",
       "      <td>1</td>\n",
       "      <td>1</td>\n",
       "      <td>2021-05-06 07:11:16</td>\n",
       "      <td>2021-05-06 07:11:16</td>\n",
       "      <td>0.375093</td>\n",
       "      <td>1709043.0</td>\n",
       "      <td>2021</td>\n",
       "    </tr>\n",
       "  </tbody>\n",
       "</table>\n",
       "<p>18141615 rows × 19 columns</p>\n",
       "</div>"
      ],
      "text/plain": [
       "             index                                                url  \\\n",
       "0                3  https://live.childrenshealthdefense.org/shows/...   \n",
       "1               39  https://vernoncoleman.org/articles/vernon-cole...   \n",
       "2               41  https://www.naturalblaze.com/2023/03/us-govern...   \n",
       "3               42  https://expose-news.com/2023/05/26/rockefeller...   \n",
       "4               43  https://rumble.com/vxv8s3-the-fluoride-decepti...   \n",
       "...            ...                                                ...   \n",
       "18141610  60788523             https://YouTube.com/OnlineFormOfficial   \n",
       "18141611  60788824            https://YouTube.com/OnlineFormOfficial*   \n",
       "18141612  60788884           https://youtube.com/c/OnlineFormOfficial   \n",
       "18141613  60788897  https://youtube.com/channel/UCNqG6qB7_ttYapMNH...   \n",
       "18141614  60788944  https://youtube.com/channel/UCNqG6qB7_ttYapMNH...   \n",
       "\n",
       "                              domain  messages  chats  avalanches  \\\n",
       "0         childrenshealthdefense.org        31     24          18   \n",
       "1                  vernoncoleman.org        10      6           6   \n",
       "2                   naturalblaze.com        84     62          57   \n",
       "3                    expose-news.com       118     69          76   \n",
       "4                         rumble.com       131     96          81   \n",
       "...                              ...       ...    ...         ...   \n",
       "18141610                 youtube.com        98      1          84   \n",
       "18141611                 youtube.com         3      1           3   \n",
       "18141612                 youtube.com         2      1           2   \n",
       "18141613                 youtube.com         9      1           9   \n",
       "18141614                 youtube.com         1      1           1   \n",
       "\n",
       "          mean_avalanche_size  top_avalanche_size  virality  top_shares_1h  \\\n",
       "0                    1.722222                   8  0.327384              8   \n",
       "1                    1.666667                   5  0.547723              4   \n",
       "2                    1.473684                   5  0.154303              4   \n",
       "3                    1.552632                  11  0.161685              6   \n",
       "4                    1.617284                  15  0.178861             12   \n",
       "...                       ...                 ...       ...            ...   \n",
       "18141610             1.166667                   3  0.116344              3   \n",
       "18141611             1.000000                   1  0.577350              1   \n",
       "18141612             1.000000                   1  0.707107              1   \n",
       "18141613             1.000000                   1  0.333333              1   \n",
       "18141614             1.000000                   1  1.000000              1   \n",
       "\n",
       "          top_shares_6h  top_shares_1d  top_shares_3d  top_shares_14d  \\\n",
       "0                     8              8             14              17   \n",
       "1                     6              6              7               9   \n",
       "2                    11             11             15              24   \n",
       "3                    24             33             42              69   \n",
       "4                    23             37             40              45   \n",
       "...                 ...            ...            ...             ...   \n",
       "18141610              5              7             12              31   \n",
       "18141611              1              1              1               2   \n",
       "18141612              1              1              2               2   \n",
       "18141613              2              3              6               9   \n",
       "18141614              1              1              1               1   \n",
       "\n",
       "                    first_share_date            final_share_date       pc1  \\\n",
       "0         2022-09-23 00:56:14.000000  2023-07-03 12:05:08.872485  0.176170   \n",
       "1         2023-05-30 11:12:51.426699  2023-06-14 13:44:37.560958  0.569545   \n",
       "2         2023-03-17 12:40:30.000000  2023-08-28 21:37:09.214585  0.227196   \n",
       "3         2023-05-26 11:00:16.000000  2023-09-01 13:58:19.683013  0.305736   \n",
       "4         2022-03-19 19:19:15.000000  2023-08-29 19:00:44.889558  0.162506   \n",
       "...                              ...                         ...       ...   \n",
       "18141610         2021-06-01 08:15:45         2021-09-30 09:30:24  0.375093   \n",
       "18141611         2021-06-03 10:02:29         2021-06-19 12:25:11  0.375093   \n",
       "18141612         2021-05-27 07:02:17         2021-05-29 05:21:09  0.375093   \n",
       "18141613         2021-05-13 05:03:52         2021-05-25 12:01:17  0.375093   \n",
       "18141614         2021-05-06 07:11:16         2021-05-06 07:11:16  0.375093   \n",
       "\n",
       "               rank  year  \n",
       "0            1329.0  2022  \n",
       "1             166.0  2023  \n",
       "2               9.0  2023  \n",
       "3             258.0  2023  \n",
       "4            3530.0  2022  \n",
       "...             ...   ...  \n",
       "18141610    16627.0  2021  \n",
       "18141611  1709042.0  2021  \n",
       "18141612   397065.0  2021  \n",
       "18141613    60177.0  2021  \n",
       "18141614  1709043.0  2021  \n",
       "\n",
       "[18141615 rows x 19 columns]"
      ]
     },
     "execution_count": 5,
     "metadata": {},
     "output_type": "execute_result"
    }
   ],
   "source": [
    "url_domains"
   ]
  },
  {
   "cell_type": "code",
   "execution_count": 6,
   "id": "3c1b8c44-00b4-4d08-8ca1-116422a9e919",
   "metadata": {
    "tags": []
   },
   "outputs": [],
   "source": [
    "domain_index = np.load('../02_data/domain_index.npy')"
   ]
  },
  {
   "cell_type": "code",
   "execution_count": 7,
   "id": "6836b665-695c-42f7-8909-ef9474ac1ce2",
   "metadata": {
    "tags": []
   },
   "outputs": [
    {
     "data": {
      "text/plain": [
       "array(['drsambailey.com', 'jermwarfare.com', 'yummy.doctor', ...,\n",
       "       'arahdrive.com', 'tb.cn', 'wcash.vip'], dtype='<U62')"
      ]
     },
     "execution_count": 7,
     "metadata": {},
     "output_type": "execute_result"
    }
   ],
   "source": [
    "domain_index"
   ]
  },
  {
   "cell_type": "markdown",
   "id": "ee1090a1-fb0b-4de3-86a1-317c17d7e20c",
   "metadata": {},
   "source": [
    "## Check Embeddings"
   ]
  },
  {
   "cell_type": "code",
   "execution_count": 8,
   "id": "a9ea46b6-0c89-4ce6-baaa-3c638205b302",
   "metadata": {
    "tags": []
   },
   "outputs": [
    {
     "ename": "KeyboardInterrupt",
     "evalue": "",
     "output_type": "error",
     "traceback": [
      "\u001b[0;31m---------------------------------------------------------------------------\u001b[0m",
      "\u001b[0;31mKeyboardInterrupt\u001b[0m                         Traceback (most recent call last)",
      "Cell \u001b[0;32mIn[8], line 8\u001b[0m\n\u001b[1;32m      5\u001b[0m article_embeddings_path \u001b[38;5;241m=\u001b[39m \u001b[38;5;124m'\u001b[39m\u001b[38;5;124m../02_data/article_embeddings/article_embeddings.txt\u001b[39m\u001b[38;5;124m'\u001b[39m   \u001b[38;5;66;03m# pickle\u001b[39;00m\n\u001b[1;32m      7\u001b[0m \u001b[38;5;28;01mwith\u001b[39;00m \u001b[38;5;28mopen\u001b[39m(article_embeddings_path, \u001b[38;5;124m'\u001b[39m\u001b[38;5;124mr\u001b[39m\u001b[38;5;124m'\u001b[39m) \u001b[38;5;28;01mas\u001b[39;00m file:\n\u001b[0;32m----> 8\u001b[0m     article_data \u001b[38;5;241m=\u001b[39m \u001b[43mjson\u001b[49m\u001b[38;5;241;43m.\u001b[39;49m\u001b[43mload\u001b[49m\u001b[43m(\u001b[49m\u001b[43mfile\u001b[49m\u001b[43m)\u001b[49m\n\u001b[1;32m     10\u001b[0m article_embeddings \u001b[38;5;241m=\u001b[39m pd\u001b[38;5;241m.\u001b[39mDataFrame(article_data)\n\u001b[1;32m     11\u001b[0m article_embeddings\u001b[38;5;241m.\u001b[39minfo()\n",
      "File \u001b[0;32m/usr/lib64/python3.10/json/__init__.py:293\u001b[0m, in \u001b[0;36mload\u001b[0;34m(fp, cls, object_hook, parse_float, parse_int, parse_constant, object_pairs_hook, **kw)\u001b[0m\n\u001b[1;32m    274\u001b[0m \u001b[38;5;28;01mdef\u001b[39;00m \u001b[38;5;21mload\u001b[39m(fp, \u001b[38;5;241m*\u001b[39m, \u001b[38;5;28mcls\u001b[39m\u001b[38;5;241m=\u001b[39m\u001b[38;5;28;01mNone\u001b[39;00m, object_hook\u001b[38;5;241m=\u001b[39m\u001b[38;5;28;01mNone\u001b[39;00m, parse_float\u001b[38;5;241m=\u001b[39m\u001b[38;5;28;01mNone\u001b[39;00m,\n\u001b[1;32m    275\u001b[0m         parse_int\u001b[38;5;241m=\u001b[39m\u001b[38;5;28;01mNone\u001b[39;00m, parse_constant\u001b[38;5;241m=\u001b[39m\u001b[38;5;28;01mNone\u001b[39;00m, object_pairs_hook\u001b[38;5;241m=\u001b[39m\u001b[38;5;28;01mNone\u001b[39;00m, \u001b[38;5;241m*\u001b[39m\u001b[38;5;241m*\u001b[39mkw):\n\u001b[1;32m    276\u001b[0m \u001b[38;5;250m    \u001b[39m\u001b[38;5;124;03m\"\"\"Deserialize ``fp`` (a ``.read()``-supporting file-like object containing\u001b[39;00m\n\u001b[1;32m    277\u001b[0m \u001b[38;5;124;03m    a JSON document) to a Python object.\u001b[39;00m\n\u001b[1;32m    278\u001b[0m \n\u001b[0;32m   (...)\u001b[0m\n\u001b[1;32m    291\u001b[0m \u001b[38;5;124;03m    kwarg; otherwise ``JSONDecoder`` is used.\u001b[39;00m\n\u001b[1;32m    292\u001b[0m \u001b[38;5;124;03m    \"\"\"\u001b[39;00m\n\u001b[0;32m--> 293\u001b[0m     \u001b[38;5;28;01mreturn\u001b[39;00m loads(\u001b[43mfp\u001b[49m\u001b[38;5;241;43m.\u001b[39;49m\u001b[43mread\u001b[49m\u001b[43m(\u001b[49m\u001b[43m)\u001b[49m,\n\u001b[1;32m    294\u001b[0m         \u001b[38;5;28mcls\u001b[39m\u001b[38;5;241m=\u001b[39m\u001b[38;5;28mcls\u001b[39m, object_hook\u001b[38;5;241m=\u001b[39mobject_hook,\n\u001b[1;32m    295\u001b[0m         parse_float\u001b[38;5;241m=\u001b[39mparse_float, parse_int\u001b[38;5;241m=\u001b[39mparse_int,\n\u001b[1;32m    296\u001b[0m         parse_constant\u001b[38;5;241m=\u001b[39mparse_constant, object_pairs_hook\u001b[38;5;241m=\u001b[39mobject_pairs_hook, \u001b[38;5;241m*\u001b[39m\u001b[38;5;241m*\u001b[39mkw)\n",
      "\u001b[0;31mKeyboardInterrupt\u001b[0m: "
     ]
    }
   ],
   "source": [
    "# Unzipping files\n",
    "with zipfile.ZipFile('../02_data/article_embeddings.zip', 'r') as zip_ref:\n",
    "    zip_ref.extractall('../02_data/article_embeddings')\n",
    "\n",
    "article_embeddings_path = '../02_data/article_embeddings/article_embeddings.txt'   # pickle\n",
    "    \n",
    "with open(article_embeddings_path, 'r') as file:\n",
    "    article_data = json.load(file)\n",
    "    \n",
    "article_embeddings = pd.DataFrame(article_data)\n",
    "article_embeddings.info()"
   ]
  },
  {
   "cell_type": "code",
   "execution_count": null,
   "id": "e62949ee-b145-49a4-90e0-7af2acabe598",
   "metadata": {
    "tags": []
   },
   "outputs": [],
   "source": [
    "article_embeddings = article_embeddings.drop(columns=['url_index'])"
   ]
  },
  {
   "cell_type": "code",
   "execution_count": null,
   "id": "f1b0deb1-b853-413e-aa1f-0e08fedddb84",
   "metadata": {
    "tags": []
   },
   "outputs": [],
   "source": [
    "# Use the \"index\" column from url_data to correct article_embeddings\n",
    "article_embeddings = pd.merge(\n",
    "    article_embeddings,\n",
    "    url_data[['index', 'url']],\n",
    "    on='url',\n",
    "    how='inner'\n",
    ").rename(columns={'index': 'url_index'})\n",
    "\n",
    "# Merge article_embeddings with url_domains to get domain\n",
    "article_embeddings = pd.merge(\n",
    "    article_embeddings,\n",
    "    url_domains[['url', 'domain']],\n",
    "    on='url',\n",
    "    how='inner'\n",
    ")"
   ]
  },
  {
   "cell_type": "code",
   "execution_count": null,
   "id": "b362e25b-0589-40e3-bffa-f9861a8010b6",
   "metadata": {
    "tags": []
   },
   "outputs": [],
   "source": [
    "article_embeddings.info()"
   ]
  },
  {
   "cell_type": "code",
   "execution_count": null,
   "id": "5f516040-4c7a-497f-b555-3d99ea65b9a3",
   "metadata": {
    "tags": []
   },
   "outputs": [],
   "source": [
    "embeddings = np.vstack(article_embeddings['article_embedding'])\n",
    "print(\"Embeddings shape:\", embeddings.shape)"
   ]
  },
  {
   "cell_type": "code",
   "execution_count": null,
   "id": "6586e041-13e4-43e2-ba71-d98b5ab83357",
   "metadata": {
    "tags": []
   },
   "outputs": [],
   "source": [
    "filtered_df = article_embeddings.loc[article_embeddings['url_index'] < 5000]\n",
    "filtered_embeddings = np.vstack(filtered_df['article_embedding'])"
   ]
  },
  {
   "cell_type": "markdown",
   "id": "3c9f5c3c-5164-42bc-b129-934f8cb81e91",
   "metadata": {},
   "source": [
    "UMAP to reduce the dimensionality of the embeddings to 2D or 3D for visualization, different colors for the scatter plots in order to identify clusters"
   ]
  },
  {
   "cell_type": "code",
   "execution_count": null,
   "id": "b9c7cb7d-f1af-4845-8bb1-af3480963c15",
   "metadata": {
    "tags": []
   },
   "outputs": [],
   "source": [
    "from umap import UMAP\n",
    "import matplotlib.pyplot as plt"
   ]
  },
  {
   "cell_type": "code",
   "execution_count": null,
   "id": "c9b4768d-d107-4de8-8a06-6166279e63aa",
   "metadata": {
    "tags": []
   },
   "outputs": [],
   "source": [
    "# Assuming `embeddings` is a matrix of shape (n_samples, embedding_dim)\n",
    "umap_model = UMAP(n_components=2, random_state=42)\n",
    "low_dim_embeddings = umap_model.fit_transform(filtered_embeddings)\n"
   ]
  },
  {
   "cell_type": "code",
   "execution_count": null,
   "id": "94bc80c3-7a19-4ea5-b380-4a4a4f636270",
   "metadata": {
    "tags": []
   },
   "outputs": [],
   "source": [
    "import seaborn as sns\n",
    "import matplotlib.pyplot as plt\n",
    "\n",
    "# Example plot\n",
    "plt.figure(figsize=(10, 8))\n",
    "sns.scatterplot(\n",
    "    x=low_dim_embeddings[:, 0],\n",
    "    y=low_dim_embeddings[:, 1],\n",
    "    hue=filtered_df['domain'],  # Replace with the metadata, e.g., domains, labels, etc.\n",
    "    palette='Paired',\n",
    "    alpha=0.7\n",
    ")\n",
    "plt.title(\"UMAP Projection of Embeddings\")\n",
    "plt.xlabel(\"UMAP Dimension 1\")\n",
    "plt.ylabel(\"UMAP Dimension 2\")\n",
    "\n",
    "# Hide legend\n",
    "plt.legend([], [], frameon=False)\n",
    "\n",
    "# Export the plot as an image file\n",
    "plt.savefig(\"../03_plots/umap_projection.png\", dpi=300, bbox_inches=\"tight\")\n",
    "\n",
    "# Show the plot (optional)\n",
    "plt.show()\n"
   ]
  },
  {
   "cell_type": "code",
   "execution_count": null,
   "id": "d6d7ba9c-0c51-4614-a883-889c8556ae4e",
   "metadata": {
    "tags": []
   },
   "outputs": [],
   "source": [
    "import plotly.express as px\n",
    "import pandas as pd\n",
    "\n",
    "# Assuming `low_dim_embeddings` is a numpy array and `filtered_df['domain']` is your metadata\n",
    "# Convert data to a DataFrame for Plotly\n",
    "plot_data = pd.DataFrame({\n",
    "    \"UMAP Dim 1\": low_dim_embeddings[:, 0],\n",
    "    \"UMAP Dim 2\": low_dim_embeddings[:, 1],\n",
    "    \"Domain\": filtered_df['domain']\n",
    "})\n",
    "\n",
    "# Create an interactive scatter plot\n",
    "fig = px.scatter(\n",
    "    plot_data,\n",
    "    x=\"UMAP Dim 1\",\n",
    "    y=\"UMAP Dim 2\",\n",
    "    color=\"Domain\",  # Replace with the column you want to use for coloring\n",
    "    title=\"Zoomable UMAP Projection of Embeddings\",\n",
    "    opacity=0.7,\n",
    ")\n",
    "\n",
    "# Customize the plot layout\n",
    "fig.update_layout(\n",
    "    title_font_size=20,\n",
    "    xaxis_title=\"UMAP Dimension 1\",\n",
    "    yaxis_title=\"UMAP Dimension 2\",\n",
    "    legend_title=\"Domain\",  # Optional: customize legend title\n",
    "    showlegend=False,       # Hide legend\n",
    ")\n",
    "\n",
    "# Show the plot\n",
    "fig.show()\n",
    "\n",
    "# Save the plot as an HTML file for sharing\n",
    "fig.write_html(\"../03_plots/zoom_umap_projection.html\")\n"
   ]
  },
  {
   "cell_type": "code",
   "execution_count": null,
   "id": "4475a72d-6e3d-40a9-ac06-e8beff8f96a9",
   "metadata": {
    "tags": []
   },
   "outputs": [],
   "source": [
    "filtered_df.info()"
   ]
  },
  {
   "cell_type": "code",
   "execution_count": null,
   "id": "b29eb52a-5f60-49ff-b058-0c9ce4bf0849",
   "metadata": {
    "tags": []
   },
   "outputs": [],
   "source": [
    "from sklearn.metrics import silhouette_score, normalized_mutual_info_score\n",
    "\n",
    "umap_model = UMAP(n_components=2, random_state=42)\n",
    "low_dim_embeddings = umap_model.fit_transform(filtered_embeddings)\n",
    "\n",
    "# Example for silhouette score\n",
    "sil_score = silhouette_score(low_dim_embeddings, filtered_df['domain'])\n",
    "print(\"Silhouette Score:\", sil_score)"
   ]
  },
  {
   "cell_type": "code",
   "execution_count": null,
   "id": "cdf5e159-a335-4c4a-b55f-a56e55e5eb9f",
   "metadata": {
    "tags": []
   },
   "outputs": [],
   "source": [
    "article_embeddings.info()"
   ]
  },
  {
   "cell_type": "code",
   "execution_count": null,
   "id": "1350a8de-65c9-435e-85fc-6852342ee2a6",
   "metadata": {
    "tags": []
   },
   "outputs": [],
   "source": [
    "social_media_domains = [\n",
    "    'facebook.com', 'instagram.com', 'linkedin.com',\n",
    "    'tiktok.com', 'snapchat.com',\n",
    "    'youtube.com', 'youtu.be',  \n",
    "    'twitter.com', 't.co', 't.me',\n",
    "    'reddit.com', 'redd.it',\n",
    "    #'google.com', 'feedproxy.google.com', 'goo.gl',\n",
    "    # 'amzn.to', 'rumble.com' rumble could be scraped kinda efficient\n",
    "    # 'bit.ly', 'tinyurl.com', 'ow.ly', 'buff.ly', 'shorte.st', 'is.gd', ift.tt link compression \n",
    "    # 'boards.4chan.org', '4chan.org' blog posting \"social media\" platform but not very known and active\n",
    "    # 'telegra.ph' anonymous blog and article \n",
    "]\n",
    "\n",
    "# Function to check if a URL is from a social media site\n",
    "def is_social_media(domain):\n",
    "    try:\n",
    "        return any(domain == sm_domain or domain.endswith(f\".{sm_domain}\") for sm_domain in social_media_domains)\n",
    "    except Exception as e:\n",
    "        print(f\"Error parsing URL: {url}, {e}\")\n",
    "        return None\n",
    "\n",
    "# Filter out rows where the URL is from a social media site\n",
    "embeddings_sm_filtered = article_embeddings[~article_embeddings['domain'].apply(is_social_media)]\n",
    "\n",
    "# Check the cleaned DataFrame\n",
    "print(embeddings_sm_filtered.head())\n",
    "\n",
    "num_social_media = len(article_embeddings) - len(embeddings_sm_filtered)\n",
    "print(f\"Number of URLs in article_embeddings: {len(article_embeddings)}\")\n",
    "print(f\"Number of URLs in filtered df: {len(embeddings_sm_filtered)}\")\n",
    "print(f\"Number of URLs filtered out: {num_social_media}\")"
   ]
  },
  {
   "cell_type": "code",
   "execution_count": null,
   "id": "f5bb7356-5826-4d8f-9245-619722d487c3",
   "metadata": {
    "tags": []
   },
   "outputs": [],
   "source": [
    "# Group by domain and count the number of social media rows\n",
    "article_embeddings['is_social_media'] = article_embeddings['domain'].apply(is_social_media)\n",
    "\n",
    "social_media_counts = (\n",
    "    article_embeddings[article_embeddings['is_social_media']]\n",
    "    .groupby('domain')\n",
    "    .size()\n",
    "    .reset_index(name='count')\n",
    ")\n",
    "\n",
    "print(social_media_counts)"
   ]
  },
  {
   "cell_type": "code",
   "execution_count": null,
   "id": "ded3c02c-ed27-40c9-bcd3-f06ee91b7654",
   "metadata": {
    "tags": []
   },
   "outputs": [],
   "source": [
    "# filtering of social media in original data set\n",
    "article_embeddings = article_embeddings[~article_embeddings['domain'].apply(is_social_media)]"
   ]
  },
  {
   "cell_type": "markdown",
   "id": "ab52d2a9-5cc6-44bf-bcad-08112566d630",
   "metadata": {},
   "source": [
    "### Filter anglish "
   ]
  },
  {
   "cell_type": "code",
   "execution_count": null,
   "id": "cba53406-7952-423d-a2bb-3fd779229cf0",
   "metadata": {
    "tags": []
   },
   "outputs": [],
   "source": [
    "from langdetect import detect, DetectorFactory\n",
    "from langdetect.lang_detect_exception import LangDetectException\n",
    "\n",
    "# Ensure consistent language detection results\n",
    "DetectorFactory.seed = 0\n",
    "\n",
    "# Function to detect if the article is in English\n",
    "def is_english(text):\n",
    "    try:\n",
    "        return detect(text) == 'en'  # Returns True if detected language is English\n",
    "    except LangDetectException:  # Handles empty or invalid text\n",
    "        return False\n",
    "\n",
    "# Apply the filter to keep only English articles\n",
    "english_articles = article_embeddings[article_embeddings['article'].apply(is_english)]\n",
    "\n",
    "# Display the filtered DataFrame\n",
    "print(english_articles.head())\n",
    "\n",
    "# Check counts\n",
    "print(f\"Total articles: {len(article_embeddings)}\")\n",
    "print(f\"English articles: {len(english_articles)}\")\n"
   ]
  },
  {
   "cell_type": "markdown",
   "id": "c83bf7ab-ea72-4112-a195-75f62ba9f39b",
   "metadata": {},
   "source": [
    "## Filter Chat URL matrix"
   ]
  },
  {
   "cell_type": "code",
   "execution_count": null,
   "id": "34459dc6-e30e-4121-af34-6a5053215285",
   "metadata": {
    "tags": []
   },
   "outputs": [],
   "source": [
    "# Filter chat_url_shares to keep only URLs present in article_embeddings\n",
    "valid_url_indices = article_embeddings['url_index'].values\n",
    "filtered_chat_url_shares = chat_url_shares.tocsr()[:, valid_url_indices]"
   ]
  },
  {
   "cell_type": "code",
   "execution_count": null,
   "id": "5d855fe4-e9ed-45c0-a60e-e80deeafa2a7",
   "metadata": {
    "tags": []
   },
   "outputs": [],
   "source": [
    "valid_url_indices"
   ]
  },
  {
   "cell_type": "code",
   "execution_count": null,
   "id": "8e37977d-6098-49a4-b8d3-b037b60fc016",
   "metadata": {
    "tags": []
   },
   "outputs": [],
   "source": [
    "filtered_chat_url_shares"
   ]
  },
  {
   "cell_type": "code",
   "execution_count": null,
   "id": "c93f37b6-52ee-4503-b75e-cdae1095de3d",
   "metadata": {
    "tags": []
   },
   "outputs": [],
   "source": [
    "# Threshold for classification\n",
    "threshold = 0.5\n",
    "\n",
    "# Assign domain indices randomly\n",
    "unique_domains = article_embeddings['domain'].dropna().unique()\n",
    "domain_to_index_map = {domain: idx for idx, domain in enumerate(random.sample(list(unique_domains), len(unique_domains)))}\n",
    "article_embeddings['domain_index'] = article_embeddings['domain'].map(domain_to_index_map)\n",
    "\n",
    "\n",
    "# Add domain information to article embeddings\n",
    "# url_to_domain = url_domains[['url', 'domain']].set_index('url')\n",
    "# article_embeddings = article_embeddings.join(url_to_domain, on='url', rsuffix='_domain')"
   ]
  },
  {
   "cell_type": "code",
   "execution_count": null,
   "id": "a3cddb75-5663-483f-a678-7aa2ffc07c52",
   "metadata": {
    "tags": []
   },
   "outputs": [],
   "source": [
    "# Map domains to domain index\n",
    "url_to_domain = article_embeddings.set_index('url')['domain']\n",
    "# domain_to_index_map = {domain: idx for idx, domain in enumerate(domain_index)}\n",
    "# domain_to_index_map = aggregated_data.set_index('domain')['domain_index']\n",
    "# article_embeddings['domain_index'] = article_embeddings['domain'].map(domain_to_index_map)"
   ]
  },
  {
   "cell_type": "code",
   "execution_count": null,
   "id": "840c320a-713f-4243-8ca7-ae9cea4f1aa8",
   "metadata": {
    "tags": []
   },
   "outputs": [],
   "source": [
    "article_embeddings.info()"
   ]
  },
  {
   "cell_type": "code",
   "execution_count": null,
   "id": "787b46ef-409e-423f-a6e3-4c6471c9a170",
   "metadata": {
    "tags": []
   },
   "outputs": [],
   "source": [
    "# Merge article embeddings with URL metadata\n",
    "merged_data = pd.merge(\n",
    "    article_embeddings,\n",
    "    url_domains[['url', 'virality', 'avalanches', 'messages', 'chats', 'pc1', 'year']],\n",
    "    on='url',\n",
    "    suffixes=('', '_meta')\n",
    ")\n",
    "\n",
    "# Define fake/non-fake labels based on pc1 threshold\n",
    "merged_data['label'] = (merged_data['pc1'] > threshold).astype(int)\n"
   ]
  },
  {
   "cell_type": "code",
   "execution_count": null,
   "id": "cf9eab38-7c7a-42a1-a6ca-56ff642b6f72",
   "metadata": {
    "tags": []
   },
   "outputs": [],
   "source": [
    "merged_data.head()"
   ]
  },
  {
   "cell_type": "code",
   "execution_count": null,
   "id": "df202104-9303-4fd8-b023-4f3a0f2598ce",
   "metadata": {
    "tags": []
   },
   "outputs": [],
   "source": [
    "from sklearn.metrics import silhouette_score, normalized_mutual_info_score\n",
    "\n",
    "umap_model = UMAP(n_components=2, random_state=42)\n",
    "low_dim_embeddings = umap_model.fit_transform(embeddings)\n",
    "\n",
    "# Example for silhouette score\n",
    "sil_score = silhouette_score(low_dim_embeddings, merged_data['domain'])\n",
    "print(\"Silhouette Score:\", sil_score)"
   ]
  },
  {
   "cell_type": "code",
   "execution_count": null,
   "id": "b0f7474f-40a3-4ce8-a729-eac7d0b61f40",
   "metadata": {
    "tags": []
   },
   "outputs": [],
   "source": [
    "# Aggregate URL-based information to the domain level\n",
    "aggregated_data = merged_data.groupby('domain').agg({\n",
    "    'article_embedding': lambda x: np.mean([np.array(ast.literal_eval(e)) if isinstance(e, str) else e for e in x], axis=0),\n",
    "    'virality': 'mean',\n",
    "    'avalanches': 'mean',\n",
    "    'messages': 'mean',\n",
    "    'chats': 'mean',\n",
    "    'year': 'mean',\n",
    "    'domain_index': 'first',\n",
    "    'pc1':'first',\n",
    "    'label': 'first'  \n",
    "}).reset_index()\n",
    "\n",
    "aggregated_data.info()"
   ]
  },
  {
   "cell_type": "code",
   "execution_count": null,
   "id": "b6c6aade-651c-417a-9529-354bf36272fd",
   "metadata": {
    "tags": []
   },
   "outputs": [],
   "source": [
    "aggregated_data"
   ]
  },
  {
   "cell_type": "code",
   "execution_count": null,
   "id": "f8ed4c17-9859-4787-9afd-ddc42f29bc6e",
   "metadata": {
    "tags": []
   },
   "outputs": [],
   "source": [
    "# Train-test split based on nodes (domains)\n",
    "unique_domains = aggregated_data['domain'].unique()\n",
    "train_domains, test_domains = train_test_split(unique_domains, test_size=0.2, random_state=42)\n",
    "\n",
    "# Split data into train and test sets\n",
    "train_data = aggregated_data[aggregated_data['domain'].isin(train_domains)]\n",
    "test_data = aggregated_data[aggregated_data['domain'].isin(test_domains)]\n",
    "\n",
    "node_features = aggregated_data[['domain_index', 'domain', 'article_embedding', 'virality', 'avalanches', 'messages', 'chats', 'year', 'pc1', 'label']].copy()\n",
    "\n",
    "node_features['domain_index'] = node_features['domain_index'].astype(int)\n",
    "node_features['year'] = node_features['year'].astype(int)node_features['virality'] = node_features['virality'].round(2)\n",
    "# node_features['pc1'] = node_features['pc1'].round(2)\n",
    "# node_features['avalanches'] = node_features['avalanches'].round(2)\n",
    "# node_features['messages'] = node_features['messages'].round(2)\n",
    "# node_features['chats'] = node_features['chats'].round(2)"
   ]
  },
  {
   "cell_type": "code",
   "execution_count": null,
   "id": "20ee0839-565a-495d-81fc-f801f13308cd",
   "metadata": {
    "tags": []
   },
   "outputs": [],
   "source": [
    "# Create edge list from filtered_chat_url_shares with domain indices\n",
    "# url_to_domain_map = article_embeddings.set_index('url')['domain']\n",
    "# rows, cols = chat_url_shares.tocsr().nonzero()\n",
    "# edges = []\n",
    "\n",
    "# article_url_map = url_data.set_index('index')['url']"
   ]
  },
  {
   "cell_type": "code",
   "execution_count": null,
   "id": "8c443475-4b26-4cda-82eb-a8da34254495",
   "metadata": {
    "tags": []
   },
   "outputs": [],
   "source": [
    "# Create edge list from filtered_chat_url_shares with domain indices\n",
    "# urls = []\n",
    "# domain = []\n",
    "# for row, col in zip(rows[:10000], cols[:10000]):\n",
    "#     url = article_url_map.iloc[col] if col in article_url_map.index else None\n",
    "#     urls.append(url)\n",
    "#     if url is not None:\n",
    "#         domain.append(url_to_domain[url] if url in url_to_domain.index else None)"
   ]
  },
  {
   "cell_type": "code",
   "execution_count": null,
   "id": "62d1cb1e-5fe2-40d2-a94e-650bb7cdbd46",
   "metadata": {
    "tags": []
   },
   "outputs": [],
   "source": [
    "# Create edge list from filtered_chat_url_shares with domain indices\n",
    "rows, cols = chat_url_shares.tocsr().nonzero()\n",
    "edges = []\n",
    "\n",
    "article_url_map = url_data.set_index('index')['url']\n",
    "\n",
    "for row, col in zip(rows, cols):\n",
    "    url = article_url_map.iloc[col] if col in article_url_map.index else None\n",
    "    if url is not None:\n",
    "        domain = url_to_domain[url] if url in url_to_domain.index else None\n",
    "        domain_index = domain_to_index_map.get(domain)\n",
    "        if domain_index is not None:\n",
    "            edges.append((row, domain_index))\n",
    "edge_list = pd.DataFrame(edges, columns=['chat_id', 'domain_index'])"
   ]
  },
  {
   "cell_type": "code",
   "execution_count": null,
   "id": "e2ae5ad5-03f0-450f-9329-9f53ea02d386",
   "metadata": {
    "tags": []
   },
   "outputs": [],
   "source": [
    "node_features"
   ]
  },
  {
   "cell_type": "code",
   "execution_count": null,
   "id": "4fef13e1-7374-408b-b5e7-c4825167f02c",
   "metadata": {
    "tags": []
   },
   "outputs": [],
   "source": [
    "import matplotlib.pyplot as plt\n",
    "import numpy as np\n",
    "\n",
    "# Sample data\n",
    "# train_sample = train_data.sample(n=100, random_state=42)\n",
    "\n",
    "# Define outlier thresholds for avalanches\n",
    "pc1_threshold_high = train_data['pc1'].quantile(0.9999) \n",
    "pc1_threshold_low = train_data['pc1'].quantile(0.0001)   \n",
    "avalanches_threshold_high = train_data['avalanches'].quantile(0.999)  \n",
    "avalanches_threshold_low = train_data['avalanches'].quantile(0.001)  \n",
    "\n",
    "# Scatter plot\n",
    "plt.figure(figsize=(12, 6))\n",
    "sc = plt.scatter(\n",
    "    train_data['pc1'], \n",
    "    train_data['avalanches'], \n",
    "    alpha=0.5, \n",
    "    #c=train_sample['avalanches'], \n",
    "    #cmap='BuGn', \n",
    "    s=100\n",
    ")\n",
    "\n",
    "# Add color bar\n",
    "#plt.colorbar(sc, label='Avalanches')\n",
    "\n",
    "# Labeling\n",
    "plt.xlabel('Misinformation Score')\n",
    "plt.ylabel('Avalanches')\n",
    "plt.title('Avalanches of Domains vs. Misinformation Score')\n",
    "\n",
    "# Add labels for outliers\n",
    "for pc1, avalanches, domain in zip(train_data['pc1'], train_data['avalanches'], train_data['domain']):\n",
    "    if pc1 > pc1_threshold_high or pc1 < pc1_threshold_low or avalanches > avalanches_threshold_high or avalanches < avalanches_threshold_low:\n",
    "        plt.text(pc1 + 0.02, avalanches, domain, fontsize=9)\n",
    "\n",
    "# Save the figure\n",
    "plt.savefig('../03_plots/sample_scatter_outliers_pc1_avalanches.png')\n",
    "plt.show()\n"
   ]
  },
  {
   "cell_type": "code",
   "execution_count": null,
   "id": "7b25321e-d0c6-4213-ad52-5cd03b7e2c35",
   "metadata": {
    "tags": []
   },
   "outputs": [],
   "source": [
    "print(train_data.info())\n",
    "print(test_data.info())\n",
    "print(edge_list.info())"
   ]
  },
  {
   "cell_type": "code",
   "execution_count": null,
   "id": "c1a074d1-9076-4538-9ef7-34723332e2a4",
   "metadata": {
    "tags": []
   },
   "outputs": [],
   "source": [
    "# Step 5: Save results\n",
    "# edge_list.to_csv('../02_data/train_test/edge_list.csv', index=False)\n",
    "# train_data.to_csv('../02_data/train_test/train_data.csv', index=False)\n",
    "# test_data.to_csv('../02_data/train_test/test_data.csv', index=False)"
   ]
  },
  {
   "cell_type": "code",
   "execution_count": null,
   "id": "34e7bc71-7f0a-43de-9da0-b28a39023655",
   "metadata": {
    "tags": []
   },
   "outputs": [],
   "source": [
    "# node_features.to_csv('../02_data/train_test/node_features.csv', index=False)"
   ]
  }
 ],
 "metadata": {
  "kernelspec": {
   "display_name": "Python 3 (ipykernel)",
   "language": "python",
   "name": "python3"
  },
  "language_info": {
   "codemirror_mode": {
    "name": "ipython",
    "version": 3
   },
   "file_extension": ".py",
   "mimetype": "text/x-python",
   "name": "python",
   "nbconvert_exporter": "python",
   "pygments_lexer": "ipython3",
   "version": "3.10.13"
  }
 },
 "nbformat": 4,
 "nbformat_minor": 5
}
