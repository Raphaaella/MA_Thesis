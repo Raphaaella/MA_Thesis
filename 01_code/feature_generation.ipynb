{
 "cells": [
  {
   "cell_type": "markdown",
   "id": "9ed5516c-873a-425d-8ee5-0d9c7b0f0db9",
   "metadata": {},
   "source": [
    "# Feature Generation"
   ]
  },
  {
   "cell_type": "code",
   "execution_count": 1,
   "id": "a57f640e-7d4c-4901-988a-a67e3d82e90f",
   "metadata": {},
   "outputs": [
    {
     "name": "stdout",
     "output_type": "stream",
     "text": [
      "Collecting plotly\n",
      "  Using cached plotly-6.0.0-py3-none-any.whl.metadata (5.6 kB)\n",
      "Collecting narwhals>=1.15.1 (from plotly)\n",
      "  Using cached narwhals-1.30.0-py3-none-any.whl.metadata (11 kB)\n",
      "Requirement already satisfied: packaging in /opt/conda/lib/python3.11/site-packages (from plotly) (23.2)\n",
      "Using cached plotly-6.0.0-py3-none-any.whl (14.8 MB)\n",
      "Using cached narwhals-1.30.0-py3-none-any.whl (313 kB)\n",
      "Installing collected packages: narwhals, plotly\n",
      "Successfully installed narwhals-1.30.0 plotly-6.0.0\n",
      "Note: you may need to restart the kernel to use updated packages.\n"
     ]
    }
   ],
   "source": [
    "pip install plotly"
   ]
  },
  {
   "cell_type": "code",
   "execution_count": 2,
   "id": "24131ae7-aeeb-441e-853a-443265a54898",
   "metadata": {
    "tags": []
   },
   "outputs": [],
   "source": [
    "import numpy as np\n",
    "import pandas as pd\n",
    "from sklearn.model_selection import train_test_split\n",
    "import scipy.sparse as sp\n",
    "import json\n",
    "import zipfile\n",
    "from scipy.sparse import load_npz\n",
    "import random\n",
    "from tqdm import tqdm\n",
    "import plotly.express as px\n",
    "import pandas as pd"
   ]
  },
  {
   "cell_type": "code",
   "execution_count": 3,
   "id": "149ab1c3-a45a-4e4f-9e0c-7e84279858df",
   "metadata": {
    "tags": []
   },
   "outputs": [],
   "source": [
    "url_domains = pd.read_csv('../02_data/url_domains_compressed.csv.gz', compression='gzip')"
   ]
  },
  {
   "cell_type": "code",
   "execution_count": 4,
   "id": "ef5562c5-71e3-495b-9d15-2e884dbe98ca",
   "metadata": {
    "tags": []
   },
   "outputs": [
    {
     "name": "stdout",
     "output_type": "stream",
     "text": [
      "<class 'pandas.core.frame.DataFrame'>\n",
      "RangeIndex: 18141615 entries, 0 to 18141614\n",
      "Data columns (total 19 columns):\n",
      " #   Column               Dtype  \n",
      "---  ------               -----  \n",
      " 0   index                int64  \n",
      " 1   url                  object \n",
      " 2   domain               object \n",
      " 3   messages             int64  \n",
      " 4   chats                int64  \n",
      " 5   avalanches           int64  \n",
      " 6   mean_avalanche_size  float64\n",
      " 7   top_avalanche_size   int64  \n",
      " 8   virality             float64\n",
      " 9   top_shares_1h        int64  \n",
      " 10  top_shares_6h        int64  \n",
      " 11  top_shares_1d        int64  \n",
      " 12  top_shares_3d        int64  \n",
      " 13  top_shares_14d       int64  \n",
      " 14  first_share_date     object \n",
      " 15  final_share_date     object \n",
      " 16  pc1                  float64\n",
      " 17  rank                 float64\n",
      " 18  year                 int64  \n",
      "dtypes: float64(4), int64(11), object(4)\n",
      "memory usage: 2.6+ GB\n"
     ]
    }
   ],
   "source": [
    "# Load datasets\n",
    "chats = pd.read_parquet('../02_data/chats.parquet')\n",
    "\n",
    "# chat_index = np.load('../02_data/chat_index.npy')\n",
    "# url_domains = pd.read_csv('../02_data/url_domains.csv')\n",
    "url_domains.info()\n",
    "domain_pc1 = pd.read_csv('../02_data/domain_pc1.csv')\n",
    "url_data = pd.read_parquet('../02_data/url.data.parquet')"
   ]
  },
  {
   "cell_type": "code",
   "execution_count": 5,
   "id": "e9752fe0-1910-4b20-908e-68d138fbe40d",
   "metadata": {
    "tags": []
   },
   "outputs": [],
   "source": [
    "chat_url_shares = load_npz('../02_data/chat_url_shares.npz')"
   ]
  },
  {
   "cell_type": "markdown",
   "id": "ee1090a1-fb0b-4de3-86a1-317c17d7e20c",
   "metadata": {},
   "source": [
    "## Check Embeddings"
   ]
  },
  {
   "cell_type": "code",
   "execution_count": 6,
   "id": "a9ea46b6-0c89-4ce6-baaa-3c638205b302",
   "metadata": {
    "tags": []
   },
   "outputs": [
    {
     "name": "stdout",
     "output_type": "stream",
     "text": [
      "<class 'pandas.core.frame.DataFrame'>\n",
      "RangeIndex: 336561 entries, 0 to 336560\n",
      "Data columns (total 4 columns):\n",
      " #   Column     Non-Null Count   Dtype \n",
      "---  ------     --------------   ----- \n",
      " 0   index      336561 non-null  int64 \n",
      " 1   url        336561 non-null  object\n",
      " 2   article    336561 non-null  object\n",
      " 3   embedding  336561 non-null  object\n",
      "dtypes: int64(1), object(3)\n",
      "memory usage: 10.3+ MB\n"
     ]
    }
   ],
   "source": [
    "article_embeddings = pd.read_parquet(\"../02_data/article_embeddings.parquet\")\n",
    "article_embeddings.info()"
   ]
  },
  {
   "cell_type": "code",
   "execution_count": 7,
   "id": "f1b0deb1-b853-413e-aa1f-0e08fedddb84",
   "metadata": {
    "tags": []
   },
   "outputs": [],
   "source": [
    "# Merge article_embeddings with url_domains to get domain\n",
    "article_embeddings = pd.merge(\n",
    "    article_embeddings,\n",
    "    url_domains[['index', 'domain', 'virality', 'avalanches', 'messages', 'chats', 'pc1', 'year']],\n",
    "    on='index',\n",
    "    how='inner'\n",
    ").rename(columns={'index': 'url_index', 'embedding':'article_embedding'})"
   ]
  },
  {
   "cell_type": "code",
   "execution_count": 8,
   "id": "b362e25b-0589-40e3-bffa-f9861a8010b6",
   "metadata": {
    "tags": []
   },
   "outputs": [
    {
     "name": "stdout",
     "output_type": "stream",
     "text": [
      "<class 'pandas.core.frame.DataFrame'>\n",
      "RangeIndex: 336561 entries, 0 to 336560\n",
      "Data columns (total 11 columns):\n",
      " #   Column             Non-Null Count   Dtype  \n",
      "---  ------             --------------   -----  \n",
      " 0   url_index          336561 non-null  int64  \n",
      " 1   url                336561 non-null  object \n",
      " 2   article            336561 non-null  object \n",
      " 3   article_embedding  336561 non-null  object \n",
      " 4   domain             336561 non-null  object \n",
      " 5   virality           336561 non-null  float64\n",
      " 6   avalanches         336561 non-null  int64  \n",
      " 7   messages           336561 non-null  int64  \n",
      " 8   chats              336561 non-null  int64  \n",
      " 9   pc1                336561 non-null  float64\n",
      " 10  year               336561 non-null  int64  \n",
      "dtypes: float64(2), int64(5), object(4)\n",
      "memory usage: 28.2+ MB\n"
     ]
    }
   ],
   "source": [
    "article_embeddings.info()"
   ]
  },
  {
   "cell_type": "code",
   "execution_count": 9,
   "id": "5f516040-4c7a-497f-b555-3d99ea65b9a3",
   "metadata": {
    "tags": []
   },
   "outputs": [
    {
     "name": "stdout",
     "output_type": "stream",
     "text": [
      "Embeddings shape: (336561, 384)\n"
     ]
    }
   ],
   "source": [
    "embeddings = np.vstack(article_embeddings['article_embedding'])\n",
    "print(\"Embeddings shape:\", embeddings.shape)"
   ]
  },
  {
   "cell_type": "code",
   "execution_count": 10,
   "id": "6586e041-13e4-43e2-ba71-d98b5ab83357",
   "metadata": {
    "tags": []
   },
   "outputs": [],
   "source": [
    "filtered_df = article_embeddings.loc[article_embeddings['url_index'] < 5000]\n",
    "filtered_embeddings = np.vstack(filtered_df['article_embedding'])"
   ]
  },
  {
   "cell_type": "code",
   "execution_count": 11,
   "id": "7fb1b5a4-a33f-4180-b398-3a4631365ad1",
   "metadata": {},
   "outputs": [],
   "source": [
    "# Select 5 random domains\n",
    "random_domains = article_embeddings[\"domain\"].dropna().unique()  # Get unique domains\n",
    "random_sampled_domains = pd.Series(random_domains).sample(5, random_state=42).tolist()  # Select 5 randomly\n",
    "\n",
    "# Filter the dataset to include only the selected domains\n",
    "filtered_df = article_embeddings[article_embeddings[\"domain\"].isin(random_sampled_domains)]\n",
    "\n",
    "# Stack the embeddings\n",
    "filtered_embeddings = np.vstack(filtered_df['article_embedding'])"
   ]
  },
  {
   "cell_type": "code",
   "execution_count": 12,
   "id": "e71ab61e-8606-44b1-b8c6-d3db44b97cef",
   "metadata": {},
   "outputs": [
    {
     "name": "stdout",
     "output_type": "stream",
     "text": [
      "Collecting umap-learn\n",
      "  Using cached umap_learn-0.5.7-py3-none-any.whl.metadata (21 kB)\n",
      "Requirement already satisfied: numpy>=1.17 in /opt/conda/lib/python3.11/site-packages (from umap-learn) (1.24.4)\n",
      "Requirement already satisfied: scipy>=1.3.1 in /opt/conda/lib/python3.11/site-packages (from umap-learn) (1.11.3)\n",
      "Requirement already satisfied: scikit-learn>=0.22 in /opt/conda/lib/python3.11/site-packages (from umap-learn) (1.3.1)\n",
      "Requirement already satisfied: numba>=0.51.2 in /opt/conda/lib/python3.11/site-packages (from umap-learn) (0.57.1)\n",
      "Collecting pynndescent>=0.5 (from umap-learn)\n",
      "  Using cached pynndescent-0.5.13-py3-none-any.whl.metadata (6.8 kB)\n",
      "Requirement already satisfied: tqdm in /opt/conda/lib/python3.11/site-packages (from umap-learn) (4.66.1)\n",
      "Requirement already satisfied: llvmlite<0.41,>=0.40.0dev0 in /opt/conda/lib/python3.11/site-packages (from numba>=0.51.2->umap-learn) (0.40.1)\n",
      "Requirement already satisfied: joblib>=0.11 in /opt/conda/lib/python3.11/site-packages (from pynndescent>=0.5->umap-learn) (1.3.2)\n",
      "Requirement already satisfied: threadpoolctl>=2.0.0 in /opt/conda/lib/python3.11/site-packages (from scikit-learn>=0.22->umap-learn) (3.2.0)\n",
      "Using cached umap_learn-0.5.7-py3-none-any.whl (88 kB)\n",
      "Using cached pynndescent-0.5.13-py3-none-any.whl (56 kB)\n",
      "Installing collected packages: pynndescent, umap-learn\n",
      "Successfully installed pynndescent-0.5.13 umap-learn-0.5.7\n",
      "Note: you may need to restart the kernel to use updated packages.\n"
     ]
    }
   ],
   "source": [
    "pip install umap-learn"
   ]
  },
  {
   "cell_type": "markdown",
   "id": "3c9f5c3c-5164-42bc-b129-934f8cb81e91",
   "metadata": {},
   "source": [
    "UMAP to reduce the dimensionality of the embeddings to 2D or 3D for visualization, different colors for the scatter plots in order to identify clusters"
   ]
  },
  {
   "cell_type": "code",
   "execution_count": 13,
   "id": "b9c7cb7d-f1af-4845-8bb1-af3480963c15",
   "metadata": {
    "tags": []
   },
   "outputs": [],
   "source": [
    "from umap.umap_ import UMAP\n",
    "import matplotlib.pyplot as plt"
   ]
  },
  {
   "cell_type": "code",
   "execution_count": 14,
   "id": "ed121b8c-5a1e-4ed4-8c25-d707079cb4f3",
   "metadata": {},
   "outputs": [],
   "source": [
    "embeddings = np.vstack(filtered_df['article_embedding'])"
   ]
  },
  {
   "cell_type": "code",
   "execution_count": 15,
   "id": "c9b4768d-d107-4de8-8a06-6166279e63aa",
   "metadata": {
    "tags": []
   },
   "outputs": [
    {
     "name": "stderr",
     "output_type": "stream",
     "text": [
      "/opt/conda/lib/python3.11/site-packages/umap/umap_.py:1952: UserWarning: n_jobs value 1 overridden to 1 by setting random_state. Use no seed for parallelism.\n",
      "  warn(\n",
      "OMP: Info #276: omp_set_nested routine deprecated, please use omp_set_max_active_levels instead.\n"
     ]
    }
   ],
   "source": [
    "# Assuming `embeddings` is a matrix of shape (n_samples, embedding_dim)\n",
    "umap_model = UMAP(n_components=2, random_state=42)\n",
    "low_dim_embeddings = umap_model.fit_transform(filtered_embeddings)\n"
   ]
  },
  {
   "cell_type": "code",
   "execution_count": 16,
   "id": "94bc80c3-7a19-4ea5-b380-4a4a4f636270",
   "metadata": {
    "tags": []
   },
   "outputs": [
    {
     "data": {
      "image/png": "[encoded data removed]",
      "text/plain": [
       "<Figure size 1000x800 with 1 Axes>"
      ]
     },
     "metadata": {},
     "output_type": "display_data"
    }
   ],
   "source": [
    "import seaborn as sns\n",
    "import matplotlib.pyplot as plt\n",
    "\n",
    "# Example plot\n",
    "plt.figure(figsize=(10, 8))\n",
    "sns.scatterplot(\n",
    "    x=low_dim_embeddings[:, 0],\n",
    "    y=low_dim_embeddings[:, 1],\n",
    "    hue=filtered_df['domain'],  # Replace with the metadata, e.g., domains, labels, etc.\n",
    "    palette='Paired',\n",
    "    s=100,\n",
    "    alpha=0.9\n",
    ")\n",
    "plt.suptitle(\"UMAP Projection of Article Embeddings\", fontsize=18)\n",
    "plt.title(\"5 Random Filtered Domains\", fontsize=12)\n",
    "plt.xlabel(\"UMAP Dimension 1\", fontsize=12)\n",
    "plt.ylabel(\"UMAP Dimension 2\", fontsize=12)\n",
    "\n",
    "# Hide legend\n",
    "# plt.legend([], [], frameon=False)\n",
    "plt.legend(title=\"Domain\", bbox_to_anchor=(1.05, 1), loc=\"upper left\") #, fontsize=\"big\"\n",
    "\n",
    "# Export the plot as an image file\n",
    "plt.savefig(\"../03_plots/umap_projection.png\", dpi=300, bbox_inches=\"tight\")\n",
    "\n",
    "# Show the plot (optional)\n",
    "plt.show()\n"
   ]
  },
  {
   "cell_type": "code",
   "execution_count": 17,
   "id": "d6d7ba9c-0c51-4614-a883-889c8556ae4e",
   "metadata": {
    "tags": []
   },
   "outputs": [
    {
     "ename": "IndentationError",
     "evalue": "unexpected indent (371432704.py, line 4)",
     "output_type": "error",
     "traceback": [
      "\u001b[0;36m  Cell \u001b[0;32mIn[17], line 4\u001b[0;36m\u001b[0m\n\u001b[0;31m    \"UMAP Dim 1\": low_dim_embeddings[:, 0],\u001b[0m\n\u001b[0m    ^\u001b[0m\n\u001b[0;31mIndentationError\u001b[0m\u001b[0;31m:\u001b[0m unexpected indent\n"
     ]
    }
   ],
   "source": [
    "# Assuming `low_dim_embeddings` is a numpy array and `filtered_df['domain']` is your metadata\n",
    "# Convert data to a DataFrame for Plotly\n",
    "# plot_data = pd.DataFrame({\n",
    "    \"UMAP Dim 1\": low_dim_embeddings[:, 0],\n",
    "    \"UMAP Dim 2\": low_dim_embeddings[:, 1],\n",
    "    \"Domain\": article_embeddings['domain']\n",
    "})\n",
    "\n",
    "# Create an interactive scatter plot\n",
    "# fig = px.scatter(\n",
    "    plot_data,\n",
    "    x=\"UMAP Dim 1\",\n",
    "    y=\"UMAP Dim 2\",\n",
    "    color=\"Domain\",  # Replace with the column you want to use for coloring\n",
    "    title=\"Zoomable UMAP Projection of Article Embeddings\",\n",
    "    opacity=0.7,\n",
    ")\n",
    "\n",
    "# Customize the plot layout\n",
    "# fig.update_layout(\n",
    "    title_font_size=20,\n",
    "    xaxis_title=\"UMAP Dimension 1\",\n",
    "    yaxis_title=\"UMAP Dimension 2\",\n",
    "    legend_title=\"Domain\",  # Optional: customize legend title\n",
    "    showlegend=False,       # Hide legend\n",
    ")\n",
    "\n",
    "# Show the plot\n",
    "# fig.show()\n",
    "\n",
    "# Save the plot as an HTML file for sharing\n",
    "# fig.write_html(\"../03_plots/zoom_umap_projection.html\")\n"
   ]
  },
  {
   "cell_type": "code",
   "execution_count": 18,
   "id": "4475a72d-6e3d-40a9-ac06-e8beff8f96a9",
   "metadata": {
    "tags": []
   },
   "outputs": [
    {
     "name": "stdout",
     "output_type": "stream",
     "text": [
      "<class 'pandas.core.frame.DataFrame'>\n",
      "Index: 178 entries, 6336 to 333552\n",
      "Data columns (total 11 columns):\n",
      " #   Column             Non-Null Count  Dtype  \n",
      "---  ------             --------------  -----  \n",
      " 0   url_index          178 non-null    int64  \n",
      " 1   url                178 non-null    object \n",
      " 2   article            178 non-null    object \n",
      " 3   article_embedding  178 non-null    object \n",
      " 4   domain             178 non-null    object \n",
      " 5   virality           178 non-null    float64\n",
      " 6   avalanches         178 non-null    int64  \n",
      " 7   messages           178 non-null    int64  \n",
      " 8   chats              178 non-null    int64  \n",
      " 9   pc1                178 non-null    float64\n",
      " 10  year               178 non-null    int64  \n",
      "dtypes: float64(2), int64(5), object(4)\n",
      "memory usage: 16.7+ KB\n"
     ]
    }
   ],
   "source": [
    "filtered_df.info()"
   ]
  },
  {
   "cell_type": "code",
   "execution_count": 19,
   "id": "b29eb52a-5f60-49ff-b058-0c9ce4bf0849",
   "metadata": {
    "tags": []
   },
   "outputs": [
    {
     "name": "stdout",
     "output_type": "stream",
     "text": [
      "Silhouette Score: 0.1435738\n"
     ]
    },
    {
     "name": "stderr",
     "output_type": "stream",
     "text": [
      "/opt/conda/lib/python3.11/site-packages/umap/umap_.py:1952: UserWarning: n_jobs value 1 overridden to 1 by setting random_state. Use no seed for parallelism.\n",
      "  warn(\n"
     ]
    }
   ],
   "source": [
    "from sklearn.metrics import silhouette_score, normalized_mutual_info_score\n",
    "\n",
    "umap_model = UMAP(n_components=2, random_state=42)\n",
    "low_dim_embeddings = umap_model.fit_transform(filtered_embeddings)\n",
    "\n",
    "# Example for silhouette score\n",
    "sil_score = silhouette_score(low_dim_embeddings, filtered_df['domain'])\n",
    "print(\"Silhouette Score:\", sil_score)"
   ]
  },
  {
   "cell_type": "code",
   "execution_count": 20,
   "id": "cdf5e159-a335-4c4a-b55f-a56e55e5eb9f",
   "metadata": {
    "tags": []
   },
   "outputs": [
    {
     "name": "stdout",
     "output_type": "stream",
     "text": [
      "<class 'pandas.core.frame.DataFrame'>\n",
      "RangeIndex: 336561 entries, 0 to 336560\n",
      "Data columns (total 11 columns):\n",
      " #   Column             Non-Null Count   Dtype  \n",
      "---  ------             --------------   -----  \n",
      " 0   url_index          336561 non-null  int64  \n",
      " 1   url                336561 non-null  object \n",
      " 2   article            336561 non-null  object \n",
      " 3   article_embedding  336561 non-null  object \n",
      " 4   domain             336561 non-null  object \n",
      " 5   virality           336561 non-null  float64\n",
      " 6   avalanches         336561 non-null  int64  \n",
      " 7   messages           336561 non-null  int64  \n",
      " 8   chats              336561 non-null  int64  \n",
      " 9   pc1                336561 non-null  float64\n",
      " 10  year               336561 non-null  int64  \n",
      "dtypes: float64(2), int64(5), object(4)\n",
      "memory usage: 28.2+ MB\n"
     ]
    }
   ],
   "source": [
    "article_embeddings.info()"
   ]
  },
  {
   "cell_type": "markdown",
   "id": "ab52d2a9-5cc6-44bf-bcad-08112566d630",
   "metadata": {},
   "source": [
    "## Filter English "
   ]
  },
  {
   "cell_type": "code",
   "execution_count": 21,
   "id": "082185f0-01de-494c-bf13-d006dd59d991",
   "metadata": {},
   "outputs": [
    {
     "name": "stdout",
     "output_type": "stream",
     "text": [
      "Collecting langdetect\n",
      "  Using cached langdetect-1.0.9-py3-none-any.whl\n",
      "Requirement already satisfied: six in /opt/conda/lib/python3.11/site-packages (from langdetect) (1.16.0)\n",
      "Installing collected packages: langdetect\n",
      "Successfully installed langdetect-1.0.9\n",
      "Note: you may need to restart the kernel to use updated packages.\n"
     ]
    }
   ],
   "source": [
    "pip install langdetect"
   ]
  },
  {
   "cell_type": "code",
   "execution_count": 22,
   "id": "b2cb9bfd-56cc-404c-ab96-c535dc018067",
   "metadata": {},
   "outputs": [],
   "source": [
    "# from langdetect import detect"
   ]
  },
  {
   "cell_type": "code",
   "execution_count": 23,
   "id": "59e9bb97-9f99-4d22-a4f1-6182ec33b826",
   "metadata": {},
   "outputs": [],
   "source": [
    "tqdm.pandas(desc=\"Processing articles\")\n",
    "\n",
    "# Function to check if text is in English\n",
    "def is_english(text, char_limit=25):\n",
    "    try:\n",
    "        truncated_text = text[:char_limit]  # Shorten the text\n",
    "        return detect(truncated_text) == \"en\"\n",
    "    except:\n",
    "        return False\n",
    "\n",
    "# Apply the function to the column\n",
    "# article_embeddings[\"is_english\"] = article_embeddings[\"article\"].progress_apply(is_english)\n",
    "# Output the results\n",
    "# print(article_embeddings)"
   ]
  },
  {
   "cell_type": "code",
   "execution_count": 24,
   "id": "3128ffd5-c9bd-4c1c-a1d2-be8f47addf14",
   "metadata": {},
   "outputs": [],
   "source": [
    "# Group by domain and count English articles\n",
    "# grouped = article_embeddings.groupby(\"domain\")[\"is_english\"].sum().reset_index()\n",
    "# grouped.columns = [\"domain\", \"english_article_count\"]\n",
    "\n",
    "# Count domains with no English articles\n",
    "# domains_no_english = grouped[grouped[\"english_article_count\"] == 0].shape[0]\n",
    "\n",
    "# Print results\n",
    "# print(\"Articles grouped by domain with English counts:\")\n",
    "# print(grouped)\n",
    "# print(f\"\\nNumber of domains with no English articles: {domains_no_english}\")"
   ]
  },
  {
   "cell_type": "code",
   "execution_count": 25,
   "id": "3c501256-74e1-43d9-a94c-ec619ec82b7c",
   "metadata": {
    "tags": []
   },
   "outputs": [],
   "source": [
    "# article_embeddings = article_embeddings[article_embeddings[\"is_english\"] == True]"
   ]
  },
  {
   "cell_type": "code",
   "execution_count": 26,
   "id": "1bf4df92-4e6f-4fb9-9cfb-8baf6f164df4",
   "metadata": {
    "tags": []
   },
   "outputs": [
    {
     "data": {
      "text/plain": [
       "5942"
      ]
     },
     "execution_count": 26,
     "metadata": {},
     "output_type": "execute_result"
    }
   ],
   "source": [
    "domains = article_embeddings['domain'].unique()\n",
    "len(domains)"
   ]
  },
  {
   "cell_type": "markdown",
   "id": "c83bf7ab-ea72-4112-a195-75f62ba9f39b",
   "metadata": {},
   "source": [
    "## Aggregate Data by Domain"
   ]
  },
  {
   "cell_type": "code",
   "execution_count": 27,
   "id": "34459dc6-e30e-4121-af34-6a5053215285",
   "metadata": {
    "tags": []
   },
   "outputs": [],
   "source": [
    "# Filter chat_url_shares to keep only URLs present in article_embeddings\n",
    "valid_url_indices = article_embeddings['url_index'].values\n",
    "filtered_chat_url_shares = chat_url_shares.tocsr()[:, valid_url_indices]"
   ]
  },
  {
   "cell_type": "code",
   "execution_count": 28,
   "id": "5d855fe4-e9ed-45c0-a60e-e80deeafa2a7",
   "metadata": {
    "tags": []
   },
   "outputs": [
    {
     "data": {
      "text/plain": [
       "array([     102,      949,      960, ...,  3154828, 36333389,  3154829])"
      ]
     },
     "execution_count": 28,
     "metadata": {},
     "output_type": "execute_result"
    }
   ],
   "source": [
    "valid_url_indices"
   ]
  },
  {
   "cell_type": "code",
   "execution_count": 29,
   "id": "8e37977d-6098-49a4-b8d3-b037b60fc016",
   "metadata": {
    "tags": []
   },
   "outputs": [
    {
     "data": {
      "text/plain": [
       "<65338x336561 sparse matrix of type '<class 'numpy.int64'>'\n",
       "\twith 2839421 stored elements in Compressed Sparse Row format>"
      ]
     },
     "execution_count": 29,
     "metadata": {},
     "output_type": "execute_result"
    }
   ],
   "source": [
    "filtered_chat_url_shares"
   ]
  },
  {
   "cell_type": "code",
   "execution_count": 30,
   "id": "c93f37b6-52ee-4503-b75e-cdae1095de3d",
   "metadata": {
    "tags": []
   },
   "outputs": [],
   "source": [
    "# Threshold for classification\n",
    "threshold = 0.5"
   ]
  },
  {
   "cell_type": "code",
   "execution_count": 31,
   "id": "787b46ef-409e-423f-a6e3-4c6471c9a170",
   "metadata": {
    "tags": []
   },
   "outputs": [],
   "source": [
    "# Define fake/non-fake labels based on pc1 threshold\n",
    "article_embeddings['label'] = (article_embeddings['pc1'] > threshold).astype(int)"
   ]
  },
  {
   "cell_type": "code",
   "execution_count": 32,
   "id": "cf9eab38-7c7a-42a1-a6ca-56ff642b6f72",
   "metadata": {
    "tags": []
   },
   "outputs": [
    {
     "data": {
      "text/html": [
       "<div>\n",
       "<style scoped>\n",
       "    .dataframe tbody tr th:only-of-type {\n",
       "        vertical-align: middle;\n",
       "    }\n",
       "\n",
       "    .dataframe tbody tr th {\n",
       "        vertical-align: top;\n",
       "    }\n",
       "\n",
       "    .dataframe thead th {\n",
       "        text-align: right;\n",
       "    }\n",
       "</style>\n",
       "<table border=\"1\" class=\"dataframe\">\n",
       "  <thead>\n",
       "    <tr style=\"text-align: right;\">\n",
       "      <th></th>\n",
       "      <th>url_index</th>\n",
       "      <th>url</th>\n",
       "      <th>article</th>\n",
       "      <th>article_embedding</th>\n",
       "      <th>domain</th>\n",
       "      <th>virality</th>\n",
       "      <th>avalanches</th>\n",
       "      <th>messages</th>\n",
       "      <th>chats</th>\n",
       "      <th>pc1</th>\n",
       "      <th>year</th>\n",
       "      <th>label</th>\n",
       "    </tr>\n",
       "  </thead>\n",
       "  <tbody>\n",
       "    <tr>\n",
       "      <th>0</th>\n",
       "      <td>102</td>\n",
       "      <td>https://doctors4covidethics.org/timeline-of-th...</td>\n",
       "      <td>Timeline: Prof. Sucharit Bhakdi Case – Doctors...</td>\n",
       "      <td>[-0.099953696, 0.24610601, -0.09983195, -0.098...</td>\n",
       "      <td>doctors4covidethics.org</td>\n",
       "      <td>0.154919</td>\n",
       "      <td>70</td>\n",
       "      <td>100</td>\n",
       "      <td>52</td>\n",
       "      <td>0.351909</td>\n",
       "      <td>2023</td>\n",
       "      <td>0</td>\n",
       "    </tr>\n",
       "    <tr>\n",
       "      <th>1</th>\n",
       "      <td>949</td>\n",
       "      <td>https://doctors4covidethics.org/session-iii-ge...</td>\n",
       "      <td>Symposium 5, Session III: Getting Away From th...</td>\n",
       "      <td>[0.088956945, 0.04218834, -0.10458192, 0.06942...</td>\n",
       "      <td>doctors4covidethics.org</td>\n",
       "      <td>0.294392</td>\n",
       "      <td>22</td>\n",
       "      <td>30</td>\n",
       "      <td>25</td>\n",
       "      <td>0.351909</td>\n",
       "      <td>2023</td>\n",
       "      <td>0</td>\n",
       "    </tr>\n",
       "    <tr>\n",
       "      <th>2</th>\n",
       "      <td>960</td>\n",
       "      <td>https://live.childrenshealthdefense.org/chd-tv...</td>\n",
       "      <td>Part 1: Here We Go Again On Steroids | Childre...</td>\n",
       "      <td>[-0.14336067, 0.12084216, 0.058760908, -0.0902...</td>\n",
       "      <td>childrenshealthdefense.org</td>\n",
       "      <td>0.162540</td>\n",
       "      <td>108</td>\n",
       "      <td>186</td>\n",
       "      <td>132</td>\n",
       "      <td>0.176170</td>\n",
       "      <td>2023</td>\n",
       "      <td>0</td>\n",
       "    </tr>\n",
       "    <tr>\n",
       "      <th>3</th>\n",
       "      <td>669</td>\n",
       "      <td>https://www.thepulse.one/p/the-biggest-threat-...</td>\n",
       "      <td>CBDC's &amp; Their Impact On Freedom - by Joe Mart...</td>\n",
       "      <td>[-0.09803312, 0.07620642, -0.39123908, -0.0204...</td>\n",
       "      <td>thepulse.one</td>\n",
       "      <td>0.114767</td>\n",
       "      <td>82</td>\n",
       "      <td>88</td>\n",
       "      <td>51</td>\n",
       "      <td>0.305638</td>\n",
       "      <td>2023</td>\n",
       "      <td>0</td>\n",
       "    </tr>\n",
       "    <tr>\n",
       "      <th>4</th>\n",
       "      <td>90</td>\n",
       "      <td>https://www.dailymail.co.uk/health/article-121...</td>\n",
       "      <td>Prepare for a disease even deadlier than Covid...</td>\n",
       "      <td>[0.049983677, 0.034944754, -0.03067252, -0.012...</td>\n",
       "      <td>dailymail.co.uk</td>\n",
       "      <td>0.236128</td>\n",
       "      <td>194</td>\n",
       "      <td>455</td>\n",
       "      <td>246</td>\n",
       "      <td>0.383861</td>\n",
       "      <td>2023</td>\n",
       "      <td>0</td>\n",
       "    </tr>\n",
       "  </tbody>\n",
       "</table>\n",
       "</div>"
      ],
      "text/plain": [
       "   url_index                                                url  \\\n",
       "0        102  https://doctors4covidethics.org/timeline-of-th...   \n",
       "1        949  https://doctors4covidethics.org/session-iii-ge...   \n",
       "2        960  https://live.childrenshealthdefense.org/chd-tv...   \n",
       "3        669  https://www.thepulse.one/p/the-biggest-threat-...   \n",
       "4         90  https://www.dailymail.co.uk/health/article-121...   \n",
       "\n",
       "                                             article  \\\n",
       "0  Timeline: Prof. Sucharit Bhakdi Case – Doctors...   \n",
       "1  Symposium 5, Session III: Getting Away From th...   \n",
       "2  Part 1: Here We Go Again On Steroids | Childre...   \n",
       "3  CBDC's & Their Impact On Freedom - by Joe Mart...   \n",
       "4  Prepare for a disease even deadlier than Covid...   \n",
       "\n",
       "                                   article_embedding  \\\n",
       "0  [-0.099953696, 0.24610601, -0.09983195, -0.098...   \n",
       "1  [0.088956945, 0.04218834, -0.10458192, 0.06942...   \n",
       "2  [-0.14336067, 0.12084216, 0.058760908, -0.0902...   \n",
       "3  [-0.09803312, 0.07620642, -0.39123908, -0.0204...   \n",
       "4  [0.049983677, 0.034944754, -0.03067252, -0.012...   \n",
       "\n",
       "                       domain  virality  avalanches  messages  chats  \\\n",
       "0     doctors4covidethics.org  0.154919          70       100     52   \n",
       "1     doctors4covidethics.org  0.294392          22        30     25   \n",
       "2  childrenshealthdefense.org  0.162540         108       186    132   \n",
       "3                thepulse.one  0.114767          82        88     51   \n",
       "4             dailymail.co.uk  0.236128         194       455    246   \n",
       "\n",
       "        pc1  year  label  \n",
       "0  0.351909  2023      0  \n",
       "1  0.351909  2023      0  \n",
       "2  0.176170  2023      0  \n",
       "3  0.305638  2023      0  \n",
       "4  0.383861  2023      0  "
      ]
     },
     "execution_count": 32,
     "metadata": {},
     "output_type": "execute_result"
    }
   ],
   "source": [
    "article_embeddings.head()"
   ]
  },
  {
   "cell_type": "code",
   "execution_count": 33,
   "id": "b0f7474f-40a3-4ce8-a729-eac7d0b61f40",
   "metadata": {
    "tags": []
   },
   "outputs": [
    {
     "name": "stdout",
     "output_type": "stream",
     "text": [
      "<class 'pandas.core.frame.DataFrame'>\n",
      "RangeIndex: 5942 entries, 0 to 5941\n",
      "Data columns (total 12 columns):\n",
      " #   Column             Non-Null Count  Dtype  \n",
      "---  ------             --------------  -----  \n",
      " 0   domain             5942 non-null   object \n",
      " 1   domain_index       5942 non-null   int64  \n",
      " 2   url_index          5942 non-null   int64  \n",
      " 3   article            5942 non-null   object \n",
      " 4   article_embedding  5942 non-null   object \n",
      " 5   virality           5942 non-null   float64\n",
      " 6   avalanches         5942 non-null   float64\n",
      " 7   messages           5942 non-null   float64\n",
      " 8   chats              5942 non-null   float64\n",
      " 9   year               5942 non-null   float64\n",
      " 10  pc1                5942 non-null   float64\n",
      " 11  label              5942 non-null   int64  \n",
      "dtypes: float64(6), int64(3), object(3)\n",
      "memory usage: 557.2+ KB\n"
     ]
    }
   ],
   "source": [
    "# Randomly select one article per domain\n",
    "random_article_per_domain = article_embeddings.groupby('domain').apply(lambda x: x.sample(1)).reset_index(drop=True)\n",
    "\n",
    "# adding an index\n",
    "random_article_per_domain['domain_index'] = random_article_per_domain['domain'].factorize()[0]\n",
    "\n",
    "# Aggregate based on the selected articles\n",
    "aggregated_data = random_article_per_domain.groupby('domain').agg({\n",
    "    'domain_index': 'first',\n",
    "    'url_index': 'first',\n",
    "    'article': 'first',\n",
    "    'article_embedding': lambda x: np.mean([np.array(ast.literal_eval(e)) if isinstance(e, str) else e for e in x], axis=0),\n",
    "    'virality': 'mean',\n",
    "    'avalanches': 'mean',\n",
    "    'messages': 'mean',\n",
    "    'chats': 'mean',\n",
    "    'year': 'mean',\n",
    "    'domain_index': 'first',  # Since there's only one per domain\n",
    "    'pc1': 'first',\n",
    "    'label': 'first'  \n",
    "}).reset_index()\n",
    "\n",
    "aggregated_data.info()"
   ]
  },
  {
   "cell_type": "code",
   "execution_count": 34,
   "id": "77a86e19-db93-4b15-a609-804fa742cbd7",
   "metadata": {},
   "outputs": [
    {
     "data": {
      "image/png": "[encoded data removed]",
      "text/plain": [
       "<Figure size 1000x600 with 1 Axes>"
      ]
     },
     "metadata": {},
     "output_type": "display_data"
    }
   ],
   "source": [
    "# Compute mean and median\n",
    "mean_value = aggregated_data['pc1'].mean()\n",
    "median_value = aggregated_data['pc1'].median()\n",
    "threshold = 0.5  # Given threshold\n",
    "\n",
    "# Plot histogram\n",
    "plt.figure(figsize=(10, 6))\n",
    "plt.hist(aggregated_data['pc1'], color='grey', alpha=0.7, edgecolor='white', bins=30)  # Adjust bins if needed\n",
    "\n",
    "# Add vertical lines for mean, median, and threshold\n",
    "plt.axvline(mean_value, color='deepskyblue', linestyle='--', linewidth=2, label=f'Mean: {mean_value:.2f}')\n",
    "plt.axvline(median_value, color='deepskyblue', linestyle='-', linewidth=2, label=f'Median: {median_value:.2f}')\n",
    "plt.axvline(threshold, color='deepskyblue', linestyle=':', linewidth=2, label='Threshold = 0.5')\n",
    "\n",
    "# Customize plot\n",
    "plt.title('Distribution of pc1')\n",
    "plt.xlabel('pc1')\n",
    "plt.ylabel('Frequency')\n",
    "plt.grid(axis='y')\n",
    "plt.legend()  # Show legend for the lines\n",
    "\n",
    "# Save and show the plot\n",
    "plt.savefig('../03_plots/hist_pc1.png')\n",
    "plt.show()"
   ]
  },
  {
   "cell_type": "code",
   "execution_count": 35,
   "id": "b6c6aade-651c-417a-9529-354bf36272fd",
   "metadata": {
    "tags": []
   },
   "outputs": [
    {
     "data": {
      "text/html": [
       "<div>\n",
       "<style scoped>\n",
       "    .dataframe tbody tr th:only-of-type {\n",
       "        vertical-align: middle;\n",
       "    }\n",
       "\n",
       "    .dataframe tbody tr th {\n",
       "        vertical-align: top;\n",
       "    }\n",
       "\n",
       "    .dataframe thead th {\n",
       "        text-align: right;\n",
       "    }\n",
       "</style>\n",
       "<table border=\"1\" class=\"dataframe\">\n",
       "  <thead>\n",
       "    <tr style=\"text-align: right;\">\n",
       "      <th></th>\n",
       "      <th>domain</th>\n",
       "      <th>domain_index</th>\n",
       "      <th>url_index</th>\n",
       "      <th>article</th>\n",
       "      <th>article_embedding</th>\n",
       "      <th>virality</th>\n",
       "      <th>avalanches</th>\n",
       "      <th>messages</th>\n",
       "      <th>chats</th>\n",
       "      <th>year</th>\n",
       "      <th>pc1</th>\n",
       "      <th>label</th>\n",
       "    </tr>\n",
       "  </thead>\n",
       "  <tbody>\n",
       "    <tr>\n",
       "      <th>0</th>\n",
       "      <td>100giornidaleoni.it</td>\n",
       "      <td>0</td>\n",
       "      <td>22631029</td>\n",
       "      <td>\"Vi spiego la DIFFERENZA tra RUSSI e ITALIANI\"...</td>\n",
       "      <td>[-0.12423741, -0.062898025, 0.006034705, 0.034...</td>\n",
       "      <td>1.000000</td>\n",
       "      <td>1.0</td>\n",
       "      <td>1.0</td>\n",
       "      <td>1.0</td>\n",
       "      <td>2022.0</td>\n",
       "      <td>0.259866</td>\n",
       "      <td>0</td>\n",
       "    </tr>\n",
       "    <tr>\n",
       "      <th>1</th>\n",
       "      <td>100milefreepress.net</td>\n",
       "      <td>1</td>\n",
       "      <td>7395289</td>\n",
       "      <td>First Nations use drone-seeding trial project ...</td>\n",
       "      <td>[0.08478753, -0.10553236, -0.045697704, -0.162...</td>\n",
       "      <td>0.707107</td>\n",
       "      <td>2.0</td>\n",
       "      <td>2.0</td>\n",
       "      <td>2.0</td>\n",
       "      <td>2022.0</td>\n",
       "      <td>0.599200</td>\n",
       "      <td>1</td>\n",
       "    </tr>\n",
       "    <tr>\n",
       "      <th>2</th>\n",
       "      <td>100percentfedup.com</td>\n",
       "      <td>2</td>\n",
       "      <td>1732928</td>\n",
       "      <td>BREAKING: Chinese Doctor Says COVID-19 Release...</td>\n",
       "      <td>[-0.038340196, 0.06266163, 0.167824, -0.165880...</td>\n",
       "      <td>0.424918</td>\n",
       "      <td>16.0</td>\n",
       "      <td>36.0</td>\n",
       "      <td>21.0</td>\n",
       "      <td>2022.0</td>\n",
       "      <td>0.219380</td>\n",
       "      <td>0</td>\n",
       "    </tr>\n",
       "    <tr>\n",
       "      <th>3</th>\n",
       "      <td>1011now.com</td>\n",
       "      <td>3</td>\n",
       "      <td>39960469</td>\n",
       "      <td>US vote counting unaffected by cyberattacks, o...</td>\n",
       "      <td>[0.06609012, 0.038709376, -0.23690498, -0.1402...</td>\n",
       "      <td>1.000000</td>\n",
       "      <td>1.0</td>\n",
       "      <td>1.0</td>\n",
       "      <td>1.0</td>\n",
       "      <td>2022.0</td>\n",
       "      <td>0.716641</td>\n",
       "      <td>1</td>\n",
       "    </tr>\n",
       "    <tr>\n",
       "      <th>4</th>\n",
       "      <td>10news.com</td>\n",
       "      <td>4</td>\n",
       "      <td>7063760</td>\n",
       "      <td>Cal/OSHA: Fully vaccinated workers can shed ma...</td>\n",
       "      <td>[0.2534634, 0.01553471, -0.044362582, 0.078020...</td>\n",
       "      <td>0.707107</td>\n",
       "      <td>2.0</td>\n",
       "      <td>2.0</td>\n",
       "      <td>2.0</td>\n",
       "      <td>2021.0</td>\n",
       "      <td>0.705943</td>\n",
       "      <td>1</td>\n",
       "    </tr>\n",
       "    <tr>\n",
       "      <th>...</th>\n",
       "      <td>...</td>\n",
       "      <td>...</td>\n",
       "      <td>...</td>\n",
       "      <td>...</td>\n",
       "      <td>...</td>\n",
       "      <td>...</td>\n",
       "      <td>...</td>\n",
       "      <td>...</td>\n",
       "      <td>...</td>\n",
       "      <td>...</td>\n",
       "      <td>...</td>\n",
       "      <td>...</td>\n",
       "    </tr>\n",
       "    <tr>\n",
       "      <th>5937</th>\n",
       "      <td>zmescience.com</td>\n",
       "      <td>5937</td>\n",
       "      <td>4316279</td>\n",
       "      <td>First SciFi novel ever: A 2nd century AD book ...</td>\n",
       "      <td>[-0.09211351, -0.15267372, -0.056884415, 0.050...</td>\n",
       "      <td>0.395285</td>\n",
       "      <td>7.0</td>\n",
       "      <td>8.0</td>\n",
       "      <td>4.0</td>\n",
       "      <td>2022.0</td>\n",
       "      <td>0.891073</td>\n",
       "      <td>1</td>\n",
       "    </tr>\n",
       "    <tr>\n",
       "      <th>5938</th>\n",
       "      <td>zombie.news</td>\n",
       "      <td>5938</td>\n",
       "      <td>45161637</td>\n",
       "      <td>CLAIM: Covid vaccines installed Marburg “paylo...</td>\n",
       "      <td>[0.010096034, 0.030971166, -0.1290194, -0.0342...</td>\n",
       "      <td>1.000000</td>\n",
       "      <td>1.0</td>\n",
       "      <td>1.0</td>\n",
       "      <td>1.0</td>\n",
       "      <td>2023.0</td>\n",
       "      <td>0.243898</td>\n",
       "      <td>0</td>\n",
       "    </tr>\n",
       "    <tr>\n",
       "      <th>5939</th>\n",
       "      <td>zonazealots.com</td>\n",
       "      <td>5939</td>\n",
       "      <td>24808849</td>\n",
       "      <td>Andre Iguodala and Aaron Gordon investors in N...</td>\n",
       "      <td>[0.045163967, -0.1131694, -0.3407165, -0.14510...</td>\n",
       "      <td>0.707107</td>\n",
       "      <td>2.0</td>\n",
       "      <td>4.0</td>\n",
       "      <td>1.0</td>\n",
       "      <td>2021.0</td>\n",
       "      <td>0.648646</td>\n",
       "      <td>1</td>\n",
       "    </tr>\n",
       "    <tr>\n",
       "      <th>5940</th>\n",
       "      <td>zuerst.de</td>\n",
       "      <td>5940</td>\n",
       "      <td>1549284</td>\n",
       "      <td>Doha straft Habeck Lügen: „Er gibt keine Energ...</td>\n",
       "      <td>[-0.2195917, 0.43217063, -0.09191446, 0.255260...</td>\n",
       "      <td>1.000000</td>\n",
       "      <td>1.0</td>\n",
       "      <td>1.0</td>\n",
       "      <td>1.0</td>\n",
       "      <td>2023.0</td>\n",
       "      <td>0.675067</td>\n",
       "      <td>1</td>\n",
       "    </tr>\n",
       "    <tr>\n",
       "      <th>5941</th>\n",
       "      <td>zvw.de</td>\n",
       "      <td>5941</td>\n",
       "      <td>11699867</td>\n",
       "      <td>Polizeischutz für Impfbus: Wie eine Fehlinform...</td>\n",
       "      <td>[-0.01602618, 0.12654243, -0.20433173, -0.1427...</td>\n",
       "      <td>0.500000</td>\n",
       "      <td>4.0</td>\n",
       "      <td>4.0</td>\n",
       "      <td>1.0</td>\n",
       "      <td>2023.0</td>\n",
       "      <td>0.696441</td>\n",
       "      <td>1</td>\n",
       "    </tr>\n",
       "  </tbody>\n",
       "</table>\n",
       "<p>5942 rows × 12 columns</p>\n",
       "</div>"
      ],
      "text/plain": [
       "                    domain  domain_index  url_index  \\\n",
       "0      100giornidaleoni.it             0   22631029   \n",
       "1     100milefreepress.net             1    7395289   \n",
       "2      100percentfedup.com             2    1732928   \n",
       "3              1011now.com             3   39960469   \n",
       "4               10news.com             4    7063760   \n",
       "...                    ...           ...        ...   \n",
       "5937        zmescience.com          5937    4316279   \n",
       "5938           zombie.news          5938   45161637   \n",
       "5939       zonazealots.com          5939   24808849   \n",
       "5940             zuerst.de          5940    1549284   \n",
       "5941                zvw.de          5941   11699867   \n",
       "\n",
       "                                                article  \\\n",
       "0     \"Vi spiego la DIFFERENZA tra RUSSI e ITALIANI\"...   \n",
       "1     First Nations use drone-seeding trial project ...   \n",
       "2     BREAKING: Chinese Doctor Says COVID-19 Release...   \n",
       "3     US vote counting unaffected by cyberattacks, o...   \n",
       "4     Cal/OSHA: Fully vaccinated workers can shed ma...   \n",
       "...                                                 ...   \n",
       "5937  First SciFi novel ever: A 2nd century AD book ...   \n",
       "5938  CLAIM: Covid vaccines installed Marburg “paylo...   \n",
       "5939  Andre Iguodala and Aaron Gordon investors in N...   \n",
       "5940  Doha straft Habeck Lügen: „Er gibt keine Energ...   \n",
       "5941  Polizeischutz für Impfbus: Wie eine Fehlinform...   \n",
       "\n",
       "                                      article_embedding  virality  avalanches  \\\n",
       "0     [-0.12423741, -0.062898025, 0.006034705, 0.034...  1.000000         1.0   \n",
       "1     [0.08478753, -0.10553236, -0.045697704, -0.162...  0.707107         2.0   \n",
       "2     [-0.038340196, 0.06266163, 0.167824, -0.165880...  0.424918        16.0   \n",
       "3     [0.06609012, 0.038709376, -0.23690498, -0.1402...  1.000000         1.0   \n",
       "4     [0.2534634, 0.01553471, -0.044362582, 0.078020...  0.707107         2.0   \n",
       "...                                                 ...       ...         ...   \n",
       "5937  [-0.09211351, -0.15267372, -0.056884415, 0.050...  0.395285         7.0   \n",
       "5938  [0.010096034, 0.030971166, -0.1290194, -0.0342...  1.000000         1.0   \n",
       "5939  [0.045163967, -0.1131694, -0.3407165, -0.14510...  0.707107         2.0   \n",
       "5940  [-0.2195917, 0.43217063, -0.09191446, 0.255260...  1.000000         1.0   \n",
       "5941  [-0.01602618, 0.12654243, -0.20433173, -0.1427...  0.500000         4.0   \n",
       "\n",
       "      messages  chats    year       pc1  label  \n",
       "0          1.0    1.0  2022.0  0.259866      0  \n",
       "1          2.0    2.0  2022.0  0.599200      1  \n",
       "2         36.0   21.0  2022.0  0.219380      0  \n",
       "3          1.0    1.0  2022.0  0.716641      1  \n",
       "4          2.0    2.0  2021.0  0.705943      1  \n",
       "...        ...    ...     ...       ...    ...  \n",
       "5937       8.0    4.0  2022.0  0.891073      1  \n",
       "5938       1.0    1.0  2023.0  0.243898      0  \n",
       "5939       4.0    1.0  2021.0  0.648646      1  \n",
       "5940       1.0    1.0  2023.0  0.675067      1  \n",
       "5941       4.0    1.0  2023.0  0.696441      1  \n",
       "\n",
       "[5942 rows x 12 columns]"
      ]
     },
     "execution_count": 35,
     "metadata": {},
     "output_type": "execute_result"
    }
   ],
   "source": [
    "aggregated_data"
   ]
  },
  {
   "cell_type": "markdown",
   "id": "0d545391-d2e8-4c35-9e68-301e4e915cbd",
   "metadata": {},
   "source": [
    "## Train Test Split"
   ]
  },
  {
   "cell_type": "code",
   "execution_count": 43,
   "id": "f8ed4c17-9859-4787-9afd-ddc42f29bc6e",
   "metadata": {
    "tags": []
   },
   "outputs": [],
   "source": [
    "# Train-test split based on nodes (domains)\n",
    "unique_domains = aggregated_data['domain'].unique()\n",
    "train_domains, test_domains = train_test_split(unique_domains, test_size=0.2, random_state=42)\n",
    "\n",
    "# Split data into train and test sets\n",
    "train_data = aggregated_data[aggregated_data['domain'].isin(train_domains)]\n",
    "test_data = aggregated_data[aggregated_data['domain'].isin(test_domains)]\n",
    "\n",
    "node_features = aggregated_data[['domain_index', 'domain', 'article_embedding', 'virality', 'avalanches', 'messages', 'chats', 'year', 'pc1', 'label']].copy()\n",
    "\n",
    "node_features['domain_index'] = node_features['domain_index'].astype(int)\n",
    "node_features['year'] = node_features['year'].astype(int)\n",
    "node_features['virality'] = node_features['virality'].round(2)"
   ]
  },
  {
   "cell_type": "markdown",
   "id": "e1f6f121-a4fb-47d5-902f-7e8b7d2f294b",
   "metadata": {},
   "source": [
    "## Filter Chat URL matrix"
   ]
  },
  {
   "cell_type": "code",
   "execution_count": 44,
   "id": "64b61900-1aa1-44c9-902d-e8e99520d925",
   "metadata": {},
   "outputs": [],
   "source": [
    "# Mapping\n",
    "unique_domains = train_data['domain'].dropna().unique()\n",
    "url_to_domain = article_embeddings.set_index('url')['domain']\n",
    "domain_to_index_map = train_data.set_index('domain')['domain_index']\n",
    "#train_data['domain_index'] = article_embeddings['domain'].map(domain_to_index_map)\n",
    "article_url_map = article_embeddings.set_index('url_index')['url']"
   ]
  },
  {
   "cell_type": "code",
   "execution_count": 45,
   "id": "c51755ee-eb93-40b7-a8cc-f2c6fc8df981",
   "metadata": {},
   "outputs": [
    {
     "data": {
      "text/plain": [
       "url_index\n",
       "102         https://doctors4covidethics.org/timeline-of-th...\n",
       "949         https://doctors4covidethics.org/session-iii-ge...\n",
       "960         https://live.childrenshealthdefense.org/chd-tv...\n",
       "669         https://www.thepulse.one/p/the-biggest-threat-...\n",
       "90          https://www.dailymail.co.uk/health/article-121...\n",
       "                                  ...                        \n",
       "685433      https://www.thebeaverton.com/2023/05/danielle-...\n",
       "685459      https://unherd.com/thepost/dominic-cummings-th...\n",
       "3154828         http://www.liveleak.com/view?i=cb0_1447249820\n",
       "36333389    https://www.factinate.com/people/46-facts-abou...\n",
       "3154829         http://www.liveleak.com/view?i=aec_1508296335\n",
       "Name: url, Length: 336561, dtype: object"
      ]
     },
     "execution_count": 45,
     "metadata": {},
     "output_type": "execute_result"
    }
   ],
   "source": [
    "article_url_map"
   ]
  },
  {
   "cell_type": "code",
   "execution_count": 46,
   "id": "b37b356b-7ca1-447f-a1a3-8e47b40bce49",
   "metadata": {},
   "outputs": [],
   "source": [
    "train_domains_set = set(train_domains)"
   ]
  },
  {
   "cell_type": "code",
   "execution_count": null,
   "id": "62d1cb1e-5fe2-40d2-a94e-650bb7cdbd46",
   "metadata": {
    "tags": []
   },
   "outputs": [
    {
     "name": "stderr",
     "output_type": "stream",
     "text": [
      "Processing chat-url pairs:  21%|██        | 18802990/88524359 [1:13:39<2:02:54, 9454.00it/s] "
     ]
    }
   ],
   "source": [
    "# Create edge list from filtered_chat_url_shares with domain indices\n",
    "rows, cols = chat_url_shares.tocsr().nonzero()\n",
    "edges = []\n",
    "\n",
    "for row, col in tqdm(zip(rows, cols), total=len(rows), desc=\"Processing chat-url pairs\"):\n",
    "    url = article_url_map.get(col, None)  # Get URL safely\n",
    "    if url is not None:\n",
    "        domain = url_to_domain.get(url, None)  # Map URL to domain\n",
    "        if isinstance(domain, pd.Series):\n",
    "            domain = domain.iloc[0]\n",
    "        if domain in train_domains_set:  # Only include training domains\n",
    "            domain_index = domain_to_index_map.get(domain)  # Get index\n",
    "            if domain_index is not None:\n",
    "                edges.append((row, domain_index))  # Add valid edge\n",
    "\n",
    "# Create the filtered edge list DataFrame\n",
    "train_edge_list = pd.DataFrame(edges, columns=['chat_id', 'domain_index'])"
   ]
  },
  {
   "cell_type": "code",
   "execution_count": null,
   "id": "8128f48f-8767-4ee6-a675-d1f1cd5ef4cb",
   "metadata": {},
   "outputs": [],
   "source": [
    "# Ensure proper integer type\n",
    "train_edge_list['chat_id'] = train_edge_list['chat_id'].astype(int)\n",
    "train_edge_list['domain_index'] = train_edge_list['domain_index'].astype(int)\n",
    "\n",
    "# Print statistics for verification\n",
    "print(f\"Train Edge List Shape: {train_edge_list.shape}\")\n",
    "print(f\"Max domain index: {train_edge_list['domain_index'].max()}\")\n",
    "print(f\"Min domain index: {train_edge_list['domain_index'].min()}\")"
   ]
  },
  {
   "cell_type": "code",
   "execution_count": null,
   "id": "f3f9ce73-42c6-403f-8ed3-8a5078c5db7c",
   "metadata": {},
   "outputs": [],
   "source": [
    "train_edge_list = train_edge_list.drop(columns=['domain_id'])"
   ]
  },
  {
   "cell_type": "code",
   "execution_count": null,
   "id": "39cf797e-8caf-4dd1-a417-222f3caa7895",
   "metadata": {},
   "outputs": [],
   "source": [
    "from scipy.sparse import coo_matrix\n",
    "\n",
    "chat_domain_shares = coo_matrix(\n",
    "    (np.ones(len(train_edge_list)), (train_edge_list['chat_id'], train_edge_list['domain_index']))\n",
    ")"
   ]
  },
  {
   "cell_type": "code",
   "execution_count": null,
   "id": "94cd29c8-94e1-443a-a7e0-40e6c295dc52",
   "metadata": {},
   "outputs": [],
   "source": [
    "chat_domain_shares"
   ]
  },
  {
   "cell_type": "code",
   "execution_count": null,
   "id": "e2ae5ad5-03f0-450f-9329-9f53ea02d386",
   "metadata": {
    "tags": []
   },
   "outputs": [],
   "source": [
    "node_features"
   ]
  },
  {
   "cell_type": "code",
   "execution_count": null,
   "id": "4fef13e1-7374-408b-b5e7-c4825167f02c",
   "metadata": {
    "tags": []
   },
   "outputs": [],
   "source": [
    "import matplotlib.pyplot as plt\n",
    "import numpy as np\n",
    "\n",
    "# Sample data\n",
    "# train_sample = train_data.sample(n=100, random_state=42)\n",
    "\n",
    "# Define outlier thresholds for avalanches\n",
    "pc1_threshold_high = train_data['pc1'].quantile(0.9999) \n",
    "pc1_threshold_low = train_data['pc1'].quantile(0.0001)   \n",
    "avalanches_threshold_high = train_data['avalanches'].quantile(0.999)  \n",
    "avalanches_threshold_low = train_data['avalanches'].quantile(0.001)  \n",
    "\n",
    "# Scatter plot\n",
    "plt.figure(figsize=(12, 6))\n",
    "sc = plt.scatter(\n",
    "    train_data['pc1'], \n",
    "    train_data['avalanches'], \n",
    "    alpha=0.5, \n",
    "    #c=train_sample['avalanches'], \n",
    "    #cmap='BuGn', \n",
    "    s=100\n",
    ")\n",
    "\n",
    "# Add color bar\n",
    "#plt.colorbar(sc, label='Avalanches')\n",
    "\n",
    "# Labeling\n",
    "plt.xlabel('Misinformation Score')\n",
    "plt.ylabel('Avalanches')\n",
    "plt.title('Avalanches of Domains vs. Misinformation Score')\n",
    "\n",
    "# Add labels for outliers\n",
    "for pc1, avalanches, domain in zip(train_data['pc1'], train_data['avalanches'], train_data['domain']):\n",
    "    if pc1 > pc1_threshold_high or pc1 < pc1_threshold_low or avalanches > avalanches_threshold_high or avalanches < avalanches_threshold_low:\n",
    "        plt.text(pc1 + 0.02, avalanches, domain, fontsize=9)\n",
    "\n",
    "# Save the figure\n",
    "plt.savefig('../03_plots/sample_scatter_outliers_pc1_avalanches.png')\n",
    "plt.show()\n"
   ]
  },
  {
   "cell_type": "markdown",
   "id": "34b94169-de5a-4539-b87f-56f7156e0a18",
   "metadata": {},
   "source": [
    "## Export"
   ]
  },
  {
   "cell_type": "code",
   "execution_count": null,
   "id": "7b25321e-d0c6-4213-ad52-5cd03b7e2c35",
   "metadata": {
    "tags": []
   },
   "outputs": [],
   "source": [
    "print(train_data.info())\n",
    "print(test_data.info())\n",
    "print(train_edge_list.info())"
   ]
  },
  {
   "cell_type": "code",
   "execution_count": null,
   "id": "c1a074d1-9076-4538-9ef7-34723332e2a4",
   "metadata": {
    "tags": []
   },
   "outputs": [],
   "source": [
    "# Step 5: Save results\n",
    "train_data.to_csv('../02_data/train_test/train_data.csv', index=False)\n",
    "test_data.to_csv('../02_data/train_test/test_data.csv', index=False)"
   ]
  },
  {
   "cell_type": "code",
   "execution_count": null,
   "id": "f28e76d7-48d7-4756-bed4-fc7cfe8e3698",
   "metadata": {},
   "outputs": [],
   "source": [
    "#train_edge_list.to_csv('../02_data/train_test/train_edge_list.csv', index=False)"
   ]
  },
  {
   "cell_type": "code",
   "execution_count": null,
   "id": "34e7bc71-7f0a-43de-9da0-b28a39023655",
   "metadata": {
    "tags": []
   },
   "outputs": [],
   "source": [
    "node_features.to_csv('../02_data/train_test/node_features.csv', index=False)"
   ]
  },
  {
   "cell_type": "code",
   "execution_count": null,
   "id": "fae82870-cbc5-49da-9688-29f0cf944062",
   "metadata": {
    "tags": []
   },
   "outputs": [],
   "source": [
    "# merged_data.info()"
   ]
  },
  {
   "cell_type": "code",
   "execution_count": null,
   "id": "8132e77a-1ede-48b4-8316-c460f7184b90",
   "metadata": {
    "tags": []
   },
   "outputs": [],
   "source": [
    "#merged_data = merged_data.drop(columns=['is_english', 'is_social_media'])\n",
    "# merged_data.to_parquet('../02_data/embeddings_merged.parquet', index=False)"
   ]
  }
 ],
 "metadata": {
  "kernelspec": {
   "display_name": "Python 3 (ipykernel)",
   "language": "python",
   "name": "python3"
  },
  "language_info": {
   "codemirror_mode": {
    "name": "ipython",
    "version": 3
   },
   "file_extension": ".py",
   "mimetype": "text/x-python",
   "name": "python",
   "nbconvert_exporter": "python",
   "pygments_lexer": "ipython3",
   "version": "3.11.6"
  }
 },
 "nbformat": 4,
 "nbformat_minor": 5
}
