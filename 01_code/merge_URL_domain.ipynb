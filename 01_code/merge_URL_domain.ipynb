{
 "cells": [
  {
   "cell_type": "code",
   "execution_count": 10,
   "metadata": {
    "tags": []
   },
   "outputs": [],
   "source": [
    "import numpy as np\n",
    "import pandas as pd\n",
    "# import dask.dataframe as dd\n",
    "from urllib.parse import urlparse\n",
    "\n",
    "from sklearn.preprocessing import LabelEncoder\n",
    "from sklearn.model_selection import train_test_split\n",
    "from sklearn.neural_network import MLPRegressor\n",
    "from sklearn.metrics import mean_squared_error\n",
    "\n",
    "import matplotlib.pyplot as plt\n",
    "from scipy.sparse import load_npz"
   ]
  },
  {
   "cell_type": "code",
   "execution_count": 11,
   "metadata": {
    "tags": []
   },
   "outputs": [],
   "source": [
    "# domain_index = pd.read_csv('../02_data/data_archive/raphaela/lasser/domain_pc1.csv')\n",
    "# chat_index = np.load('../02_data/telegram/telegram/chat_index.npy')\n",
    "# urls_sample = pd.read_csv('../02_data/url_sample_with_titles.csv')"
   ]
  },
  {
   "cell_type": "code",
   "execution_count": 12,
   "metadata": {
    "tags": []
   },
   "outputs": [],
   "source": [
    "domain_index = pd.read_csv('../02_data/domain_pc1.csv')\n",
    "chat_index = np.load('../02_data/chat_index.npy')\n",
    "urls_sample = pd.read_csv('../02_data/url_sample_with_titles.csv')"
   ]
  },
  {
   "cell_type": "code",
   "execution_count": 13,
   "metadata": {},
   "outputs": [],
   "source": [
    "# urls = pd.read_csv('../02_data/urls_with_titles.csv')"
   ]
  },
  {
   "cell_type": "code",
   "execution_count": 14,
   "metadata": {
    "tags": []
   },
   "outputs": [],
   "source": [
    "chat_url_shares = load_npz('../02_data/chat_url_shares.npz')"
   ]
  },
  {
   "cell_type": "code",
   "execution_count": 15,
   "metadata": {
    "tags": []
   },
   "outputs": [
    {
     "name": "stdout",
     "output_type": "stream",
     "text": [
      "Chat Index Shape: (27592,)\n",
      "   id                                                url  \\\n",
      "0   0    https://odysee.com/@jermwarfare:2/The-Baileys:8   \n",
      "1   1  https://drsambailey.com/its-elementary-my-dear...   \n",
      "2   2  https://drsambailey.com/why-nobody-had-caught-...   \n",
      "3   4  https://jonrappoport.substack.com/p/the-millio...   \n",
      "4   5  https://planetwavesfm.substack.com/p/charlatan...   \n",
      "\n",
      "                   start_date                    end_date  \\\n",
      "0  2022-11-02 12:23:51.000000  2023-07-06 06:32:09.670223   \n",
      "1  2022-10-21 13:34:58.000000  2023-07-02 23:53:32.622164   \n",
      "2  2022-10-16 11:39:22.000000  2023-08-29 11:36:47.872883   \n",
      "3  2022-09-02 00:49:46.000000  2023-07-26 07:43:27.738645   \n",
      "4  2022-08-30 11:03:48.000000  2023-08-30 02:54:26.620981   \n",
      "\n",
      "                       domain  \\\n",
      "0                  odysee.com   \n",
      "1             drsambailey.com   \n",
      "2             drsambailey.com   \n",
      "3   jonrappoport.substack.com   \n",
      "4  planetwavesfm.substack.com   \n",
      "\n",
      "                                               title  \n",
      "0                                      The Baileys:8  \n",
      "1  its elementary my dear watson unmasking the vi...  \n",
      "2              why nobody had caught or got covid 19  \n",
      "3                the millionaire blogger in the land  \n",
      "4                                     charlatans web  \n"
     ]
    }
   ],
   "source": [
    "print(\"Chat Index Shape:\", chat_index.shape)\n",
    "print(urls_sample.head())"
   ]
  },
  {
   "cell_type": "markdown",
   "metadata": {},
   "source": [
    "### Jana Lasser PCA results (Groundtruth)"
   ]
  },
  {
   "cell_type": "code",
   "execution_count": 16,
   "metadata": {
    "tags": []
   },
   "outputs": [
    {
     "data": {
      "image/png": "[encoded data removed]",
      "text/plain": [
       "<Figure size 1000x600 with 1 Axes>"
      ]
     },
     "metadata": {},
     "output_type": "display_data"
    },
    {
     "name": "stdout",
     "output_type": "stream",
     "text": [
      "Top 5 rows with the highest pc1 scores:\n",
      "                 domain       pc1\n",
      "0           reuters.com  1.000000\n",
      "1            apnews.com  0.998049\n",
      "2  charitynavigator.org  0.985752\n",
      "3          rollcall.com  0.982851\n",
      "4    smithsonianmag.com  0.971184\n",
      "\n",
      "Bottom 5 rows with the lowest pc1 scores:\n",
      "                domain       pc1\n",
      "11519  naturalnews.com  0.000000\n",
      "11518    worldtruth.tv  0.017644\n",
      "11517    davidicke.com  0.041614\n",
      "11516    pandemic.news  0.043817\n",
      "11513        rense.com  0.044752\n"
     ]
    }
   ],
   "source": [
    "# Plot the distribution of the 'pc1' column\n",
    "plt.figure(figsize=(10, 6))\n",
    "plt.hist(domain_index['pc1'], bins=30, color='blue', alpha=0.7)\n",
    "plt.title('Distribution of pc1')\n",
    "plt.xlabel('pc1')\n",
    "plt.ylabel('Frequency')\n",
    "plt.grid(axis='y')\n",
    "plt.show()\n",
    "\n",
    "# Show the row with the highest 'pc1' score\n",
    "highest_scores = domain_index.nlargest(5, 'pc1')\n",
    "print(\"Top 5 rows with the highest pc1 scores:\")\n",
    "print(highest_scores)\n",
    "\n",
    "# Show the 5 rows with the lowest 'pc1' scores\n",
    "lowest_scores = domain_index.nsmallest(5, 'pc1')\n",
    "print(\"\\nBottom 5 rows with the lowest pc1 scores:\")\n",
    "print(lowest_scores)\n"
   ]
  },
  {
   "cell_type": "code",
   "execution_count": 17,
   "metadata": {
    "tags": []
   },
   "outputs": [
    {
     "name": "stdout",
     "output_type": "stream",
     "text": [
      "   id                                                url  \\\n",
      "0  39  https://vernoncoleman.org/articles/vernon-cole...   \n",
      "1  47  https://vernoncoleman.org/articles/passing-obs...   \n",
      "2  48  https://vernoncoleman.org/articles/whooping-co...   \n",
      "3  79  https://vernoncoleman.org/articles/passing-obs...   \n",
      "4  80  https://vernoncoleman.org/articles/stuff-you-n...   \n",
      "\n",
      "                   start_date                    end_date             domain  \\\n",
      "0  2023-05-30 11:12:51.426699  2023-06-14 13:44:37.560958  vernoncoleman.org   \n",
      "1  2023-05-29 11:36:56.000000  2023-05-30 12:17:07.803385  vernoncoleman.org   \n",
      "2  2023-05-29 11:35:56.000000  2023-07-06 03:43:36.009490  vernoncoleman.org   \n",
      "3  2023-05-25 10:54:15.000000  2023-05-30 12:18:18.094074  vernoncoleman.org   \n",
      "4  2023-05-25 10:54:10.000000  2023-05-30 12:18:18.285070  vernoncoleman.org   \n",
      "\n",
      "                                              title       pc1  \n",
      "0  vernon coleman challenges entire bbc verify team  0.569545  \n",
      "1                          passing observations 168  0.569545  \n",
      "2                            whooping cough vaccine  0.569545  \n",
      "3                          passing observations 167  0.569545  \n",
      "4                   stuff you need know about money  0.569545  \n"
     ]
    }
   ],
   "source": [
    "# Step 2: Match domains with domain_index\n",
    "urls_sample = pd.merge(urls_sample, domain_index, on='domain', how='inner')\n",
    "\n",
    "# Display the first few rows of the merged DataFrame\n",
    "print(urls_sample.head())\n",
    "\n",
    "# Drop rows where the domain was not found in domain_index\n",
    "urls_sample.dropna(subset=['pc1'], inplace=True)"
   ]
  },
  {
   "cell_type": "markdown",
   "metadata": {},
   "source": [
    "### Chat Index"
   ]
  },
  {
   "cell_type": "code",
   "execution_count": 20,
   "metadata": {
    "tags": []
   },
   "outputs": [],
   "source": [
    "url_chat_mapping = pd.DataFrame({'url_index': chat_url_shares.col, 'chat_index': chat_url_shares.row})\n",
    "\n",
    "# Assuming 'id' in urls_sample corresponds to 'url_index' in chat_url_share\n",
    "urls_sample = urls_sample.rename(columns={'id': 'url_index'})  # Rename 'id' to match the mapping key\n",
    "urls_sample = urls_sample.merge(url_chat_mapping, on='url_index', how='left')"
   ]
  },
  {
   "cell_type": "code",
   "execution_count": 21,
   "metadata": {},
   "outputs": [
    {
     "name": "stdout",
     "output_type": "stream",
     "text": [
      "   url_index                                                url  \\\n",
      "0         39  https://vernoncoleman.org/articles/vernon-cole...   \n",
      "1         39  https://vernoncoleman.org/articles/vernon-cole...   \n",
      "2         39  https://vernoncoleman.org/articles/vernon-cole...   \n",
      "3         39  https://vernoncoleman.org/articles/vernon-cole...   \n",
      "4         39  https://vernoncoleman.org/articles/vernon-cole...   \n",
      "\n",
      "                   start_date                    end_date             domain  \\\n",
      "0  2023-05-30 11:12:51.426699  2023-06-14 13:44:37.560958  vernoncoleman.org   \n",
      "1  2023-05-30 11:12:51.426699  2023-06-14 13:44:37.560958  vernoncoleman.org   \n",
      "2  2023-05-30 11:12:51.426699  2023-06-14 13:44:37.560958  vernoncoleman.org   \n",
      "3  2023-05-30 11:12:51.426699  2023-06-14 13:44:37.560958  vernoncoleman.org   \n",
      "4  2023-05-30 11:12:51.426699  2023-06-14 13:44:37.560958  vernoncoleman.org   \n",
      "\n",
      "                                              title       pc1  chat_index  \n",
      "0  vernon coleman challenges entire bbc verify team  0.569545         1.0  \n",
      "1  vernon coleman challenges entire bbc verify team  0.569545      3739.0  \n",
      "2  vernon coleman challenges entire bbc verify team  0.569545     28206.0  \n",
      "3  vernon coleman challenges entire bbc verify team  0.569545     31378.0  \n",
      "4  vernon coleman challenges entire bbc verify team  0.569545     33296.0  \n"
     ]
    }
   ],
   "source": [
    "print(urls_sample.head())"
   ]
  },
  {
   "cell_type": "markdown",
   "metadata": {},
   "source": [
    "### Filter 100 most forwarded url per domain"
   ]
  },
  {
   "cell_type": "code",
   "execution_count": 25,
   "metadata": {
    "tags": []
   },
   "outputs": [
    {
     "ename": "ValueError",
     "evalue": "Length of values (65338) does not match length of index (5043715)",
     "output_type": "error",
     "traceback": [
      "\u001b[0;31m---------------------------------------------------------------------------\u001b[0m",
      "\u001b[0;31mValueError\u001b[0m                                Traceback (most recent call last)",
      "Cell \u001b[0;32mIn[25], line 5\u001b[0m\n\u001b[1;32m      3\u001b[0m \u001b[38;5;66;03m# Merge this total shares data into `urls_sample`\u001b[39;00m\n\u001b[1;32m      4\u001b[0m urls_sample \u001b[38;5;241m=\u001b[39m urls_sample\u001b[38;5;241m.\u001b[39mset_index(\u001b[38;5;124m'\u001b[39m\u001b[38;5;124mchat_index\u001b[39m\u001b[38;5;124m'\u001b[39m)  \u001b[38;5;66;03m# Set 'id' as index to match `url_shares` index\u001b[39;00m\n\u001b[0;32m----> 5\u001b[0m \u001b[43murls_sample\u001b[49m\u001b[43m[\u001b[49m\u001b[38;5;124;43m'\u001b[39;49m\u001b[38;5;124;43mtotal_shares\u001b[39;49m\u001b[38;5;124;43m'\u001b[39;49m\u001b[43m]\u001b[49m \u001b[38;5;241m=\u001b[39m url_shares\n\u001b[1;32m      7\u001b[0m \u001b[38;5;66;03m# Step 3: Group by domain and select top 100 most shared URLs per domain\u001b[39;00m\n\u001b[1;32m      8\u001b[0m top_100_per_domain \u001b[38;5;241m=\u001b[39m (\n\u001b[1;32m      9\u001b[0m     urls_sample\n\u001b[1;32m     10\u001b[0m     \u001b[38;5;241m.\u001b[39msort_values([\u001b[38;5;124m'\u001b[39m\u001b[38;5;124mdomain\u001b[39m\u001b[38;5;124m'\u001b[39m, \u001b[38;5;124m'\u001b[39m\u001b[38;5;124mtotal_shares\u001b[39m\u001b[38;5;124m'\u001b[39m], ascending\u001b[38;5;241m=\u001b[39m[\u001b[38;5;28;01mTrue\u001b[39;00m, \u001b[38;5;28;01mFalse\u001b[39;00m])  \u001b[38;5;66;03m# Sort by domain and shares\u001b[39;00m\n\u001b[1;32m     11\u001b[0m     \u001b[38;5;241m.\u001b[39mgroupby(\u001b[38;5;124m'\u001b[39m\u001b[38;5;124mdomain\u001b[39m\u001b[38;5;124m'\u001b[39m)\n\u001b[1;32m     12\u001b[0m     \u001b[38;5;241m.\u001b[39mhead(\u001b[38;5;241m100\u001b[39m)  \u001b[38;5;66;03m# Select top 100 for each domain\u001b[39;00m\n\u001b[1;32m     13\u001b[0m )\n",
      "File \u001b[0;32m/usr/local/jupyterhub/lib64/python3.10/site-packages/pandas/core/frame.py:3980\u001b[0m, in \u001b[0;36mDataFrame.__setitem__\u001b[0;34m(self, key, value)\u001b[0m\n\u001b[1;32m   3977\u001b[0m     \u001b[38;5;28mself\u001b[39m\u001b[38;5;241m.\u001b[39m_setitem_array([key], value)\n\u001b[1;32m   3978\u001b[0m \u001b[38;5;28;01melse\u001b[39;00m:\n\u001b[1;32m   3979\u001b[0m     \u001b[38;5;66;03m# set column\u001b[39;00m\n\u001b[0;32m-> 3980\u001b[0m     \u001b[38;5;28;43mself\u001b[39;49m\u001b[38;5;241;43m.\u001b[39;49m\u001b[43m_set_item\u001b[49m\u001b[43m(\u001b[49m\u001b[43mkey\u001b[49m\u001b[43m,\u001b[49m\u001b[43m \u001b[49m\u001b[43mvalue\u001b[49m\u001b[43m)\u001b[49m\n",
      "File \u001b[0;32m/usr/local/jupyterhub/lib64/python3.10/site-packages/pandas/core/frame.py:4174\u001b[0m, in \u001b[0;36mDataFrame._set_item\u001b[0;34m(self, key, value)\u001b[0m\n\u001b[1;32m   4164\u001b[0m \u001b[38;5;28;01mdef\u001b[39;00m \u001b[38;5;21m_set_item\u001b[39m(\u001b[38;5;28mself\u001b[39m, key, value) \u001b[38;5;241m-\u001b[39m\u001b[38;5;241m>\u001b[39m \u001b[38;5;28;01mNone\u001b[39;00m:\n\u001b[1;32m   4165\u001b[0m \u001b[38;5;250m    \u001b[39m\u001b[38;5;124;03m\"\"\"\u001b[39;00m\n\u001b[1;32m   4166\u001b[0m \u001b[38;5;124;03m    Add series to DataFrame in specified column.\u001b[39;00m\n\u001b[1;32m   4167\u001b[0m \n\u001b[0;32m   (...)\u001b[0m\n\u001b[1;32m   4172\u001b[0m \u001b[38;5;124;03m    ensure homogeneity.\u001b[39;00m\n\u001b[1;32m   4173\u001b[0m \u001b[38;5;124;03m    \"\"\"\u001b[39;00m\n\u001b[0;32m-> 4174\u001b[0m     value \u001b[38;5;241m=\u001b[39m \u001b[38;5;28;43mself\u001b[39;49m\u001b[38;5;241;43m.\u001b[39;49m\u001b[43m_sanitize_column\u001b[49m\u001b[43m(\u001b[49m\u001b[43mvalue\u001b[49m\u001b[43m)\u001b[49m\n\u001b[1;32m   4176\u001b[0m     \u001b[38;5;28;01mif\u001b[39;00m (\n\u001b[1;32m   4177\u001b[0m         key \u001b[38;5;129;01min\u001b[39;00m \u001b[38;5;28mself\u001b[39m\u001b[38;5;241m.\u001b[39mcolumns\n\u001b[1;32m   4178\u001b[0m         \u001b[38;5;129;01mand\u001b[39;00m value\u001b[38;5;241m.\u001b[39mndim \u001b[38;5;241m==\u001b[39m \u001b[38;5;241m1\u001b[39m\n\u001b[1;32m   4179\u001b[0m         \u001b[38;5;129;01mand\u001b[39;00m \u001b[38;5;129;01mnot\u001b[39;00m is_extension_array_dtype(value)\n\u001b[1;32m   4180\u001b[0m     ):\n\u001b[1;32m   4181\u001b[0m         \u001b[38;5;66;03m# broadcast across multiple columns if necessary\u001b[39;00m\n\u001b[1;32m   4182\u001b[0m         \u001b[38;5;28;01mif\u001b[39;00m \u001b[38;5;129;01mnot\u001b[39;00m \u001b[38;5;28mself\u001b[39m\u001b[38;5;241m.\u001b[39mcolumns\u001b[38;5;241m.\u001b[39mis_unique \u001b[38;5;129;01mor\u001b[39;00m \u001b[38;5;28misinstance\u001b[39m(\u001b[38;5;28mself\u001b[39m\u001b[38;5;241m.\u001b[39mcolumns, MultiIndex):\n",
      "File \u001b[0;32m/usr/local/jupyterhub/lib64/python3.10/site-packages/pandas/core/frame.py:4915\u001b[0m, in \u001b[0;36mDataFrame._sanitize_column\u001b[0;34m(self, value)\u001b[0m\n\u001b[1;32m   4912\u001b[0m     \u001b[38;5;28;01mreturn\u001b[39;00m _reindex_for_setitem(Series(value), \u001b[38;5;28mself\u001b[39m\u001b[38;5;241m.\u001b[39mindex)\n\u001b[1;32m   4914\u001b[0m \u001b[38;5;28;01mif\u001b[39;00m is_list_like(value):\n\u001b[0;32m-> 4915\u001b[0m     \u001b[43mcom\u001b[49m\u001b[38;5;241;43m.\u001b[39;49m\u001b[43mrequire_length_match\u001b[49m\u001b[43m(\u001b[49m\u001b[43mvalue\u001b[49m\u001b[43m,\u001b[49m\u001b[43m \u001b[49m\u001b[38;5;28;43mself\u001b[39;49m\u001b[38;5;241;43m.\u001b[39;49m\u001b[43mindex\u001b[49m\u001b[43m)\u001b[49m\n\u001b[1;32m   4916\u001b[0m \u001b[38;5;28;01mreturn\u001b[39;00m sanitize_array(value, \u001b[38;5;28mself\u001b[39m\u001b[38;5;241m.\u001b[39mindex, copy\u001b[38;5;241m=\u001b[39m\u001b[38;5;28;01mTrue\u001b[39;00m, allow_2d\u001b[38;5;241m=\u001b[39m\u001b[38;5;28;01mTrue\u001b[39;00m)\n",
      "File \u001b[0;32m/usr/local/jupyterhub/lib64/python3.10/site-packages/pandas/core/common.py:571\u001b[0m, in \u001b[0;36mrequire_length_match\u001b[0;34m(data, index)\u001b[0m\n\u001b[1;32m    567\u001b[0m \u001b[38;5;250m\u001b[39m\u001b[38;5;124;03m\"\"\"\u001b[39;00m\n\u001b[1;32m    568\u001b[0m \u001b[38;5;124;03mCheck the length of data matches the length of the index.\u001b[39;00m\n\u001b[1;32m    569\u001b[0m \u001b[38;5;124;03m\"\"\"\u001b[39;00m\n\u001b[1;32m    570\u001b[0m \u001b[38;5;28;01mif\u001b[39;00m \u001b[38;5;28mlen\u001b[39m(data) \u001b[38;5;241m!=\u001b[39m \u001b[38;5;28mlen\u001b[39m(index):\n\u001b[0;32m--> 571\u001b[0m     \u001b[38;5;28;01mraise\u001b[39;00m \u001b[38;5;167;01mValueError\u001b[39;00m(\n\u001b[1;32m    572\u001b[0m         \u001b[38;5;124m\"\u001b[39m\u001b[38;5;124mLength of values \u001b[39m\u001b[38;5;124m\"\u001b[39m\n\u001b[1;32m    573\u001b[0m         \u001b[38;5;124mf\u001b[39m\u001b[38;5;124m\"\u001b[39m\u001b[38;5;124m(\u001b[39m\u001b[38;5;132;01m{\u001b[39;00m\u001b[38;5;28mlen\u001b[39m(data)\u001b[38;5;132;01m}\u001b[39;00m\u001b[38;5;124m) \u001b[39m\u001b[38;5;124m\"\u001b[39m\n\u001b[1;32m    574\u001b[0m         \u001b[38;5;124m\"\u001b[39m\u001b[38;5;124mdoes not match length of index \u001b[39m\u001b[38;5;124m\"\u001b[39m\n\u001b[1;32m    575\u001b[0m         \u001b[38;5;124mf\u001b[39m\u001b[38;5;124m\"\u001b[39m\u001b[38;5;124m(\u001b[39m\u001b[38;5;132;01m{\u001b[39;00m\u001b[38;5;28mlen\u001b[39m(index)\u001b[38;5;132;01m}\u001b[39;00m\u001b[38;5;124m)\u001b[39m\u001b[38;5;124m\"\u001b[39m\n\u001b[1;32m    576\u001b[0m     )\n",
      "\u001b[0;31mValueError\u001b[0m: Length of values (65338) does not match length of index (5043715)"
     ]
    }
   ],
   "source": [
    "url_shares = chat_url_shares.sum(axis=0)\n",
    "\n",
    "# Merge this total shares data into `urls_sample`\n",
    "urls_sample = urls_sample.set_index('url_index')  # Set 'id' as index to match `url_shares` index\n",
    "urls_sample['total_shares'] = url_shares\n",
    "\n",
    "# Step 3: Group by domain and select top 100 most shared URLs per domain\n",
    "top_100_per_domain = (\n",
    "    urls_sample\n",
    "    .sort_values(['domain', 'total_shares'], ascending=[True, False])  # Sort by domain and shares\n",
    "    .groupby('domain')\n",
    "    .head(100)  # Select top 100 for each domain\n",
    ")\n",
    "\n",
    "# Reset index if needed\n",
    "top_100_per_domain = top_100_per_domain.reset_index()"
   ]
  },
  {
   "cell_type": "markdown",
   "metadata": {},
   "source": [
    "### Datetime"
   ]
  },
  {
   "cell_type": "code",
   "execution_count": 22,
   "metadata": {},
   "outputs": [],
   "source": [
    "urls_sample['start_date'] = pd.to_datetime(urls_sample['start_date'])\n",
    "urls_sample['start_year'] = urls_sample['start_date'].dt.year"
   ]
  },
  {
   "cell_type": "code",
   "execution_count": null,
   "metadata": {},
   "outputs": [],
   "source": [
    "urls_sample"
   ]
  },
  {
   "cell_type": "markdown",
   "metadata": {},
   "source": [
    "### Title Embedding with Bert"
   ]
  },
  {
   "cell_type": "code",
   "execution_count": null,
   "metadata": {},
   "outputs": [],
   "source": [
    "from sentence_transformers import SentenceTransformer\n",
    "\n",
    "# Load the pre-trained model for generating embeddings\n",
    "model = SentenceTransformer('bert-base-nli-mean-tokens') \n",
    "\n",
    "# Convert the title column to embeddings\n",
    "urls_sample['title_embedding'] = urls_sample['title'].apply(lambda x: model.encode(str(x)))"
   ]
  },
  {
   "cell_type": "markdown",
   "metadata": {},
   "source": [
    "### MLP"
   ]
  },
  {
   "cell_type": "code",
   "execution_count": null,
   "metadata": {},
   "outputs": [],
   "source": [
    "# Step 3: Combine Features\n",
    "# Use the domain index and chat index as features\n",
    "# Extract the features for the MLP (concatenate start_year and title embedding)\n",
    "X = urls_sample.apply(lambda row: [row['start_year']] + [row['chat_index']] + list(row['title_embedding']), axis=1).tolist()\n",
    "\n",
    "# Convert the list of lists into a numpy array for training the MLP\n",
    "X = np.array(X)\n",
    "\n",
    "# Display the shape of the input features\n",
    "print(X.shape)\n",
    "\n",
    "#X = urls_sample[['start_year', 'chat_idx']].values\n",
    "y = urls_sample['pc1'].values  "
   ]
  },
  {
   "cell_type": "code",
   "execution_count": null,
   "metadata": {},
   "outputs": [],
   "source": [
    "# Step 4: Train an MLP Model\n",
    "# Split the data into training and testing sets\n",
    "X_train, X_test, y_train, y_test = train_test_split(X, y, test_size=0.2, random_state=42)\n",
    "\n",
    "# Initialize and train the MLP regressor\n",
    "mlp = MLPRegressor(hidden_layer_sizes=(64, 32), activation='relu', solver='adam', max_iter=500, random_state=42)\n",
    "mlp.fit(X_train, y_train)\n",
    "\n",
    "# Make predictions\n",
    "y_pred = mlp.predict(X_test)\n",
    "\n",
    "# Evaluate the model\n",
    "mse = mean_squared_error(y_test, y_pred)\n",
    "print(f'Mean Squared Error: {mse}')\n",
    "\n",
    "# Display the first few predictions\n",
    "print(\"Predictions vs Actual:\\n\", pd.DataFrame({'Predicted': y_pred[:5], 'Actual': y_test[:5]}))\n",
    "\n",
    "from sklearn.metrics import r2_score\n",
    "\n",
    "# Calculate R² for the model\n",
    "r2 = r2_score(y_test, y_pred)\n",
    "print(f'R² Score: {r2}')"
   ]
  },
  {
   "cell_type": "code",
   "execution_count": null,
   "metadata": {},
   "outputs": [],
   "source": [
    "import matplotlib.pyplot as plt\n",
    "import seaborn as sns\n",
    "import numpy as np\n",
    "from sklearn.metrics import mean_squared_error, r2_score\n",
    "\n",
    "# Predictions vs. Actual Values\n",
    "plt.figure(figsize=(10, 5))\n",
    "plt.scatter(y_test, y_pred, alpha=0.7, color='b')\n",
    "plt.plot([y_test.min(), y_test.max()], [y_test.min(), y_test.max()], 'r--')  # Ideal line\n",
    "plt.xlabel(\"Actual Values\")\n",
    "plt.ylabel(\"Predicted Values\")\n",
    "plt.title(\"MLP Model: Predictions vs Actual Values\")\n",
    "plt.show()\n",
    "\n",
    "# Residual Plot\n",
    "residuals = y_test - y_pred\n",
    "plt.figure(figsize=(10, 5))\n",
    "sns.histplot(residuals, kde=True, bins=30)\n",
    "plt.xlabel(\"Residuals\")\n",
    "plt.ylabel(\"Frequency\")\n",
    "plt.title(\"Residual Plot\")\n",
    "plt.show()\n",
    "\n",
    "# Plotting training loss curve if available\n",
    "if hasattr(mlp, 'loss_curve_'):\n",
    "    plt.figure(figsize=(10, 5))\n",
    "    plt.plot(mlp.loss_curve_, label='Training Loss')\n",
    "    plt.xlabel(\"Epoch\")\n",
    "    plt.ylabel(\"Mean Squared Error\")\n",
    "    plt.title(\"MLP Training Loss Curve\")\n",
    "    plt.legend()\n",
    "    plt.show()\n",
    "else:\n",
    "    print(\"Loss curve not available.\")\n"
   ]
  },
  {
   "cell_type": "markdown",
   "metadata": {},
   "source": [
    "### Export"
   ]
  },
  {
   "cell_type": "code",
   "execution_count": null,
   "metadata": {},
   "outputs": [],
   "source": [
    "import os\n",
    "\n",
    "# Save the DataFrame as a CSV file in the '02_data' folder\n",
    "folder_path = \"../02_data/\"\n",
    "csv_path = os.path.join(folder_path, 'url_titles_domains.csv')\n",
    "urls_sample.to_csv(csv_path, index=False)"
   ]
  },
  {
   "cell_type": "code",
   "execution_count": null,
   "metadata": {
    "tags": []
   },
   "outputs": [],
   "source": [
    "# Compress and save the DataFrame as a .gz file\n",
    "csv_gz_path = os.path.join(folder_path, 'url_titles_domains.csv.gz')\n",
    "urls_sample.to_csv(csv_gz_path, index=False, compression='gzip')"
   ]
  }
 ],
 "metadata": {
  "kernelspec": {
   "display_name": "Python 3 (ipykernel)",
   "language": "python",
   "name": "python3"
  },
  "language_info": {
   "codemirror_mode": {
    "name": "ipython",
    "version": 3
   },
   "file_extension": ".py",
   "mimetype": "text/x-python",
   "name": "python",
   "nbconvert_exporter": "python",
   "pygments_lexer": "ipython3",
   "version": "3.10.13"
  }
 },
 "nbformat": 4,
 "nbformat_minor": 4
}
