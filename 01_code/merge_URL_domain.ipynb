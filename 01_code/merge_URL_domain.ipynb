{
 "cells": [
  {
   "cell_type": "code",
   "execution_count": 6,
   "metadata": {},
   "outputs": [],
   "source": [
    "import numpy as np\n",
    "import pandas as pd\n",
    "import dask.dataframe as dd\n",
    "from urllib.parse import urlparse\n",
    "\n",
    "from sklearn.preprocessing import LabelEncoder\n",
    "from sklearn.model_selection import train_test_split\n",
    "from sklearn.neural_network import MLPRegressor\n",
    "from sklearn.metrics import mean_squared_error\n",
    "\n",
    "import matplotlib.pyplot as plt"
   ]
  },
  {
   "cell_type": "code",
   "execution_count": 18,
   "metadata": {},
   "outputs": [],
   "source": [
    "domain_index = pd.read_csv('../02_data/data_archive/raphaela/lasser/domain_pc1.csv')\n",
    "chat_index = np.load('../02_data/telegram/telegram/chat_index.npy')\n",
    "urls_sample = pd.read_csv('../02_data/url_sample_with_titles.csv')"
   ]
  },
  {
   "cell_type": "code",
   "execution_count": 7,
   "metadata": {},
   "outputs": [],
   "source": [
    "# urls = pd.read_csv('../02_data/urls_with_titles.csv')"
   ]
  },
  {
   "cell_type": "code",
   "execution_count": 19,
   "metadata": {},
   "outputs": [
    {
     "name": "stdout",
     "output_type": "stream",
     "text": [
      "Chat Index Shape: (27592,)\n",
      "         id                                                url  \\\n",
      "0  31404053  https://www.indiatoday.in/india/story/wrestler...   \n",
      "1  52148717  https://bigota.d.miui.com/V13.0.3.0.SKGINXM/mi...   \n",
      "2  18230339  https://www.washingtonpost.com/religion/2019/0...   \n",
      "3  25932375  https://www.news24.com/fin24/companies/mining/...   \n",
      "4  22284125  https://www.aljazeera.com/economy/2021/7/15/us...   \n",
      "\n",
      "                   start_date                    end_date  \\\n",
      "0  2023-05-04 09:33:21.000000  2023-05-04 09:33:21.000000   \n",
      "1  2022-09-09 03:09:19.000000  2022-09-09 03:09:19.000000   \n",
      "2  2019-05-02 03:59:48.000000  2019-05-03 17:27:26.000000   \n",
      "3  2021-09-21 06:12:02.000000  2021-09-21 06:12:02.000000   \n",
      "4  2021-07-15 23:08:07.000000  2021-07-15 23:08:07.000000   \n",
      "\n",
      "                                               title  \n",
      "0  wrestlers protest vinesh phogat emotional prot...  \n",
      "1  miui blockota mojito in global V13.0.2.0.SKGIN...  \n",
      "2  alleged synagogue shooter was churchgoer who a...  \n",
      "3  mining meltdown anglo loses r40bn in a single ...  \n",
      "4  us jobless claims hit pandemic low as firms sc...  \n"
     ]
    }
   ],
   "source": [
    "print(\"Chat Index Shape:\", chat_index.shape)\n",
    "print(urls_sample.head())"
   ]
  },
  {
   "cell_type": "code",
   "execution_count": 20,
   "metadata": {},
   "outputs": [
    {
     "data": {
      "image/png": "[encoded data removed]",
      "text/plain": [
       "<Figure size 1000x600 with 1 Axes>"
      ]
     },
     "metadata": {},
     "output_type": "display_data"
    },
    {
     "name": "stdout",
     "output_type": "stream",
     "text": [
      "Top 5 rows with the highest pc1 scores:\n",
      "                 domain       pc1\n",
      "0           reuters.com  1.000000\n",
      "1            apnews.com  0.998049\n",
      "2  charitynavigator.org  0.985752\n",
      "3          rollcall.com  0.982851\n",
      "4    smithsonianmag.com  0.971184\n",
      "\n",
      "Bottom 5 rows with the lowest pc1 scores:\n",
      "                domain       pc1\n",
      "11519  naturalnews.com  0.000000\n",
      "11518    worldtruth.tv  0.017644\n",
      "11517    davidicke.com  0.041614\n",
      "11516    pandemic.news  0.043817\n",
      "11513        rense.com  0.044752\n"
     ]
    }
   ],
   "source": [
    "# Plot the distribution of the 'pc1' column\n",
    "plt.figure(figsize=(10, 6))\n",
    "plt.hist(domain_index['pc1'], bins=30, color='blue', alpha=0.7)\n",
    "plt.title('Distribution of pc1')\n",
    "plt.xlabel('pc1')\n",
    "plt.ylabel('Frequency')\n",
    "plt.grid(axis='y')\n",
    "plt.show()\n",
    "\n",
    "# Show the row with the highest 'pc1' score\n",
    "highest_scores = domain_index.nlargest(5, 'pc1')\n",
    "print(\"Top 5 rows with the highest pc1 scores:\")\n",
    "print(highest_scores)\n",
    "\n",
    "# Show the 5 rows with the lowest 'pc1' scores\n",
    "lowest_scores = domain_index.nsmallest(5, 'pc1')\n",
    "print(\"\\nBottom 5 rows with the lowest pc1 scores:\")\n",
    "print(lowest_scores)\n"
   ]
  },
  {
   "cell_type": "code",
   "execution_count": 21,
   "metadata": {},
   "outputs": [
    {
     "name": "stdout",
     "output_type": "stream",
     "text": [
      "URLs Sample with Domain:\n",
      "          id                                                url  \\\n",
      "0  31404053  https://www.indiatoday.in/india/story/wrestler...   \n",
      "1  52148717  https://bigota.d.miui.com/V13.0.3.0.SKGINXM/mi...   \n",
      "2  18230339  https://www.washingtonpost.com/religion/2019/0...   \n",
      "3  25932375  https://www.news24.com/fin24/companies/mining/...   \n",
      "4  22284125  https://www.aljazeera.com/economy/2021/7/15/us...   \n",
      "\n",
      "                   start_date                    end_date  \\\n",
      "0  2023-05-04 09:33:21.000000  2023-05-04 09:33:21.000000   \n",
      "1  2022-09-09 03:09:19.000000  2022-09-09 03:09:19.000000   \n",
      "2  2019-05-02 03:59:48.000000  2019-05-03 17:27:26.000000   \n",
      "3  2021-09-21 06:12:02.000000  2021-09-21 06:12:02.000000   \n",
      "4  2021-07-15 23:08:07.000000  2021-07-15 23:08:07.000000   \n",
      "\n",
      "                                               title                  domain  \n",
      "0  wrestlers protest vinesh phogat emotional prot...       www.indiatoday.in  \n",
      "1  miui blockota mojito in global V13.0.2.0.SKGIN...       bigota.d.miui.com  \n",
      "2  alleged synagogue shooter was churchgoer who a...  www.washingtonpost.com  \n",
      "3  mining meltdown anglo loses r40bn in a single ...          www.news24.com  \n",
      "4  us jobless claims hit pandemic low as firms sc...       www.aljazeera.com  \n"
     ]
    }
   ],
   "source": [
    "# Extract domain from URL \n",
    "def extract_domain(url):\n",
    "    try:\n",
    "        parsed_url = urlparse(url)\n",
    "        return parsed_url.netloc\n",
    "    except Exception as e:\n",
    "        print(f\"Error parsing URL: {url} - {e}\")\n",
    "        return None\n",
    "\n",
    "# Apply the function to extract the domain and handle any errors\n",
    "urls_sample['domain'] = urls_sample['url'].apply(extract_domain)\n",
    "\n",
    "# Display the first few rows with the extracted domain\n",
    "print(\"URLs Sample with Domain:\\n\", urls_sample.head())"
   ]
  },
  {
   "cell_type": "code",
   "execution_count": 22,
   "metadata": {},
   "outputs": [
    {
     "name": "stdout",
     "output_type": "stream",
     "text": [
      "         id                                                url  \\\n",
      "0  16813965  https://rumble.com/v11uxz5-president-trump-bus...   \n",
      "1   8937464  https://gender.news/2019-05-22-democrats-passa...   \n",
      "2  12896181  https://amgreatness.com/2022/06/28/top-gun-mav...   \n",
      "3  19933646  https://nypost.com/2023/01/06/passenger-hauled...   \n",
      "4  10915134  https://nypost.com/2023/06/21/former-nfl-steel...   \n",
      "\n",
      "                   start_date                    end_date  \\\n",
      "0  2022-04-22 07:29:05.000000  2022-04-22 07:29:05.000000   \n",
      "1  2019-06-18 05:40:34.000000  2019-06-18 05:40:34.000000   \n",
      "2  2022-06-29 18:03:58.000000  2023-08-21 20:27:56.389222   \n",
      "3  2023-01-06 19:34:07.000000  2023-01-06 19:34:07.000000   \n",
      "4  2023-06-21 07:35:00.000000  2023-08-29 17:08:37.212656   \n",
      "\n",
      "                                               title           domain  \\\n",
      "0  v11uxz5 president trump busted piers morgan. m...       rumble.com   \n",
      "1  2019 05 22 democrats passage of equality act a...      gender.news   \n",
      "2                  top gun maverick a boomer fantasy  amgreatness.com   \n",
      "3  passenger hauled of air canada flight after al...       nypost.com   \n",
      "4  former nfl steelers linebacker clark haggans d...       nypost.com   \n",
      "\n",
      "        pc1  \n",
      "0  0.162506  \n",
      "1  0.211351  \n",
      "2  0.388267  \n",
      "3  0.638970  \n",
      "4  0.638970  \n"
     ]
    }
   ],
   "source": [
    "# Step 2: Match domains with domain_index\n",
    "urls_sample = pd.merge(urls_sample, domain_index, on='domain', how='inner')\n",
    "\n",
    "# Display the first few rows of the merged DataFrame\n",
    "print(urls_sample.head())\n",
    "\n",
    "# Drop rows where the domain was not found in domain_index\n",
    "urls_sample.dropna(subset=['pc1'], inplace=True)"
   ]
  },
  {
   "cell_type": "code",
   "execution_count": 23,
   "metadata": {},
   "outputs": [],
   "source": [
    "# Assuming chat_index corresponds to rows in urls_sample, add it to the DataFrame - this is RANDOM\n",
    "urls_sample['chat_idx'] = chat_index[:len(urls_sample)]"
   ]
  },
  {
   "cell_type": "code",
   "execution_count": 24,
   "metadata": {},
   "outputs": [],
   "source": [
    "urls_sample['start_date'] = pd.to_datetime(urls_sample['start_date'])\n",
    "\n",
    "urls_sample['start_year'] = urls_sample['start_date'].dt.year\n",
    "urls_sample['start_month'] = urls_sample['start_date'].dt.month\n",
    "urls_sample['start_day'] = urls_sample['start_date'].dt.day\n",
    "urls_sample['start_hour'] = urls_sample['start_date'].dt.hour"
   ]
  },
  {
   "cell_type": "code",
   "execution_count": 25,
   "metadata": {},
   "outputs": [
    {
     "data": {
      "text/html": [
       "<div>\n",
       "<style scoped>\n",
       "    .dataframe tbody tr th:only-of-type {\n",
       "        vertical-align: middle;\n",
       "    }\n",
       "\n",
       "    .dataframe tbody tr th {\n",
       "        vertical-align: top;\n",
       "    }\n",
       "\n",
       "    .dataframe thead th {\n",
       "        text-align: right;\n",
       "    }\n",
       "</style>\n",
       "<table border=\"1\" class=\"dataframe\">\n",
       "  <thead>\n",
       "    <tr style=\"text-align: right;\">\n",
       "      <th></th>\n",
       "      <th>id</th>\n",
       "      <th>url</th>\n",
       "      <th>start_date</th>\n",
       "      <th>end_date</th>\n",
       "      <th>title</th>\n",
       "      <th>domain</th>\n",
       "      <th>pc1</th>\n",
       "      <th>chat_idx</th>\n",
       "      <th>start_year</th>\n",
       "      <th>start_month</th>\n",
       "      <th>start_day</th>\n",
       "      <th>start_hour</th>\n",
       "    </tr>\n",
       "  </thead>\n",
       "  <tbody>\n",
       "    <tr>\n",
       "      <th>0</th>\n",
       "      <td>16813965</td>\n",
       "      <td>https://rumble.com/v11uxz5-president-trump-bus...</td>\n",
       "      <td>2022-04-22 07:29:05</td>\n",
       "      <td>2022-04-22 07:29:05.000000</td>\n",
       "      <td>v11uxz5 president trump busted piers morgan. m...</td>\n",
       "      <td>rumble.com</td>\n",
       "      <td>0.162506</td>\n",
       "      <td>65541</td>\n",
       "      <td>2022</td>\n",
       "      <td>4</td>\n",
       "      <td>22</td>\n",
       "      <td>7</td>\n",
       "    </tr>\n",
       "    <tr>\n",
       "      <th>1</th>\n",
       "      <td>8937464</td>\n",
       "      <td>https://gender.news/2019-05-22-democrats-passa...</td>\n",
       "      <td>2019-06-18 05:40:34</td>\n",
       "      <td>2019-06-18 05:40:34.000000</td>\n",
       "      <td>2019 05 22 democrats passage of equality act a...</td>\n",
       "      <td>gender.news</td>\n",
       "      <td>0.211351</td>\n",
       "      <td>196615</td>\n",
       "      <td>2019</td>\n",
       "      <td>6</td>\n",
       "      <td>18</td>\n",
       "      <td>5</td>\n",
       "    </tr>\n",
       "    <tr>\n",
       "      <th>2</th>\n",
       "      <td>12896181</td>\n",
       "      <td>https://amgreatness.com/2022/06/28/top-gun-mav...</td>\n",
       "      <td>2022-06-29 18:03:58</td>\n",
       "      <td>2023-08-21 20:27:56.389222</td>\n",
       "      <td>top gun maverick a boomer fantasy</td>\n",
       "      <td>amgreatness.com</td>\n",
       "      <td>0.388267</td>\n",
       "      <td>196616</td>\n",
       "      <td>2022</td>\n",
       "      <td>6</td>\n",
       "      <td>29</td>\n",
       "      <td>18</td>\n",
       "    </tr>\n",
       "    <tr>\n",
       "      <th>3</th>\n",
       "      <td>19933646</td>\n",
       "      <td>https://nypost.com/2023/01/06/passenger-hauled...</td>\n",
       "      <td>2023-01-06 19:34:07</td>\n",
       "      <td>2023-01-06 19:34:07.000000</td>\n",
       "      <td>passenger hauled of air canada flight after al...</td>\n",
       "      <td>nypost.com</td>\n",
       "      <td>0.638970</td>\n",
       "      <td>65544</td>\n",
       "      <td>2023</td>\n",
       "      <td>1</td>\n",
       "      <td>6</td>\n",
       "      <td>19</td>\n",
       "    </tr>\n",
       "    <tr>\n",
       "      <th>4</th>\n",
       "      <td>10915134</td>\n",
       "      <td>https://nypost.com/2023/06/21/former-nfl-steel...</td>\n",
       "      <td>2023-06-21 07:35:00</td>\n",
       "      <td>2023-08-29 17:08:37.212656</td>\n",
       "      <td>former nfl steelers linebacker clark haggans d...</td>\n",
       "      <td>nypost.com</td>\n",
       "      <td>0.638970</td>\n",
       "      <td>196617</td>\n",
       "      <td>2023</td>\n",
       "      <td>6</td>\n",
       "      <td>21</td>\n",
       "      <td>7</td>\n",
       "    </tr>\n",
       "    <tr>\n",
       "      <th>...</th>\n",
       "      <td>...</td>\n",
       "      <td>...</td>\n",
       "      <td>...</td>\n",
       "      <td>...</td>\n",
       "      <td>...</td>\n",
       "      <td>...</td>\n",
       "      <td>...</td>\n",
       "      <td>...</td>\n",
       "      <td>...</td>\n",
       "      <td>...</td>\n",
       "      <td>...</td>\n",
       "      <td>...</td>\n",
       "    </tr>\n",
       "    <tr>\n",
       "      <th>5190</th>\n",
       "      <td>3849445</td>\n",
       "      <td>https://gript.ie/on-this-day-22-january-1925-b...</td>\n",
       "      <td>2022-01-22 12:12:39</td>\n",
       "      <td>2023-06-02 04:42:19.071467</td>\n",
       "      <td>on this day 22 january 1925 birth of raymond c...</td>\n",
       "      <td>gript.ie</td>\n",
       "      <td>0.326155</td>\n",
       "      <td>277953</td>\n",
       "      <td>2022</td>\n",
       "      <td>1</td>\n",
       "      <td>22</td>\n",
       "      <td>12</td>\n",
       "    </tr>\n",
       "    <tr>\n",
       "      <th>5191</th>\n",
       "      <td>5278095</td>\n",
       "      <td>https://thefederalist.com/2022/09/15/l-a-schoo...</td>\n",
       "      <td>2022-09-15 13:59:18</td>\n",
       "      <td>2022-09-15 13:59:18.000000</td>\n",
       "      <td>?utm source=rss&amp;utm medium=rss&amp;utm campaign=l ...</td>\n",
       "      <td>thefederalist.com</td>\n",
       "      <td>0.257333</td>\n",
       "      <td>146887</td>\n",
       "      <td>2022</td>\n",
       "      <td>9</td>\n",
       "      <td>15</td>\n",
       "      <td>13</td>\n",
       "    </tr>\n",
       "    <tr>\n",
       "      <th>5192</th>\n",
       "      <td>17078374</td>\n",
       "      <td>http://feeds.foxnews.com/~r/foxnews/world/~3/b...</td>\n",
       "      <td>2021-05-25 16:37:58</td>\n",
       "      <td>2021-05-25 16:37:58.000000</td>\n",
       "      <td>congo volcano eruption death toll</td>\n",
       "      <td>feeds.foxnews.com</td>\n",
       "      <td>0.587644</td>\n",
       "      <td>15820</td>\n",
       "      <td>2021</td>\n",
       "      <td>5</td>\n",
       "      <td>25</td>\n",
       "      <td>16</td>\n",
       "    </tr>\n",
       "    <tr>\n",
       "      <th>5193</th>\n",
       "      <td>1911447</td>\n",
       "      <td>https://nationalfile.com/pennsylvania-gop-esta...</td>\n",
       "      <td>2022-09-25 21:18:59</td>\n",
       "      <td>2023-07-25 12:30:15.280887</td>\n",
       "      <td>pennsylvania gop establishment fundraises for ...</td>\n",
       "      <td>nationalfile.com</td>\n",
       "      <td>0.118408</td>\n",
       "      <td>277965</td>\n",
       "      <td>2022</td>\n",
       "      <td>9</td>\n",
       "      <td>25</td>\n",
       "      <td>21</td>\n",
       "    </tr>\n",
       "    <tr>\n",
       "      <th>5194</th>\n",
       "      <td>5280834</td>\n",
       "      <td>https://thefederalist.com/2021/12/22/the-corpo...</td>\n",
       "      <td>2021-12-22 13:48:41</td>\n",
       "      <td>2021-12-22 13:48:41.000000</td>\n",
       "      <td>?utm source=rss&amp;utm medium=rss&amp;utm campaign=th...</td>\n",
       "      <td>thefederalist.com</td>\n",
       "      <td>0.257333</td>\n",
       "      <td>15822</td>\n",
       "      <td>2021</td>\n",
       "      <td>12</td>\n",
       "      <td>22</td>\n",
       "      <td>13</td>\n",
       "    </tr>\n",
       "  </tbody>\n",
       "</table>\n",
       "<p>5195 rows × 12 columns</p>\n",
       "</div>"
      ],
      "text/plain": [
       "            id                                                url  \\\n",
       "0     16813965  https://rumble.com/v11uxz5-president-trump-bus...   \n",
       "1      8937464  https://gender.news/2019-05-22-democrats-passa...   \n",
       "2     12896181  https://amgreatness.com/2022/06/28/top-gun-mav...   \n",
       "3     19933646  https://nypost.com/2023/01/06/passenger-hauled...   \n",
       "4     10915134  https://nypost.com/2023/06/21/former-nfl-steel...   \n",
       "...        ...                                                ...   \n",
       "5190   3849445  https://gript.ie/on-this-day-22-january-1925-b...   \n",
       "5191   5278095  https://thefederalist.com/2022/09/15/l-a-schoo...   \n",
       "5192  17078374  http://feeds.foxnews.com/~r/foxnews/world/~3/b...   \n",
       "5193   1911447  https://nationalfile.com/pennsylvania-gop-esta...   \n",
       "5194   5280834  https://thefederalist.com/2021/12/22/the-corpo...   \n",
       "\n",
       "              start_date                    end_date  \\\n",
       "0    2022-04-22 07:29:05  2022-04-22 07:29:05.000000   \n",
       "1    2019-06-18 05:40:34  2019-06-18 05:40:34.000000   \n",
       "2    2022-06-29 18:03:58  2023-08-21 20:27:56.389222   \n",
       "3    2023-01-06 19:34:07  2023-01-06 19:34:07.000000   \n",
       "4    2023-06-21 07:35:00  2023-08-29 17:08:37.212656   \n",
       "...                  ...                         ...   \n",
       "5190 2022-01-22 12:12:39  2023-06-02 04:42:19.071467   \n",
       "5191 2022-09-15 13:59:18  2022-09-15 13:59:18.000000   \n",
       "5192 2021-05-25 16:37:58  2021-05-25 16:37:58.000000   \n",
       "5193 2022-09-25 21:18:59  2023-07-25 12:30:15.280887   \n",
       "5194 2021-12-22 13:48:41  2021-12-22 13:48:41.000000   \n",
       "\n",
       "                                                  title             domain  \\\n",
       "0     v11uxz5 president trump busted piers morgan. m...         rumble.com   \n",
       "1     2019 05 22 democrats passage of equality act a...        gender.news   \n",
       "2                     top gun maverick a boomer fantasy    amgreatness.com   \n",
       "3     passenger hauled of air canada flight after al...         nypost.com   \n",
       "4     former nfl steelers linebacker clark haggans d...         nypost.com   \n",
       "...                                                 ...                ...   \n",
       "5190  on this day 22 january 1925 birth of raymond c...           gript.ie   \n",
       "5191  ?utm source=rss&utm medium=rss&utm campaign=l ...  thefederalist.com   \n",
       "5192                  congo volcano eruption death toll  feeds.foxnews.com   \n",
       "5193  pennsylvania gop establishment fundraises for ...   nationalfile.com   \n",
       "5194  ?utm source=rss&utm medium=rss&utm campaign=th...  thefederalist.com   \n",
       "\n",
       "           pc1  chat_idx  start_year  start_month  start_day  start_hour  \n",
       "0     0.162506     65541        2022            4         22           7  \n",
       "1     0.211351    196615        2019            6         18           5  \n",
       "2     0.388267    196616        2022            6         29          18  \n",
       "3     0.638970     65544        2023            1          6          19  \n",
       "4     0.638970    196617        2023            6         21           7  \n",
       "...        ...       ...         ...          ...        ...         ...  \n",
       "5190  0.326155    277953        2022            1         22          12  \n",
       "5191  0.257333    146887        2022            9         15          13  \n",
       "5192  0.587644     15820        2021            5         25          16  \n",
       "5193  0.118408    277965        2022            9         25          21  \n",
       "5194  0.257333     15822        2021           12         22          13  \n",
       "\n",
       "[5195 rows x 12 columns]"
      ]
     },
     "execution_count": 25,
     "metadata": {},
     "output_type": "execute_result"
    }
   ],
   "source": [
    "urls_sample"
   ]
  },
  {
   "cell_type": "code",
   "execution_count": null,
   "metadata": {},
   "outputs": [
    {
     "name": "stderr",
     "output_type": "stream",
     "text": [
      "C:\\Users\\Raphaela\\AppData\\Local\\Packages\\PythonSoftwareFoundation.Python.3.11_qbz5n2kfra8p0\\LocalCache\\local-packages\\Python311\\site-packages\\sentence_transformers\\cross_encoder\\CrossEncoder.py:13: TqdmExperimentalWarning: Using `tqdm.autonotebook.tqdm` in notebook mode. Use `tqdm.tqdm` instead to force console mode (e.g. in jupyter console)\n",
      "  from tqdm.autonotebook import tqdm, trange\n"
     ]
    },
    {
     "data": {
      "application/vnd.jupyter.widget-view+json": {
       "model_id": "39f5024ffd0c4458bbed00881580c0da",
       "version_major": 2,
       "version_minor": 0
      },
      "text/plain": [
       "modules.json:   0%|          | 0.00/349 [00:00<?, ?B/s]"
      ]
     },
     "metadata": {},
     "output_type": "display_data"
    },
    {
     "name": "stderr",
     "output_type": "stream",
     "text": [
      "C:\\Users\\Raphaela\\AppData\\Local\\Packages\\PythonSoftwareFoundation.Python.3.11_qbz5n2kfra8p0\\LocalCache\\local-packages\\Python311\\site-packages\\huggingface_hub\\file_download.py:139: UserWarning: `huggingface_hub` cache-system uses symlinks by default to efficiently store duplicated files but your machine does not support them in C:\\Users\\Raphaela\\.cache\\huggingface\\hub\\models--sentence-transformers--all-MiniLM-L6-v2. Caching files will still work but in a degraded version that might require more space on your disk. This warning can be disabled by setting the `HF_HUB_DISABLE_SYMLINKS_WARNING` environment variable. For more details, see https://huggingface.co/docs/huggingface_hub/how-to-cache#limitations.\n",
      "To support symlinks on Windows, you either need to activate Developer Mode or to run Python as an administrator. In order to activate developer mode, see this article: https://docs.microsoft.com/en-us/windows/apps/get-started/enable-your-device-for-development\n",
      "  warnings.warn(message)\n"
     ]
    },
    {
     "data": {
      "application/vnd.jupyter.widget-view+json": {
       "model_id": "f2ca7ad759754328b5a5d731839b54fd",
       "version_major": 2,
       "version_minor": 0
      },
      "text/plain": [
       "config_sentence_transformers.json:   0%|          | 0.00/116 [00:00<?, ?B/s]"
      ]
     },
     "metadata": {},
     "output_type": "display_data"
    },
    {
     "data": {
      "application/vnd.jupyter.widget-view+json": {
       "model_id": "1d7df5268d5e4167a988e3547812846e",
       "version_major": 2,
       "version_minor": 0
      },
      "text/plain": [
       "README.md:   0%|          | 0.00/10.7k [00:00<?, ?B/s]"
      ]
     },
     "metadata": {},
     "output_type": "display_data"
    },
    {
     "data": {
      "application/vnd.jupyter.widget-view+json": {
       "model_id": "0b1922ca087243efadf1d1141f0945ea",
       "version_major": 2,
       "version_minor": 0
      },
      "text/plain": [
       "sentence_bert_config.json:   0%|          | 0.00/53.0 [00:00<?, ?B/s]"
      ]
     },
     "metadata": {},
     "output_type": "display_data"
    },
    {
     "data": {
      "application/vnd.jupyter.widget-view+json": {
       "model_id": "7727f380f54043d5b40bb28b2bfdbc16",
       "version_major": 2,
       "version_minor": 0
      },
      "text/plain": [
       "config.json:   0%|          | 0.00/612 [00:00<?, ?B/s]"
      ]
     },
     "metadata": {},
     "output_type": "display_data"
    },
    {
     "data": {
      "application/vnd.jupyter.widget-view+json": {
       "model_id": "4fb26d045864455caee22843ec1d34d8",
       "version_major": 2,
       "version_minor": 0
      },
      "text/plain": [
       "model.safetensors:   0%|          | 0.00/90.9M [00:00<?, ?B/s]"
      ]
     },
     "metadata": {},
     "output_type": "display_data"
    },
    {
     "data": {
      "application/vnd.jupyter.widget-view+json": {
       "model_id": "b921469ae4b6476787617ec21af2f791",
       "version_major": 2,
       "version_minor": 0
      },
      "text/plain": [
       "tokenizer_config.json:   0%|          | 0.00/350 [00:00<?, ?B/s]"
      ]
     },
     "metadata": {},
     "output_type": "display_data"
    },
    {
     "data": {
      "application/vnd.jupyter.widget-view+json": {
       "model_id": "97b4d126211f45d598823f9febfd922d",
       "version_major": 2,
       "version_minor": 0
      },
      "text/plain": [
       "vocab.txt:   0%|          | 0.00/232k [00:00<?, ?B/s]"
      ]
     },
     "metadata": {},
     "output_type": "display_data"
    },
    {
     "data": {
      "application/vnd.jupyter.widget-view+json": {
       "model_id": "64b426f94e894a79b01e969e647d0158",
       "version_major": 2,
       "version_minor": 0
      },
      "text/plain": [
       "tokenizer.json:   0%|          | 0.00/466k [00:00<?, ?B/s]"
      ]
     },
     "metadata": {},
     "output_type": "display_data"
    },
    {
     "data": {
      "application/vnd.jupyter.widget-view+json": {
       "model_id": "716a795dcc2d45f1b985068d2c5b380f",
       "version_major": 2,
       "version_minor": 0
      },
      "text/plain": [
       "special_tokens_map.json:   0%|          | 0.00/112 [00:00<?, ?B/s]"
      ]
     },
     "metadata": {},
     "output_type": "display_data"
    },
    {
     "data": {
      "application/vnd.jupyter.widget-view+json": {
       "model_id": "3774704f40b345a8b67d00738557916d",
       "version_major": 2,
       "version_minor": 0
      },
      "text/plain": [
       "1_Pooling/config.json:   0%|          | 0.00/190 [00:00<?, ?B/s]"
      ]
     },
     "metadata": {},
     "output_type": "display_data"
    }
   ],
   "source": [
    "from sentence_transformers import SentenceTransformer\n",
    "\n",
    "# Load the pre-trained model for generating embeddings\n",
    "model = SentenceTransformer('all-MiniLM-L6-v2')  \n",
    "\n",
    "# Convert the title column to embeddings\n",
    "urls_sample['title_embedding'] = urls_sample['title'].apply(lambda x: model.encode(str(x)))"
   ]
  },
  {
   "cell_type": "code",
   "execution_count": 9,
   "metadata": {},
   "outputs": [],
   "source": [
    "# Step 3: Combine Features\n",
    "# Use the domain index and chat index as features\n",
    "# Extract the features for the MLP (concatenate start_year and title embedding)\n",
    "X = urls_sample.apply(lambda row: [row['start_year']] + list(row['title_embedding']), axis=1).tolist()\n",
    "\n",
    "# Convert the list of lists into a numpy array for training the MLP\n",
    "X = np.array(X)\n",
    "\n",
    "# Display the shape of the input features\n",
    "print(X.shape)\n",
    "\n",
    "#X = urls_sample[['start_year', 'chat_idx']].values\n",
    "y = urls_sample['pc1'].values  "
   ]
  },
  {
   "cell_type": "code",
   "execution_count": 10,
   "metadata": {},
   "outputs": [
    {
     "name": "stdout",
     "output_type": "stream",
     "text": [
      "Mean Squared Error: 3295279.7737017632\n",
      "Predictions vs Actual:\n",
      "      Predicted  Actual\n",
      "0  1457.877087   280.0\n",
      "1  1434.203992   174.0\n",
      "2  1533.773000  1248.0\n",
      "3  1443.256572  1274.0\n",
      "4  1683.800110   174.0\n"
     ]
    }
   ],
   "source": [
    "# Step 4: Train an MLP Model\n",
    "# Split the data into training and testing sets\n",
    "X_train, X_test, y_train, y_test = train_test_split(X, y, test_size=0.2, random_state=42)\n",
    "\n",
    "# Initialize and train the MLP regressor\n",
    "mlp = MLPRegressor(hidden_layer_sizes=(64, 32), activation='relu', solver='adam', max_iter=500, random_state=42)\n",
    "mlp.fit(X_train, y_train)\n",
    "\n",
    "# Make predictions\n",
    "y_pred = mlp.predict(X_test)\n",
    "\n",
    "# Evaluate the model\n",
    "mse = mean_squared_error(y_test, y_pred)\n",
    "print(f'Mean Squared Error: {mse}')\n",
    "\n",
    "# Display the first few predictions\n",
    "print(\"Predictions vs Actual:\\n\", pd.DataFrame({'Predicted': y_pred[:5], 'Actual': y_test[:5]}))\n",
    "\n",
    "from sklearn.metrics import r2_score\n",
    "\n",
    "# Calculate R² for the model\n",
    "r2 = r2_score(y_test, y_pred)\n",
    "print(f'R² Score: {r2}')"
   ]
  }
 ],
 "metadata": {
  "kernelspec": {
   "display_name": "Python 3",
   "language": "python",
   "name": "python3"
  },
  "language_info": {
   "codemirror_mode": {
    "name": "ipython",
    "version": 3
   },
   "file_extension": ".py",
   "mimetype": "text/x-python",
   "name": "python",
   "nbconvert_exporter": "python",
   "pygments_lexer": "ipython3",
   "version": "3.11.9"
  }
 },
 "nbformat": 4,
 "nbformat_minor": 2
}
